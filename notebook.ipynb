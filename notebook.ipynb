{
 "cells": [
  {
   "cell_type": "markdown",
   "id": "cb8e7e8c",
   "metadata": {},
   "source": [
    "# Flights Price Analysis \n",
    "\n",
    "The goal of this notebook is to run some analysis on a dataset that contains one-way flights found on Expedia between 2022-04-16 and 2022-10-05 (you can find it at this [link](https://www.kaggle.com/datasets/dilwong/flightprices))."
   ]
  },
  {
   "cell_type": "code",
   "execution_count": 1,
   "id": "6c4ec14c",
   "metadata": {
    "scrolled": false
   },
   "outputs": [
    {
     "data": {
      "text/html": [
       "Current session configs: <tt>{'executorMemory': '8G', 'numExecutors': 2, 'executorCores': 3, 'conf': {'spark.dynamicAllocation.enabled': 'false'}, 'proxyUser': 'assumed-role_voclabs_user2193273_Veronika_Folin', 'kind': 'spark'}</tt><br>"
      ],
      "text/plain": [
       "<IPython.core.display.HTML object>"
      ]
     },
     "metadata": {},
     "output_type": "display_data"
    },
    {
     "data": {
      "text/html": [
       "No active sessions."
      ],
      "text/plain": [
       "<IPython.core.display.HTML object>"
      ]
     },
     "metadata": {},
     "output_type": "display_data"
    }
   ],
   "source": [
    "%%configure -f\n",
    "{\"executorMemory\":\"8G\", \"numExecutors\":2, \"executorCores\":3, \"conf\": {\"spark.dynamicAllocation.enabled\": \"false\"}}"
   ]
  },
  {
   "cell_type": "code",
   "execution_count": 2,
   "id": "885fe425",
   "metadata": {
    "scrolled": false
   },
   "outputs": [
    {
     "data": {
      "application/vnd.jupyter.widget-view+json": {
       "model_id": "dfc86314a7fa4b52b3f5cc6e94062476",
       "version_major": 2,
       "version_minor": 0
      },
      "text/plain": [
       "VBox()"
      ]
     },
     "metadata": {},
     "output_type": "display_data"
    },
    {
     "name": "stdout",
     "output_type": "stream",
     "text": [
      "Starting Spark application\n"
     ]
    },
    {
     "data": {
      "text/html": [
       "<table>\n",
       "<tr><th>ID</th><th>YARN Application ID</th><th>Kind</th><th>State</th><th>Spark UI</th><th>Driver log</th><th>User</th><th>Current session?</th></tr><tr><td>3</td><td>application_1678803017301_0004</td><td>spark</td><td>idle</td><td><a target=\"_blank\" href=\"http://ip-172-31-32-232.ec2.internal:20888/proxy/application_1678803017301_0004/\" class=\"emr-proxy-link\" emr-resource=\"j-2PCDPDGCTK8A3\n",
       "\" application-id=\"application_1678803017301_0004\">Link</a></td><td><a target=\"_blank\" href=\"http://ip-172-31-34-252.ec2.internal:8042/node/containerlogs/container_1678803017301_0004_01_000001/livy\" >Link</a></td><td>None</td><td>✔</td></tr></table>"
      ],
      "text/plain": [
       "<IPython.core.display.HTML object>"
      ]
     },
     "metadata": {},
     "output_type": "display_data"
    },
    {
     "data": {
      "application/vnd.jupyter.widget-view+json": {
       "model_id": "",
       "version_major": 2,
       "version_minor": 0
      },
      "text/plain": [
       "FloatProgress(value=0.0, bar_style='info', description='Progress:', layout=Layout(height='25px', width='50%'),…"
      ]
     },
     "metadata": {},
     "output_type": "display_data"
    },
    {
     "name": "stdout",
     "output_type": "stream",
     "text": [
      "SparkSession available as 'spark'.\n"
     ]
    },
    {
     "data": {
      "application/vnd.jupyter.widget-view+json": {
       "model_id": "",
       "version_major": 2,
       "version_minor": 0
      },
      "text/plain": [
       "FloatProgress(value=0.0, bar_style='info', description='Progress:', layout=Layout(height='25px', width='50%'),…"
      ]
     },
     "metadata": {},
     "output_type": "display_data"
    },
    {
     "name": "stdout",
     "output_type": "stream",
     "text": [
      "bucketname: String = unibo-bd2223-vfolin\n"
     ]
    }
   ],
   "source": [
    "val bucketname = \"unibo-bd2223-vfolin\""
   ]
  },
  {
   "cell_type": "markdown",
   "id": "ee7bafc0",
   "metadata": {},
   "source": [
    "## Data Preparation\n",
    "\n",
    "The following columns will be kept and created:\n",
    "- flightID: Identifier for the flight.\n",
    "- searchDate: Date the record was obtained from Expedia.\n",
    "- searchMonth: Month the record was obtained from Expedia.\n",
    "- searchDay: Day the record was obtained from Expedia.\n",
    "- flightDate: The date of the flight.\n",
    "- flightMonth: The month of the flight.\n",
    "- flightDay: The day of the flight.\n",
    "- startingAirport: 3-letter code for the starting airport.\n",
    "- destinationAirport: 3-letter code for the destination airport.\n",
    "- duration: Travel duration in minutes.\n",
    "- isEconomy: Is basic economy?\n",
    "- isRefundable: Is the ticket refundable?\n",
    "- isNonStop: Is the flight non-stop?\n",
    "- baseFare: Price of the ticket (not including taxes).\n",
    "- totalFare: Price of the ticket, including taxes and fees.\n",
    "- seatsRemaining: Number of remaining seats.\n",
    "- travelDistance: The total travel distance in miles."
   ]
  },
  {
   "cell_type": "code",
   "execution_count": 3,
   "id": "01b7adc5",
   "metadata": {
    "scrolled": true
   },
   "outputs": [
    {
     "data": {
      "application/vnd.jupyter.widget-view+json": {
       "model_id": "3cd7b5b9b2934c218ca00cd2d2fa253c",
       "version_major": 2,
       "version_minor": 0
      },
      "text/plain": [
       "VBox()"
      ]
     },
     "metadata": {},
     "output_type": "display_data"
    },
    {
     "data": {
      "application/vnd.jupyter.widget-view+json": {
       "model_id": "",
       "version_major": 2,
       "version_minor": 0
      },
      "text/plain": [
       "FloatProgress(value=0.0, bar_style='info', description='Progress:', layout=Layout(height='25px', width='50%'),…"
      ]
     },
     "metadata": {},
     "output_type": "display_data"
    },
    {
     "name": "stdout",
     "output_type": "stream",
     "text": [
      "defined class FlightData\n",
      "defined object FlightData\n",
      "warning: previously defined class FlightData is not a companion to object FlightData.\n",
      "Companions must be defined together; you may wish to use :paste mode for this.\n",
      "rdd: org.apache.spark.rdd.RDD[String] = s3a://unibo-bd2223-vfolin/datasets/itineraries.csv MapPartitionsRDD[1] at textFile at <console>:29\n",
      "header: String = legId,searchDate,flightDate,startingAirport,destinationAirport,fareBasisCode,travelDuration,elapsedDays,isBasicEconomy,isRefundable,isNonStop,baseFare,totalFare,seatsRemaining,totalTravelDistance,segmentsDepartureTimeEpochSeconds,segmentsDepartureTimeRaw,segmentsArrivalTimeEpochSeconds,segmentsArrivalTimeRaw,segmentsArrivalAirportCode,segmentsDepartureAirportCode,segmentsAirlineName,segmentsAirlineCode,segmentsEquipmentDescription,segmentsDurationInSeconds,segmentsDistance,segmentsCabinCode\n",
      "rddFlights: org.apache.spark.rdd.RDD[FlightData] = MapPartitionsRDD[3] at map at <console>:29\n"
     ]
    }
   ],
   "source": [
    "case class FlightData(\n",
    "    flightID:String,\n",
    "    searchDate:String,\n",
    "    searchMonth:String,\n",
    "    searchDay:String,\n",
    "    flightDate:String,\n",
    "    flightMonth:String,\n",
    "    flightDay:String,\n",
    "    startingAirport:String,\n",
    "    destinationAirport:String,\n",
    "    duration:Int,\n",
    "    isEconomy:Boolean,\n",
    "    isRefundable:Boolean,\n",
    "    isNonStop:Boolean,\n",
    "    baseFare:Double,\n",
    "    totalFare:Double,\n",
    "    seatsRemaining:Int,\n",
    "    travelDistance:Int\n",
    ")\n",
    "\n",
    "object FlightData {\n",
    "\n",
    "    def parse(line:String) = {\n",
    "        val input = line.split(\",\")\n",
    "        val flightID = input(0)\n",
    "        val searchDate = input(1)\n",
    "        val searchMonth = searchDate.substring(5,7)\n",
    "        val searchDay = searchDate.substring(8,10)\n",
    "        val flightDate = input(2)\n",
    "        val flightMonth = flightDate.substring(5,7)\n",
    "        val flightDay = flightDate.substring(8,10)\n",
    "        val startingAirport = input(3)\n",
    "        val destinationAirport = input(4)\n",
    "        val dur = input(6).replace(\"P\",\"\").replace(\"T\",\"\").split(\"D|H|M\").map(x => x.toInt)\n",
    "        val duration = dur.length match {\n",
    "            case 3 => dur(0) * 1440 + dur(1) * 60 + dur(2)\n",
    "            case 2 => dur(0) * 60 + dur(1)\n",
    "            case 1 => dur(0)\n",
    "        }\n",
    "        val isEconomy = input(8).toBoolean\n",
    "        val isRefundable = input(9).toBoolean\n",
    "        val isNonStop = input(10).toBoolean\n",
    "        val baseFare = input(11).toDouble\n",
    "        val totalFare = input(12).toDouble\n",
    "        val seatsRemaining = input(13).toInt\n",
    "        val travelDistance = input(14) match {\n",
    "            case \"\" => 0\n",
    "            case _ => input(14).toInt\n",
    "        }\n",
    "        \n",
    "        new FlightData(flightID,searchDate,searchMonth,searchDay,flightDate,flightMonth,flightDay,startingAirport,\n",
    "                       destinationAirport,duration,isEconomy,isRefundable,isNonStop,baseFare,totalFare,\n",
    "                       seatsRemaining,travelDistance)\n",
    "    }\n",
    "}\n",
    "\n",
    "// Create an RRD from the csv file.\n",
    "val rdd = sc.textFile(\"s3a://\"+bucketname+\"/datasets/itineraries.csv\")\n",
    "// Extract header from RDD and parse every row\n",
    "val header = rdd.first(); \n",
    "val rddFlights = rdd.filter(row => row != header).map(FlightData.parse)"
   ]
  },
  {
   "cell_type": "markdown",
   "id": "2c9c44be",
   "metadata": {},
   "source": [
    "#### Cache the dataset to explore the data and to run futher analysis\n",
    "\n",
    "If the RDD does not fit in memory, _persist(StorageLevel.MEMORY_AND_DISK)_ stores the partitions that don't fit on disk, and reads them from there when they're needed."
   ]
  },
  {
   "cell_type": "code",
   "execution_count": 4,
   "id": "085ed62c",
   "metadata": {
    "scrolled": true
   },
   "outputs": [
    {
     "data": {
      "application/vnd.jupyter.widget-view+json": {
       "model_id": "064d3c109957449486822c8bb2a6745d",
       "version_major": 2,
       "version_minor": 0
      },
      "text/plain": [
       "VBox()"
      ]
     },
     "metadata": {},
     "output_type": "display_data"
    },
    {
     "data": {
      "application/vnd.jupyter.widget-view+json": {
       "model_id": "",
       "version_major": 2,
       "version_minor": 0
      },
      "text/plain": [
       "FloatProgress(value=0.0, bar_style='info', description='Progress:', layout=Layout(height='25px', width='50%'),…"
      ]
     },
     "metadata": {},
     "output_type": "display_data"
    },
    {
     "name": "stdout",
     "output_type": "stream",
     "text": [
      "import org.apache.spark.storage.StorageLevel\n",
      "res6: rddFlights.type = MapPartitionsRDD[3] at map at <console>:29\n",
      "Number of searches performed: 82138753\n"
     ]
    }
   ],
   "source": [
    "import org.apache.spark.storage.StorageLevel\n",
    "\n",
    "rddFlights.persist(StorageLevel.MEMORY_AND_DISK)\n",
    "//rddFlights.persist(StorageLevel.DISK_ONLY) // to know the exact occupation of the dataset\n",
    "println(\"Number of searches performed: \" + rddFlights.count())"
   ]
  },
  {
   "cell_type": "markdown",
   "id": "761f3e12",
   "metadata": {},
   "source": [
    "| RDD's name | Number of records | Size | Partitions\n",
    "| ----- | ----- | ----- | ----- |  \n",
    "| rddFlights | 82138753 | 10.8 GB |  927"
   ]
  },
  {
   "cell_type": "markdown",
   "id": "bed34591",
   "metadata": {},
   "source": [
    "#### Visualize data as a DataFrame"
   ]
  },
  {
   "cell_type": "code",
   "execution_count": 5,
   "id": "9841e3ce",
   "metadata": {},
   "outputs": [
    {
     "data": {
      "application/vnd.jupyter.widget-view+json": {
       "model_id": "27ed023ff865473f85be260c65338050",
       "version_major": 2,
       "version_minor": 0
      },
      "text/plain": [
       "VBox()"
      ]
     },
     "metadata": {},
     "output_type": "display_data"
    },
    {
     "data": {
      "application/vnd.jupyter.widget-view+json": {
       "model_id": "",
       "version_major": 2,
       "version_minor": 0
      },
      "text/plain": [
       "FloatProgress(value=0.0, bar_style='info', description='Progress:', layout=Layout(height='25px', width='50%'),…"
      ]
     },
     "metadata": {},
     "output_type": "display_data"
    },
    {
     "name": "stdout",
     "output_type": "stream",
     "text": [
      "import spark.implicits._\n",
      "columns: Seq[String] = List(flightID, searchDate, searchMonth, searchDay, flightDate, flightMonth, flightDay, startingAirport, destinationAirport, duration, isEconomy, isRefundable, isNonStop, baseFare, totalFare, seatsRemaining, travelDistance)\n",
      "flightDataframe: org.apache.spark.sql.DataFrame = [flightID: string, searchDate: string ... 15 more fields]\n",
      "-RECORD 0----------------------------------------------\n",
      " flightID           | 9ca0e81111c683bec1012473feefd28f \n",
      " searchDate         | 2022-04-16                       \n",
      " searchMonth        | 04                               \n",
      " searchDay          | 16                               \n",
      " flightDate         | 2022-04-17                       \n",
      " flightMonth        | 04                               \n",
      " flightDay          | 17                               \n",
      " startingAirport    | ATL                              \n",
      " destinationAirport | BOS                              \n",
      " duration           | 149                              \n",
      " isEconomy          | false                            \n",
      " isRefundable       | false                            \n",
      " isNonStop          | true                             \n",
      " baseFare           | 217.67                           \n",
      " totalFare          | 248.6                            \n",
      " seatsRemaining     | 9                                \n",
      " travelDistance     | 947                              \n",
      "-RECORD 1----------------------------------------------\n",
      " flightID           | 98685953630e772a098941b71906592b \n",
      " searchDate         | 2022-04-16                       \n",
      " searchMonth        | 04                               \n",
      " searchDay          | 16                               \n",
      " flightDate         | 2022-04-17                       \n",
      " flightMonth        | 04                               \n",
      " flightDay          | 17                               \n",
      " startingAirport    | ATL                              \n",
      " destinationAirport | BOS                              \n",
      " duration           | 150                              \n",
      " isEconomy          | false                            \n",
      " isRefundable       | false                            \n",
      " isNonStop          | true                             \n",
      " baseFare           | 217.67                           \n",
      " totalFare          | 248.6                            \n",
      " seatsRemaining     | 4                                \n",
      " travelDistance     | 947                              \n",
      "-RECORD 2----------------------------------------------\n",
      " flightID           | 98d90cbc32bfbb05c2fc32897c7c1087 \n",
      " searchDate         | 2022-04-16                       \n",
      " searchMonth        | 04                               \n",
      " searchDay          | 16                               \n",
      " flightDate         | 2022-04-17                       \n",
      " flightMonth        | 04                               \n",
      " flightDay          | 17                               \n",
      " startingAirport    | ATL                              \n",
      " destinationAirport | BOS                              \n",
      " duration           | 150                              \n",
      " isEconomy          | false                            \n",
      " isRefundable       | false                            \n",
      " isNonStop          | true                             \n",
      " baseFare           | 217.67                           \n",
      " totalFare          | 248.6                            \n",
      " seatsRemaining     | 9                                \n",
      " travelDistance     | 947                              \n",
      "only showing top 3 rows\n",
      "\n"
     ]
    }
   ],
   "source": [
    "import spark.implicits._\n",
    "\n",
    "val columns = Seq(\"flightID\",\n",
    "                  \"searchDate\",\n",
    "                  \"searchMonth\",\n",
    "                  \"searchDay\",\n",
    "                  \"flightDate\",\n",
    "                  \"flightMonth\",\n",
    "                  \"flightDay\",\n",
    "                  \"startingAirport\",\n",
    "                  \"destinationAirport\",\n",
    "                  \"duration\",\n",
    "                  \"isEconomy\",\n",
    "                  \"isRefundable\",\n",
    "                  \"isNonStop\",\n",
    "                  \"baseFare\",\n",
    "                  \"totalFare\",\n",
    "                  \"seatsRemaining\",\n",
    "                  \"travelDistance\")\n",
    "\n",
    "val flightDataframe = rddFlights.toDF(columns:_*)\n",
    "flightDataframe.show(3,truncate=40,vertical=true)"
   ]
  },
  {
   "cell_type": "markdown",
   "id": "1b2d9b98",
   "metadata": {},
   "source": [
    "#### Define a function to compute the number of days between the searchDate and the flightDate"
   ]
  },
  {
   "cell_type": "code",
   "execution_count": 6,
   "id": "1ffbfe4c",
   "metadata": {
    "scrolled": true
   },
   "outputs": [
    {
     "data": {
      "application/vnd.jupyter.widget-view+json": {
       "model_id": "bcc4135600f24ab598ca0302ca020307",
       "version_major": 2,
       "version_minor": 0
      },
      "text/plain": [
       "VBox()"
      ]
     },
     "metadata": {},
     "output_type": "display_data"
    },
    {
     "data": {
      "application/vnd.jupyter.widget-view+json": {
       "model_id": "",
       "version_major": 2,
       "version_minor": 0
      },
      "text/plain": [
       "FloatProgress(value=0.0, bar_style='info', description='Progress:', layout=Layout(height='25px', width='50%'),…"
      ]
     },
     "metadata": {},
     "output_type": "display_data"
    },
    {
     "name": "stdout",
     "output_type": "stream",
     "text": [
      "import java.time.temporal.ChronoUnit.DAYS\n",
      "import java.time.LocalDate\n",
      "daysBetween: (x: FlightData)Long\n"
     ]
    }
   ],
   "source": [
    "import java.time.temporal.ChronoUnit.DAYS\n",
    "import java.time.LocalDate\n",
    "\n",
    "def daysBetween(x: FlightData): Long = {\n",
    "        val searchDate = LocalDate.parse(x.searchDate);\n",
    "        val flightDate = LocalDate.parse(x.flightDate);\n",
    "        val daysBetween = DAYS.between(searchDate, flightDate);\n",
    "        daysBetween\n",
    "}"
   ]
  },
  {
   "cell_type": "markdown",
   "id": "42f9dc77",
   "metadata": {},
   "source": [
    "#### Define a function to identify a certain week in the period of interest with a number"
   ]
  },
  {
   "cell_type": "code",
   "execution_count": 7,
   "id": "6dd6e7db",
   "metadata": {
    "scrolled": true
   },
   "outputs": [
    {
     "data": {
      "application/vnd.jupyter.widget-view+json": {
       "model_id": "baaf10a2b90a446abc6469a891a03dd5",
       "version_major": 2,
       "version_minor": 0
      },
      "text/plain": [
       "VBox()"
      ]
     },
     "metadata": {},
     "output_type": "display_data"
    },
    {
     "data": {
      "application/vnd.jupyter.widget-view+json": {
       "model_id": "",
       "version_major": 2,
       "version_minor": 0
      },
      "text/plain": [
       "FloatProgress(value=0.0, bar_style='info', description='Progress:', layout=Layout(height='25px', width='50%'),…"
      ]
     },
     "metadata": {},
     "output_type": "display_data"
    },
    {
     "name": "stdout",
     "output_type": "stream",
     "text": [
      "computeWeek: (flightDate: String)Long\n"
     ]
    }
   ],
   "source": [
    "def computeWeek(flightDate: String): Long = {\n",
    "    val firstDate = LocalDate.parse(\"2022-04-16\");\n",
    "    val actualDate = LocalDate.parse(flightDate);\n",
    "    DAYS.between(firstDate, actualDate)/7.toInt;\n",
    "}"
   ]
  },
  {
   "cell_type": "markdown",
   "id": "e8fdf60d",
   "metadata": {},
   "source": [
    "## Data Exploration"
   ]
  },
  {
   "cell_type": "markdown",
   "id": "76ecdc93",
   "metadata": {},
   "source": [
    "#### Perform the following queries to explore the dataset:"
   ]
  },
  {
   "cell_type": "code",
   "execution_count": 8,
   "id": "4621ceb8",
   "metadata": {
    "scrolled": true
   },
   "outputs": [
    {
     "data": {
      "application/vnd.jupyter.widget-view+json": {
       "model_id": "4dbe51f502d041039d178e2035d39e8f",
       "version_major": 2,
       "version_minor": 0
      },
      "text/plain": [
       "VBox()"
      ]
     },
     "metadata": {},
     "output_type": "display_data"
    },
    {
     "data": {
      "application/vnd.jupyter.widget-view+json": {
       "model_id": "",
       "version_major": 2,
       "version_minor": 0
      },
      "text/plain": [
       "FloatProgress(value=0.0, bar_style='info', description='Progress:', layout=Layout(height='25px', width='50%'),…"
      ]
     },
     "metadata": {},
     "output_type": "display_data"
    },
    {
     "name": "stdout",
     "output_type": "stream",
     "text": [
      "rddDistinctFlights: org.apache.spark.rdd.RDD[(String, String, String, Boolean, Boolean, String)] = MapPartitionsRDD[11] at distinct at <console>:33\n",
      "res14: rddDistinctFlights.type = MapPartitionsRDD[11] at distinct at <console>:33\n",
      "Number of distinct flights: 6741921\n"
     ]
    }
   ],
   "source": [
    "val rddDistinctFlights = rddFlights.\n",
    "    map(x => (x.flightID, x.startingAirport, x.flightMonth, x.isNonStop, x.isEconomy, x.destinationAirport)).\n",
    "    distinct()\n",
    "\n",
    "rddDistinctFlights.persist(StorageLevel.MEMORY_AND_DISK)\n",
    "//rddDistinctFlights.persist(StorageLevel.DISK_ONLY) // to know the exact occupation of the dataset\n",
    "\n",
    "println(\"Number of distinct flights: \" + rddDistinctFlights.count())"
   ]
  },
  {
   "cell_type": "markdown",
   "id": "bcc84d8b",
   "metadata": {},
   "source": [
    "We save the dataset in memory for further analysis and we check the memory occupation."
   ]
  },
  {
   "cell_type": "markdown",
   "id": "c0857f1f",
   "metadata": {},
   "source": [
    "| RDD's name | Number of records | Size |  Partitions \n",
    "| ----- | ----- | ----- | ----- |\n",
    "| rddDistinctFlights | 6741921 | 460.9 MB | 927"
   ]
  },
  {
   "cell_type": "code",
   "execution_count": 9,
   "id": "109bf983",
   "metadata": {},
   "outputs": [
    {
     "data": {
      "application/vnd.jupyter.widget-view+json": {
       "model_id": "f65f83ec0d144466b1f7ffd927cb7500",
       "version_major": 2,
       "version_minor": 0
      },
      "text/plain": [
       "VBox()"
      ]
     },
     "metadata": {},
     "output_type": "display_data"
    },
    {
     "data": {
      "application/vnd.jupyter.widget-view+json": {
       "model_id": "",
       "version_major": 2,
       "version_minor": 0
      },
      "text/plain": [
       "FloatProgress(value=0.0, bar_style='info', description='Progress:', layout=Layout(height='25px', width='50%'),…"
      ]
     },
     "metadata": {},
     "output_type": "display_data"
    },
    {
     "name": "stdout",
     "output_type": "stream",
     "text": [
      "Number of distinct startingAirport: 16\n"
     ]
    }
   ],
   "source": [
    "println(\"Number of distinct startingAirport: \" + rddDistinctFlights.map(x => (x._2)).distinct().count())"
   ]
  },
  {
   "cell_type": "markdown",
   "id": "292e1bc9",
   "metadata": {},
   "source": [
    "| Query | Count |\n",
    "| ----- | ----- | \n",
    "| Number of distinct startingAirport | 16 |"
   ]
  },
  {
   "cell_type": "code",
   "execution_count": 10,
   "id": "d08be480",
   "metadata": {
    "scrolled": true
   },
   "outputs": [
    {
     "data": {
      "application/vnd.jupyter.widget-view+json": {
       "model_id": "1986a583dbc14ff282225311155313e4",
       "version_major": 2,
       "version_minor": 0
      },
      "text/plain": [
       "VBox()"
      ]
     },
     "metadata": {},
     "output_type": "display_data"
    },
    {
     "data": {
      "application/vnd.jupyter.widget-view+json": {
       "model_id": "",
       "version_major": 2,
       "version_minor": 0
      },
      "text/plain": [
       "FloatProgress(value=0.0, bar_style='info', description='Progress:', layout=Layout(height='25px', width='50%'),…"
      ]
     },
     "metadata": {},
     "output_type": "display_data"
    },
    {
     "name": "stdout",
     "output_type": "stream",
     "text": [
      "Number of flights by starting airport\n",
      "flightsByAirport: Array[(String, Int)] = Array((LAX,647762), (CLT,439551), (JFK,321474), (BOS,503551), (OAK,322976), (LGA,489480), (ATL,411753), (MIA,386155), (DTW,369802), (PHL,399106), (SFO,568692), (EWR,329291), (ORD,416925), (DEN,359393), (IAD,342082), (DFW,433928))\n"
     ]
    }
   ],
   "source": [
    "println(\"Number of flights by starting airport\")\n",
    "val flightsByAirport = rddDistinctFlights.\n",
    "    map(x => (x._2, 1)).\n",
    "    reduceByKey(_+_).\n",
    "    collect()"
   ]
  },
  {
   "attachments": {
    "flights_per_airport.png": {
     "image/png": "[encoded data removed]"
    }
   },
   "cell_type": "markdown",
   "id": "f064811b",
   "metadata": {},
   "source": [
    "![flights_per_airport.png](attachment:flights_per_airport.png)"
   ]
  },
  {
   "cell_type": "code",
   "execution_count": 11,
   "id": "5d2a4132",
   "metadata": {},
   "outputs": [
    {
     "data": {
      "application/vnd.jupyter.widget-view+json": {
       "model_id": "c20fed1a0f9a46cf8f3f6f6a4168b25d",
       "version_major": 2,
       "version_minor": 0
      },
      "text/plain": [
       "VBox()"
      ]
     },
     "metadata": {},
     "output_type": "display_data"
    },
    {
     "data": {
      "application/vnd.jupyter.widget-view+json": {
       "model_id": "",
       "version_major": 2,
       "version_minor": 0
      },
      "text/plain": [
       "FloatProgress(value=0.0, bar_style='info', description='Progress:', layout=Layout(height='25px', width='50%'),…"
      ]
     },
     "metadata": {},
     "output_type": "display_data"
    },
    {
     "name": "stdout",
     "output_type": "stream",
     "text": [
      "\n",
      "Number of flights by month\n",
      "flightsByMonth: Array[(String, Int)] = Array((04,205745), (05,768008), (06,1022075), (07,1080180), (08,1203901), (09,1192040), (10,880474), (11,389498))\n"
     ]
    }
   ],
   "source": [
    "println(\"\\nNumber of flights by month\")\n",
    "val flightsByMonth = rddDistinctFlights.\n",
    "    map(x => (x._3, 1)).\n",
    "    reduceByKey(_+_).\n",
    "    collect()"
   ]
  },
  {
   "attachments": {
    "flights_per_month.png": {
     "image/png": "[encoded data removed]"
    }
   },
   "cell_type": "markdown",
   "id": "04c6a4b4",
   "metadata": {},
   "source": [
    "![flights_per_month.png](attachment:flights_per_month.png)"
   ]
  },
  {
   "cell_type": "code",
   "execution_count": 12,
   "id": "1b64324f",
   "metadata": {},
   "outputs": [
    {
     "data": {
      "application/vnd.jupyter.widget-view+json": {
       "model_id": "198e7979243f4213898c654b02b8bdc0",
       "version_major": 2,
       "version_minor": 0
      },
      "text/plain": [
       "VBox()"
      ]
     },
     "metadata": {},
     "output_type": "display_data"
    },
    {
     "data": {
      "application/vnd.jupyter.widget-view+json": {
       "model_id": "",
       "version_major": 2,
       "version_minor": 0
      },
      "text/plain": [
       "FloatProgress(value=0.0, bar_style='info', description='Progress:', layout=Layout(height='25px', width='50%'),…"
      ]
     },
     "metadata": {},
     "output_type": "display_data"
    },
    {
     "name": "stdout",
     "output_type": "stream",
     "text": [
      "\n",
      "Number of routes: 235\n"
     ]
    }
   ],
   "source": [
    "println(\"\\nNumber of routes: \" + rddDistinctFlights.map(x => (x._2, x._6)).distinct().count()) "
   ]
  },
  {
   "cell_type": "markdown",
   "id": "0c675db4",
   "metadata": {},
   "source": [
    "| Query | Count |\n",
    "| ----- | ----- | \n",
    "| Number of routes  | 235 |"
   ]
  },
  {
   "cell_type": "code",
   "execution_count": 25,
   "id": "1efcc96f",
   "metadata": {
    "scrolled": false
   },
   "outputs": [
    {
     "data": {
      "application/vnd.jupyter.widget-view+json": {
       "model_id": "ca0756cf7b2d4e35bf97495b10054965",
       "version_major": 2,
       "version_minor": 0
      },
      "text/plain": [
       "VBox()"
      ]
     },
     "metadata": {},
     "output_type": "display_data"
    },
    {
     "data": {
      "application/vnd.jupyter.widget-view+json": {
       "model_id": "",
       "version_major": 2,
       "version_minor": 0
      },
      "text/plain": [
       "FloatProgress(value=0.0, bar_style='info', description='Progress:', layout=Layout(height='25px', width='50%'),…"
      ]
     },
     "metadata": {},
     "output_type": "display_data"
    },
    {
     "name": "stdout",
     "output_type": "stream",
     "text": [
      "Number of flights that offer an economy fare: 1189124\n",
      "Number of flights that offer a non economy fare: 5551777\n"
     ]
    }
   ],
   "source": [
    "println(\"Number of flights that offer an economy fare: \" + rddFlights.\n",
    "        filter(x => x.isEconomy).\n",
    "        map(x => x.flightID).\n",
    "        distinct().\n",
    "        count())\n",
    "\n",
    "println(\"Number of flights that offer a non economy fare: \" + rddFlights.\n",
    "        filter(x => !x.isEconomy).\n",
    "        map(x => x.flightID).\n",
    "        distinct().\n",
    "        count())"
   ]
  },
  {
   "attachments": {
    "economyFlights.png": {
     "image/png": "[encoded data removed]"
    }
   },
   "cell_type": "markdown",
   "id": "d29aed46",
   "metadata": {},
   "source": [
    "![economyFlights.png](attachment:economyFlights.png)"
   ]
  },
  {
   "cell_type": "code",
   "execution_count": 14,
   "id": "1da0e2c3",
   "metadata": {},
   "outputs": [
    {
     "data": {
      "application/vnd.jupyter.widget-view+json": {
       "model_id": "c8f91e72cffc46bdbd960e59c51c2c93",
       "version_major": 2,
       "version_minor": 0
      },
      "text/plain": [
       "VBox()"
      ]
     },
     "metadata": {},
     "output_type": "display_data"
    },
    {
     "data": {
      "application/vnd.jupyter.widget-view+json": {
       "model_id": "",
       "version_major": 2,
       "version_minor": 0
      },
      "text/plain": [
       "FloatProgress(value=0.0, bar_style='info', description='Progress:', layout=Layout(height='25px', width='50%'),…"
      ]
     },
     "metadata": {},
     "output_type": "display_data"
    },
    {
     "name": "stdout",
     "output_type": "stream",
     "text": [
      "Number of direct flights: 809106\n"
     ]
    }
   ],
   "source": [
    "println(\"Number of direct flights: \" + rddDistinctFlights.filter(x => x._4).count())"
   ]
  },
  {
   "attachments": {
    "type_of_flights.png": {
     "image/png": "[encoded data removed]"
    }
   },
   "cell_type": "markdown",
   "id": "f25ffe3e",
   "metadata": {},
   "source": [
    "![type_of_flights.png](attachment:type_of_flights.png)"
   ]
  },
  {
   "cell_type": "markdown",
   "id": "f6da0874",
   "metadata": {},
   "source": [
    "## Jobs"
   ]
  },
  {
   "cell_type": "code",
   "execution_count": 15,
   "id": "308f503a",
   "metadata": {
    "scrolled": true
   },
   "outputs": [
    {
     "data": {
      "application/vnd.jupyter.widget-view+json": {
       "model_id": "da38b54806e0400282e93b058c33b014",
       "version_major": 2,
       "version_minor": 0
      },
      "text/plain": [
       "VBox()"
      ]
     },
     "metadata": {},
     "output_type": "display_data"
    },
    {
     "data": {
      "application/vnd.jupyter.widget-view+json": {
       "model_id": "",
       "version_major": 2,
       "version_minor": 0
      },
      "text/plain": [
       "FloatProgress(value=0.0, bar_style='info', description='Progress:', layout=Layout(height='25px', width='50%'),…"
      ]
     },
     "metadata": {},
     "output_type": "display_data"
    },
    {
     "name": "stdout",
     "output_type": "stream",
     "text": [
      "import org.apache.spark.sql.SaveMode\n",
      "output_path: String = s3a://unibo-bd2223-vfolin/spark/bdexam\n"
     ]
    }
   ],
   "source": [
    "import org.apache.spark.sql.SaveMode\n",
    "\n",
    "val output_path = \"s3a://\"+bucketname+\"/spark/bdexam\""
   ]
  },
  {
   "cell_type": "markdown",
   "id": "9d3d2e9d",
   "metadata": {},
   "source": [
    "### 1 - Veronika Folin\n",
    "\n",
    "The change that occurs in the ticket price in 30 days prior to flight departure is calculated, dividing the result between economy and no-economy tickets.\n",
    "\n",
    "The correlation between that change in price and the number of seats remaining on that flight is then displayed."
   ]
  },
  {
   "cell_type": "code",
   "execution_count": 16,
   "id": "38f6c660",
   "metadata": {
    "scrolled": true
   },
   "outputs": [
    {
     "data": {
      "application/vnd.jupyter.widget-view+json": {
       "model_id": "bea26bbe604940bcaa74b19499f74d28",
       "version_major": 2,
       "version_minor": 0
      },
      "text/plain": [
       "VBox()"
      ]
     },
     "metadata": {},
     "output_type": "display_data"
    },
    {
     "data": {
      "application/vnd.jupyter.widget-view+json": {
       "model_id": "",
       "version_major": 2,
       "version_minor": 0
      },
      "text/plain": [
       "FloatProgress(value=0.0, bar_style='info', description='Progress:', layout=Layout(height='25px', width='50%'),…"
      ]
     },
     "metadata": {},
     "output_type": "display_data"
    },
    {
     "name": "stdout",
     "output_type": "stream",
     "text": [
      "import org.apache.spark.mllib.stat.Statistics\n",
      "import org.apache.spark.mllib.linalg._\n",
      "import java.util.concurrent.TimeUnit\n"
     ]
    }
   ],
   "source": [
    "/* Imports necessary to calculate the correlation matrix and the time spent executing the query*/\n",
    "\n",
    "import org.apache.spark.mllib.stat.Statistics\n",
    "import org.apache.spark.mllib.linalg._\n",
    "\n",
    "import java.util.concurrent.TimeUnit\n"
   ]
  },
  {
   "cell_type": "code",
   "execution_count": 17,
   "id": "38327eb6",
   "metadata": {
    "scrolled": true
   },
   "outputs": [
    {
     "data": {
      "application/vnd.jupyter.widget-view+json": {
       "model_id": "0f4788b7d0d646f6bf488b03ab8436ef",
       "version_major": 2,
       "version_minor": 0
      },
      "text/plain": [
       "VBox()"
      ]
     },
     "metadata": {},
     "output_type": "display_data"
    },
    {
     "data": {
      "application/vnd.jupyter.widget-view+json": {
       "model_id": "",
       "version_major": 2,
       "version_minor": 0
      },
      "text/plain": [
       "FloatProgress(value=0.0, bar_style='info', description='Progress:', layout=Layout(height='25px', width='50%'),…"
      ]
     },
     "metadata": {},
     "output_type": "display_data"
    },
    {
     "name": "stdout",
     "output_type": "stream",
     "text": [
      "rddFlightsFiltered: org.apache.spark.rdd.RDD[FlightData] = MapPartitionsRDD[25] at filter at <console>:45\n",
      "res30: rddFlightsFiltered.type = MapPartitionsRDD[25] at filter at <console>:45\n",
      "res33: String = Number of filtered flights: 47674280\n"
     ]
    }
   ],
   "source": [
    "/*\n",
    "We filter data to obtain searches made in the last 30 days before flight departure.\n",
    "The filtering operation allows us to reduce the number of records.\n",
    "*/\n",
    "\n",
    "val rddFlightsFiltered = rddFlights.\n",
    "    filter(x => daysBetween(x) <= 30)\n",
    "\n",
    "rddFlightsFiltered.persist(StorageLevel.MEMORY_AND_DISK)\n",
    "//rddFlightsFiltered.persist(StorageLevel.DISK_ONLY) // to know the exact occupation of the dataset\n",
    "\n",
    "\"Number of filtered flights: \" + rddFlightsFiltered.count() // 47674280"
   ]
  },
  {
   "cell_type": "markdown",
   "id": "131aed78",
   "metadata": {},
   "source": [
    "| RDD's name | Number of records | Size | Partitions \n",
    "| ----- | ----- | ----- | ----- | \n",
    "| rddFlightsFiltered | 47674280 | 6.3 GB | 927"
   ]
  },
  {
   "cell_type": "code",
   "execution_count": 18,
   "id": "f7f9a9d4",
   "metadata": {
    "scrolled": false
   },
   "outputs": [
    {
     "data": {
      "application/vnd.jupyter.widget-view+json": {
       "model_id": "a72e6fa3d07a4da986ddac9b1354577a",
       "version_major": 2,
       "version_minor": 0
      },
      "text/plain": [
       "VBox()"
      ]
     },
     "metadata": {},
     "output_type": "display_data"
    },
    {
     "data": {
      "application/vnd.jupyter.widget-view+json": {
       "model_id": "",
       "version_major": 2,
       "version_minor": 0
      },
      "text/plain": [
       "FloatProgress(value=0.0, bar_style='info', description='Progress:', layout=Layout(height='25px', width='50%'),…"
      ]
     },
     "metadata": {},
     "output_type": "display_data"
    },
    {
     "name": "stdout",
     "output_type": "stream",
     "text": [
      "rddEconomyFlights: org.apache.spark.rdd.RDD[FlightData] = MapPartitionsRDD[26] at filter at <console>:39\n",
      "res37: rddEconomyFlights.type = MapPartitionsRDD[26] at filter at <console>:39\n",
      "res40: String = Number of economy flights: 6356288\n",
      "rddNoEconomyFlights: org.apache.spark.rdd.RDD[FlightData] = MapPartitionsRDD[27] at filter at <console>:39\n",
      "res44: rddNoEconomyFlights.type = MapPartitionsRDD[27] at filter at <console>:39\n",
      "res47: String = Number of no-economy flights: 41317992\n"
     ]
    }
   ],
   "source": [
    "/* We divide the result between economy and no-economy tickets */\n",
    "\n",
    "val rddEconomyFlights = rddFlightsFiltered.filter(_.isEconomy)\n",
    "\n",
    "rddEconomyFlights.persist(StorageLevel.MEMORY_AND_DISK)\n",
    "//rddEconomyFlights.persist(StorageLevel.DISK_ONLY) // to know the exact occupation of the dataset\n",
    "\n",
    "\"Number of economy flights: \" + rddEconomyFlights.count()\n",
    "\n",
    "\n",
    "val rddNoEconomyFlights = rddFlightsFiltered.filter(!_.isEconomy)\n",
    "\n",
    "rddNoEconomyFlights.persist(StorageLevel.MEMORY_AND_DISK)\n",
    "//rddNoEconomyFlights.persist(StorageLevel.DISK_ONLY) // to know the exact occupation of the dataset\n",
    "\n",
    "\"Number of no-economy flights: \" + rddNoEconomyFlights.count() "
   ]
  },
  {
   "cell_type": "markdown",
   "id": "8db87a8b",
   "metadata": {},
   "source": [
    "| RDD's name | Number of records | Size | Partitions \n",
    "| ----- | ----- | ----- | ----- | \n",
    "| rddEconomyFlights | 6356288 | 865.3 MB | 927\n",
    "| rddNoEconomyFlights | 41317992 | 5.4 GB | 927"
   ]
  },
  {
   "cell_type": "markdown",
   "id": "8830da62",
   "metadata": {},
   "source": [
    "#### Not optimized version"
   ]
  },
  {
   "cell_type": "code",
   "execution_count": null,
   "id": "28ac7ef1",
   "metadata": {},
   "outputs": [],
   "source": [
    "/* ECONOMY FLIGHTS */\n",
    "\n",
    "val t0 = System.nanoTime()\n",
    "\n",
    "/* We calculate the average ticket price in a given number of days before departure */\n",
    "val rddAveragePriceEconomy = rddEconomyFlights.\n",
    "    map(x => (daysBetween(x), x.baseFare)).\n",
    "    aggregateByKey((0.0,0.0))(\n",
    "        (acc,value)=>(acc._1+value, acc._2 + 1), \n",
    "        (value1,value2)=>(value1._1 + value2._1, value1._2 + value2._2)).\n",
    "    map({case(k,v) => (k, v._1/v._2)})\n",
    "\n",
    "/*We calculate the average number of seats remaining on flights over a given number of days before departure*/\n",
    "val rddAverageSeatsRemainingEconomy = rddEconomyFlights.\n",
    "    map(x => (daysBetween(x), x.seatsRemaining)).\n",
    "    aggregateByKey((0.0,0.0))(\n",
    "        (acc,value)=>(acc._1+value, acc._2 + 1), \n",
    "        (value1,value2)=>(value1._1 + value2._1, value1._2 + value2._2)).\n",
    "    map({case(k,v) => (k, v._1/v._2)})\n",
    "\n",
    "/* We join average ticket prices with average number of remaining seats*/ \n",
    "val rddEconomyResult = rddAverageSeatsRemainingEconomy.join(rddAveragePriceEconomy).\n",
    "    map({case(k,v) => (k, v._1, v._2)})\n",
    "\n",
    "/* Save the result on S3 to reuse it*/\n",
    "rddEconomyResult.coalesce(1).toDF().write.format(\"csv\").mode(SaveMode.Overwrite).save(output_path)\n",
    "\n",
    "/*We calculate the correlation matrix between the attributes AverageSeatsRemaining and AveragePrice*/\n",
    "val economyData = rddEconomyResult.map({case(days,averageSeatsRemaining, averagePrice) => Vectors.dense(averageSeatsRemaining, averagePrice)})\n",
    "val correlMatrixEconomy: Matrix = Statistics.corr(economyData)\n",
    "\n",
    "val t1 = System.nanoTime()\n",
    "println(\"Elapsed time: \" + ((t1 - t0) * 1.00002e-9)  + \" seconds\")\n",
    "\n",
    "/*\n",
    "\n",
    "correlMatrixEconomy:\n",
    "1.0                  -0.9055847376668811\n",
    "-0.9055847376668811  1.0\n",
    "\n",
    "Elapsed time: 47.7436543089891 seconds\n",
    "\n",
    "*/"
   ]
  },
  {
   "cell_type": "code",
   "execution_count": null,
   "id": "34fc59c4",
   "metadata": {
    "scrolled": true
   },
   "outputs": [],
   "source": [
    "/* NO-ECONOMY FLIGHTS*/\n",
    "\n",
    "val t0 = System.nanoTime()\n",
    "\n",
    "/* We calculate the average ticket price in a given number of days before departure */\n",
    "val rddAveragePriceNoEconomy = rddNoEconomyFlights.\n",
    "    map(x => (daysBetween(x), x.baseFare)).\n",
    "    aggregateByKey((0.0,0.0))(\n",
    "        (acc,value)=>(acc._1+value, acc._2 + 1), \n",
    "        (value1,value2)=>(value1._1 + value2._1, value1._2 + value2._2)).\n",
    "    map({case(k,v) => (k, v._1/v._2)})\n",
    "\n",
    "/*We calculate the average number of seats remaining on flights over a given number of days before departure*/\n",
    "val rddAverageSeatsRemainingNoEconomy = rddNoEconomyFlights.\n",
    "    map(x => (daysBetween(x), x.seatsRemaining)).\n",
    "    aggregateByKey((0.0,0.0))(\n",
    "        (acc,value)=>(acc._1+value, acc._2 + 1), \n",
    "        (value1,value2)=>(value1._1 + value2._1, value1._2 + value2._2)).\n",
    "    map({case(k,v) => (k, v._1/v._2)})\n",
    "\n",
    "/* We join average ticket prices with average number of remaining seats*/ \n",
    "val rddNoEconomyResult = rddAverageSeatsRemainingNoEconomy.join(rddAveragePriceNoEconomy).\n",
    "    map({case(k,v) => (k, v._1, v._2)})\n",
    "\n",
    "/* Save the result on S3 to reuse it*/\n",
    "rddNoEconomyResult.coalesce(1).toDF().write.format(\"csv\").mode(SaveMode.Overwrite).save(output_path)\n",
    "\n",
    "/*We calculate the correlation matrix between the attributes AverageSeatsRemaining and AveragePrice*/\n",
    "val noEconomyData = rddNoEconomyResult.map({case(days,averageSeatsRemaining, averagePrice) => \n",
    "    Vectors.dense(averageSeatsRemaining, averagePrice)})\n",
    "val correlMatrixNoEconomy: Matrix = Statistics.corr(noEconomyData)\n",
    "\n",
    "val t1 = System.nanoTime()\n",
    "println(\"Elapsed time: \" + ((t1 - t0) * 1.00002e-9)  + \" seconds\")\n",
    "\n",
    "/*\n",
    "\n",
    "correlMatrixEconomy:\n",
    "1.0                  -0.7933229293346507\n",
    "-0.7933229293346507  1.0\n",
    "\n",
    "Elapsed time: 106.87263422193624 seconds\n",
    "\n",
    "*/"
   ]
  },
  {
   "cell_type": "markdown",
   "id": "c08fe607",
   "metadata": {},
   "source": [
    "#### Optimized version"
   ]
  },
  {
   "cell_type": "code",
   "execution_count": null,
   "id": "d7322053",
   "metadata": {
    "scrolled": true
   },
   "outputs": [],
   "source": [
    "/* ECONOMY FLIGHT */\n",
    "\n",
    "val t0 = System.nanoTime()\n",
    "\n",
    "val zeroValue = (0, (0.0, 0.0))\n",
    "\n",
    "val rddEconomyResult = rddEconomyFlights.\n",
    "    map(x => (daysBetween(x), (x.seatsRemaining, x.baseFare))).\n",
    "    aggregateByKey(zeroValue)(\n",
    "            (tuple, prev) => {\n",
    "                val count = tuple._1 + 1\n",
    "                val seatsRemainingSum = tuple._2._1 + prev._1\n",
    "                val baseFareSum = tuple._2._2 + prev._2\n",
    "                (count, (seatsRemainingSum, baseFareSum))\n",
    "            },\n",
    "            (tuple1, tuple2) => {\n",
    "                val count1 = tuple1._1 + tuple2._1\n",
    "                val seatsRemainingSum1 = tuple1._2._1 + tuple2._2._1\n",
    "                val baseFareSum1 = tuple1._2._2 + tuple2._2._2\n",
    "                (count1, (seatsRemainingSum1, baseFareSum1))\n",
    "            }\n",
    "        ).\n",
    "    map({case(k,(count2, (seatsRemainingSum2, baseFareSum2))) => (k, seatsRemainingSum2/count2, baseFareSum2/count2)})\n",
    "\n",
    "rddEconomyResult.coalesce(1).toDF().write.format(\"csv\").mode(SaveMode.Overwrite).save(output_path)\n",
    "\n",
    "val economyData = rddEconomyResult.map({case(days,averageSeatsRemaining, averagePrice) => \n",
    "     Vectors.dense(averageSeatsRemaining, averagePrice)})\n",
    "\n",
    "val correlMatrixEconomy: Matrix = Statistics.corr(economyData)\n",
    "\n",
    "val t1 = System.nanoTime()\n",
    "println(\"Elapsed time: \" + ((t1 - t0) * 1.00002e-9)  + \" seconds\")\n",
    "\n",
    "/*\n",
    "\n",
    "correlMatrixEconomy:\n",
    "1.0                  -0.9055847376670673\n",
    "-0.9055847376670673  1.0\n",
    "\n",
    "Elapsed time: 37.7554258834158 seconds\n",
    "\n",
    "*/"
   ]
  },
  {
   "cell_type": "code",
   "execution_count": null,
   "id": "355c8a66",
   "metadata": {
    "scrolled": false
   },
   "outputs": [],
   "source": [
    "/* NO-ECONOMY FLIGHTS */\n",
    "\n",
    "val t0 = System.nanoTime()\n",
    "\n",
    "val zeroValue = (0, (0.0, 0.0))\n",
    "\n",
    "val rddNoEconomyResult = rddNoEconomyFlights.\n",
    "    map(x => (daysBetween(x), (x.seatsRemaining, x.baseFare))).\n",
    "    aggregateByKey(zeroValue)(\n",
    "            (tuple, prev) => {\n",
    "                val count = tuple._1 + 1\n",
    "                val seatsRemainingSum = tuple._2._1 + prev._1\n",
    "                val baseFareSum = tuple._2._2 + prev._2\n",
    "                (count, (seatsRemainingSum, baseFareSum))\n",
    "            },\n",
    "            (tuple1, tuple2) => {\n",
    "                val count1 = tuple1._1 + tuple2._1\n",
    "                val seatsRemainingSum1 = tuple1._2._1 + tuple2._2._1\n",
    "                val baseFareSum1 = tuple1._2._2 + tuple2._2._2\n",
    "                (count1, (seatsRemainingSum1, baseFareSum1))\n",
    "            }\n",
    "        ).\n",
    "    map({case(k,(count2, (seatsRemainingSum2, baseFareSum2))) => (k, seatsRemainingSum2/count2, baseFareSum2/count2)})\n",
    "\n",
    "rddNoEconomyResult.coalesce(1).toDF().write.format(\"csv\").mode(SaveMode.Overwrite).save(output_path)\n",
    "\n",
    "val noEconomyData = rddNoEconomyResult.map({case(days,averageSeatsRemaining, averagePrice) => \n",
    "     Vectors.dense(averageSeatsRemaining, averagePrice)})\n",
    "\n",
    "val correlMatrixNoEconomy: Matrix = Statistics.corr(noEconomyData)\n",
    "\n",
    "val t1 = System.nanoTime()\n",
    "println(\"Elapsed time: \" + ((t1 - t0) * 1.00002e-9)  + \" seconds\")\n",
    "\n",
    "/*\n",
    "\n",
    "correlMatrixEconomy:\n",
    "1.0                  -0.7933229293345855\n",
    "-0.7933229293345855  1.0\n",
    "\n",
    "Elapsed time: 60.134621501376664 seconds\n",
    "\n",
    "*/"
   ]
  },
  {
   "cell_type": "markdown",
   "id": "205eb18e",
   "metadata": {},
   "source": [
    "#### Optimized version with repartitioning"
   ]
  },
  {
   "cell_type": "code",
   "execution_count": 39,
   "id": "cd36c027",
   "metadata": {},
   "outputs": [
    {
     "data": {
      "application/vnd.jupyter.widget-view+json": {
       "model_id": "99b209853c7747588d8c2446611b177d",
       "version_major": 2,
       "version_minor": 0
      },
      "text/plain": [
       "VBox()"
      ]
     },
     "metadata": {},
     "output_type": "display_data"
    },
    {
     "data": {
      "application/vnd.jupyter.widget-view+json": {
       "model_id": "",
       "version_major": 2,
       "version_minor": 0
      },
      "text/plain": [
       "FloatProgress(value=0.0, bar_style='info', description='Progress:', layout=Layout(height='25px', width='50%'),…"
      ]
     },
     "metadata": {},
     "output_type": "display_data"
    },
    {
     "name": "stdout",
     "output_type": "stream",
     "text": [
      "rdd0: org.apache.spark.rdd.RDD[FlightData] = CoalescedRDD[415] at coalesce at <console>:40\n",
      "rdd1: org.apache.spark.rdd.RDD[FlightData] = CoalescedRDD[417] at coalesce at <console>:38\n",
      "rdd2: org.apache.spark.rdd.RDD[FlightData] = CoalescedRDD[419] at coalesce at <console>:38\n",
      "rdd3: org.apache.spark.rdd.RDD[FlightData] = CoalescedRDD[421] at coalesce at <console>:38\n",
      "rdd4: org.apache.spark.rdd.RDD[FlightData] = CoalescedRDD[423] at coalesce at <console>:38\n",
      "rdd5: org.apache.spark.rdd.RDD[FlightData] = CoalescedRDD[425] at coalesce at <console>:38\n",
      "rdd6: org.apache.spark.rdd.RDD[FlightData] = MapPartitionsRDD[430] at repartition at <console>:39\n",
      "rdd7: org.apache.spark.rdd.RDD[FlightData] = MapPartitionsRDD[435] at repartition at <console>:38\n",
      "rdd8: org.apache.spark.rdd.RDD[FlightData] = MapPartitionsRDD[440] at repartition at <console>:38\n",
      "rdd9: org.apache.spark.rdd.RDD[FlightData] = MapPartitionsRDD[445] at repartition at <console>:38\n",
      "rdd10: org.apache.spark.rdd.RDD[FlightData] = MapPartitionsRDD[450] at repartition at <console>:38\n",
      "rdd11: org.apache.spark.rdd.RDD[FlightData] = MapPartitionsRDD[455] at repartition at <console>:38\n"
     ]
    }
   ],
   "source": [
    "/* ECONOMY FLIGHTS */\n",
    "\n",
    "val rdd0 = rddFlightsFiltered.filter(_.isEconomy).coalesce(20) // 73.14933381141708 seconds\n",
    "\n",
    "val rdd1 = rddFlightsFiltered.filter(_.isEconomy).coalesce(50) // 41.41846976682828 seconds\n",
    "\n",
    "val rdd2 = rddFlightsFiltered.filter(_.isEconomy).coalesce(100) // 36.758913842573584 seconds\n",
    "\n",
    "val rdd3 = rddFlightsFiltered.filter(_.isEconomy).coalesce(300) // 39.25749231514362 seconds\n",
    "\n",
    "val rdd4 = rddFlightsFiltered.filter(_.isEconomy).coalesce(500) // 35.373311204075044 seconds\n",
    "\n",
    "val rdd5 = rddFlightsFiltered.filter(_.isEconomy).coalesce(700) // 34.80990272713086 seconds\n",
    "\n",
    "\n",
    "val rdd6 = rddFlightsFiltered.filter(_.isEconomy).repartition(20) // 43.058554013857204 seconds\n",
    "\n",
    "val rdd7 = rddFlightsFiltered.filter(_.isEconomy).repartition(50) // 44.388037692999 seconds\n",
    "\n",
    "val rdd8 = rddFlightsFiltered.filter(_.isEconomy).repartition(100) // 46.44641517772536 seconds\n",
    "\n",
    "val rdd9 = rddFlightsFiltered.filter(_.isEconomy).repartition(300) // 76.73079507920988 seconds\n",
    "\n",
    "val rdd10 = rddFlightsFiltered.filter(_.isEconomy).repartition(500) // 73.88318846521662 seconds\n",
    "\n",
    "val rdd11 = rddFlightsFiltered.filter(_.isEconomy).repartition(700) // 85.76706534800083 seconds"
   ]
  },
  {
   "cell_type": "code",
   "execution_count": 45,
   "id": "283e3bf0",
   "metadata": {
    "scrolled": false
   },
   "outputs": [
    {
     "data": {
      "application/vnd.jupyter.widget-view+json": {
       "model_id": "b9741b37ed2e4246a6c75ecefe479b17",
       "version_major": 2,
       "version_minor": 0
      },
      "text/plain": [
       "VBox()"
      ]
     },
     "metadata": {},
     "output_type": "display_data"
    },
    {
     "data": {
      "application/vnd.jupyter.widget-view+json": {
       "model_id": "",
       "version_major": 2,
       "version_minor": 0
      },
      "text/plain": [
       "FloatProgress(value=0.0, bar_style='info', description='Progress:', layout=Layout(height='25px', width='50%'),…"
      ]
     },
     "metadata": {},
     "output_type": "display_data"
    },
    {
     "name": "stdout",
     "output_type": "stream",
     "text": [
      "t0: Long = 9872990806542\n",
      "zeroValue: (Int, (Double, Double)) = (0,(0.0,0.0))\n",
      "rddEconomyResult: org.apache.spark.rdd.RDD[(Long, Double, Double)] = MapPartitionsRDD[549] at map at <console>:59\n",
      "economyData: org.apache.spark.rdd.RDD[org.apache.spark.mllib.linalg.Vector] = MapPartitionsRDD[555] at map at <console>:38\n",
      "correlMatrixEconomy: org.apache.spark.mllib.linalg.Matrix =\n",
      "1.0                  -0.9055847376651353\n",
      "-0.9055847376651353  1.0\n",
      "t1: Long = 9958756156583\n",
      "Elapsed time: 85.76706534800083 seconds\n"
     ]
    }
   ],
   "source": [
    "/* ECONOMY FLIGHTS */\n",
    "\n",
    "val t0 = System.nanoTime()\n",
    "\n",
    "val zeroValue = (0, (0.0, 0.0))\n",
    "\n",
    "val rddEconomyResult = rdd11.\n",
    "    map(x => (daysBetween(x), (x.seatsRemaining, x.baseFare))).\n",
    "    coalesce(20).\n",
    "    aggregateByKey(zeroValue)(\n",
    "            (tuple, prev) => {\n",
    "                val count = tuple._1 + 1\n",
    "                val seatsRemainingSum = tuple._2._1 + prev._1\n",
    "                val baseFareSum = tuple._2._2 + prev._2\n",
    "                (count, (seatsRemainingSum, baseFareSum))\n",
    "            },\n",
    "            (tuple1, tuple2) => {\n",
    "                val count1 = tuple1._1 + tuple2._1\n",
    "                val seatsRemainingSum1 = tuple1._2._1 + tuple2._2._1\n",
    "                val baseFareSum1 = tuple1._2._2 + tuple2._2._2\n",
    "                (count1, (seatsRemainingSum1, baseFareSum1))\n",
    "            }\n",
    "        ).\n",
    "    map({case(k,(count2, (seatsRemainingSum2, baseFareSum2))) => (k, seatsRemainingSum2/count2, baseFareSum2/count2)})\n",
    "\n",
    "rddEconomyResult.coalesce(1).toDF().write.format(\"csv\").mode(SaveMode.Overwrite).save(output_path)\n",
    "\n",
    "val economyData = rddEconomyResult.map({case(days,averageSeatsRemaining, averagePrice) => \n",
    "     Vectors.dense(averageSeatsRemaining, averagePrice)})\n",
    "\n",
    "val correlMatrixEconomy: Matrix = Statistics.corr(economyData)\n",
    "\n",
    "val t1 = System.nanoTime()\n",
    "println(\"Elapsed time: \" + ((t1 - t0) * 1.00002e-9)  + \" seconds\")"
   ]
  },
  {
   "cell_type": "markdown",
   "id": "745dc3a5",
   "metadata": {},
   "source": [
    "##### Time taken by the query in the various tests (economy flights version)\n",
    "\n",
    "Elapsed time with no repartitioning: 37.7554258834158 seconds\n",
    "\n",
    "| Function | Partitions | Time in seconds\n",
    "| ----- | ----- | ----- | \n",
    "| coalesce | 20 | 73.14933381141708\n",
    "| coalesce | 50 | 41.41846976682828\n",
    "| coalesce | 100 | 36.758913842573584\n",
    "| coalesce | 300 | 39.25749231514362\n",
    "| coalesce | 500 | 35.373311204075044\n",
    "| coalesce | 700 | 34.80990272713086\n",
    "| repartition | 20 | 43.058554013857204\n",
    "| repartition | 50 | 44.388037692999\n",
    "| repartition | 100 | 46.44641517772536\n",
    "| repartition | 300 | 76.73079507920988\n",
    "| repartition | 500 | 73.88318846521662\n",
    "| repartition | 700 | 85.76706534800083"
   ]
  },
  {
   "cell_type": "code",
   "execution_count": 60,
   "id": "09301cae",
   "metadata": {},
   "outputs": [
    {
     "data": {
      "application/vnd.jupyter.widget-view+json": {
       "model_id": "51ae7e60bc84443aaa5f3cb9e2b31633",
       "version_major": 2,
       "version_minor": 0
      },
      "text/plain": [
       "VBox()"
      ]
     },
     "metadata": {},
     "output_type": "display_data"
    },
    {
     "data": {
      "application/vnd.jupyter.widget-view+json": {
       "model_id": "",
       "version_major": 2,
       "version_minor": 0
      },
      "text/plain": [
       "FloatProgress(value=0.0, bar_style='info', description='Progress:', layout=Layout(height='25px', width='50%'),…"
      ]
     },
     "metadata": {},
     "output_type": "display_data"
    },
    {
     "name": "stdout",
     "output_type": "stream",
     "text": [
      "rdd12: org.apache.spark.rdd.RDD[FlightData] = CoalescedRDD[794] at coalesce at <console>:39\n",
      "rdd13: org.apache.spark.rdd.RDD[FlightData] = CoalescedRDD[796] at coalesce at <console>:38\n",
      "rdd14: org.apache.spark.rdd.RDD[FlightData] = CoalescedRDD[798] at coalesce at <console>:38\n",
      "rdd15: org.apache.spark.rdd.RDD[FlightData] = CoalescedRDD[800] at coalesce at <console>:38\n",
      "rdd16: org.apache.spark.rdd.RDD[FlightData] = CoalescedRDD[802] at coalesce at <console>:38\n",
      "rdd17: org.apache.spark.rdd.RDD[FlightData] = CoalescedRDD[804] at coalesce at <console>:38\n",
      "rdd18: org.apache.spark.rdd.RDD[FlightData] = MapPartitionsRDD[809] at repartition at <console>:39\n",
      "rdd19: org.apache.spark.rdd.RDD[FlightData] = MapPartitionsRDD[814] at repartition at <console>:38\n",
      "rdd20: org.apache.spark.rdd.RDD[FlightData] = MapPartitionsRDD[819] at repartition at <console>:38\n",
      "rdd21: org.apache.spark.rdd.RDD[FlightData] = MapPartitionsRDD[824] at repartition at <console>:38\n",
      "rdd22: org.apache.spark.rdd.RDD[FlightData] = MapPartitionsRDD[829] at repartition at <console>:38\n",
      "rdd23: org.apache.spark.rdd.RDD[FlightData] = MapPartitionsRDD[834] at repartition at <console>:38\n"
     ]
    }
   ],
   "source": [
    "/* NO-ECONOMY FLIGHT */\n",
    "\n",
    "val rdd12 = rddFlightsFiltered.filter(!_.isEconomy).coalesce(20) // 43.89774381631758 seconds\n",
    "\n",
    "val rdd13 = rddFlightsFiltered.filter(!_.isEconomy).coalesce(50) // 39.83028050067822 seconds\n",
    "\n",
    "val rdd14 = rddFlightsFiltered.filter(!_.isEconomy).coalesce(100) // 39.29833457997258 seconds\n",
    "\n",
    "val rdd15 = rddFlightsFiltered.filter(!_.isEconomy).coalesce(300) // 39.59028868193784 seconds\n",
    "\n",
    "val rdd16 = rddFlightsFiltered.filter(!_.isEconomy).coalesce(500) // 39.6152228736117 seconds\n",
    "\n",
    "val rdd17 = rddFlightsFiltered.filter(!_.isEconomy).coalesce(700) // 40.72203086232876 seconds\n",
    "\n",
    "\n",
    "val rdd18 = rddFlightsFiltered.filter(!_.isEconomy).repartition(20) // 98.84676594278095 seconds\n",
    "\n",
    "val rdd19 = rddFlightsFiltered.filter(!_.isEconomy).repartition(50) // 100.79795889285948 seconds\n",
    "\n",
    "val rdd20 = rddFlightsFiltered.filter(!_.isEconomy).repartition(100) // 109.06771449766374 seconds\n",
    "\n",
    "val rdd21 = rddFlightsFiltered.filter(!_.isEconomy).repartition(300) // 214.71357142954488 seconds\n",
    "\n",
    "val rdd22 = rddFlightsFiltered.filter(!_.isEconomy).repartition(500) // 220.35858552256877 seconds\n",
    "\n",
    "val rdd23 = rddFlightsFiltered.filter(!_.isEconomy).repartition(700) // 221.25600689263723 seconds"
   ]
  },
  {
   "cell_type": "code",
   "execution_count": 61,
   "id": "91ebbda1",
   "metadata": {
    "scrolled": true
   },
   "outputs": [
    {
     "data": {
      "application/vnd.jupyter.widget-view+json": {
       "model_id": "4d561ed6982e4ee5a099e1298f432250",
       "version_major": 2,
       "version_minor": 0
      },
      "text/plain": [
       "VBox()"
      ]
     },
     "metadata": {},
     "output_type": "display_data"
    },
    {
     "data": {
      "application/vnd.jupyter.widget-view+json": {
       "model_id": "",
       "version_major": 2,
       "version_minor": 0
      },
      "text/plain": [
       "FloatProgress(value=0.0, bar_style='info', description='Progress:', layout=Layout(height='25px', width='50%'),…"
      ]
     },
     "metadata": {},
     "output_type": "display_data"
    },
    {
     "name": "stdout",
     "output_type": "stream",
     "text": [
      "t0: Long = 11300697052468\n",
      "zeroValue: (Int, (Double, Double)) = (0,(0.0,0.0))\n",
      "rddNoEconomyResult: org.apache.spark.rdd.RDD[(Long, Double, Double)] = MapPartitionsRDD[837] at map at <console>:58\n",
      "noEconomyData: org.apache.spark.rdd.RDD[org.apache.spark.mllib.linalg.Vector] = MapPartitionsRDD[843] at map at <console>:38\n",
      "correlMatrixNoEconomy: org.apache.spark.mllib.linalg.Matrix =\n",
      "1.0                  -0.7933229293345437\n",
      "-0.7933229293345437  1.0\n",
      "t1: Long = 11521948634329\n",
      "Elapsed time: 221.25600689263723 seconds\n"
     ]
    }
   ],
   "source": [
    "/* NO-ECONOMY FLIGHTS */\n",
    "\n",
    "val t0 = System.nanoTime()\n",
    "\n",
    "val zeroValue = (0, (0.0, 0.0))\n",
    "\n",
    "val rddNoEconomyResult = rdd23.\n",
    "    map(x => (daysBetween(x), (x.seatsRemaining, x.baseFare))).\n",
    "    aggregateByKey(zeroValue)(\n",
    "            (tuple, prev) => {\n",
    "                val count = tuple._1 + 1\n",
    "                val seatsRemainingSum = tuple._2._1 + prev._1\n",
    "                val baseFareSum = tuple._2._2 + prev._2\n",
    "                (count, (seatsRemainingSum, baseFareSum))\n",
    "            },\n",
    "            (tuple1, tuple2) => {\n",
    "                val count1 = tuple1._1 + tuple2._1\n",
    "                val seatsRemainingSum1 = tuple1._2._1 + tuple2._2._1\n",
    "                val baseFareSum1 = tuple1._2._2 + tuple2._2._2\n",
    "                (count1, (seatsRemainingSum1, baseFareSum1))\n",
    "            }\n",
    "        ).\n",
    "    map({case(k,(count2, (seatsRemainingSum2, baseFareSum2))) => (k, seatsRemainingSum2/count2, baseFareSum2/count2)})\n",
    "\n",
    "rddNoEconomyResult.coalesce(1).toDF().write.format(\"csv\").mode(SaveMode.Overwrite).save(output_path)\n",
    "\n",
    "val noEconomyData = rddNoEconomyResult.map({case(days,averageSeatsRemaining, averagePrice) => \n",
    "     Vectors.dense(averageSeatsRemaining, averagePrice)})\n",
    "\n",
    "val correlMatrixNoEconomy: Matrix = Statistics.corr(noEconomyData)\n",
    "\n",
    "val t1 = System.nanoTime()\n",
    "println(\"Elapsed time: \" + ((t1 - t0) * 1.00002e-9)  + \" seconds\")"
   ]
  },
  {
   "cell_type": "markdown",
   "id": "99f4334e",
   "metadata": {},
   "source": [
    "##### Time taken by the query in the various tests (no-economy flights version)\n",
    "\n",
    "Elapsed time with no repartitioning: 60.134621501376664 seconds\n",
    "\n",
    "| Function | Partitions | Time in seconds\n",
    "| ----- | ----- | ----- | \n",
    "| coalesce | 20 | 43.89774381631758\n",
    "| coalesce | 50 | 39.83028050067822\n",
    "| coalesce | 100 | 39.29833457997258\n",
    "| coalesce | 300 | 39.59028868193784\n",
    "| coalesce | 500 | 39.6152228736117\n",
    "| coalesce | 700 | 40.72203086232876\n",
    "| repartition | 20 | 98.84676594278095\n",
    "| repartition | 50 | 100.79795889285948\n",
    "| repartition | 100 | 109.06771449766374\n",
    "| repartition | 300 | 214.71357142954488\n",
    "| repartition | 500 | 220.35858552256877\n",
    "| repartition | 700 | 221.25600689263723"
   ]
  }
 ],
 "metadata": {
  "kernelspec": {
   "display_name": "Spark",
   "language": "scala",
   "name": "sparkkernel"
  },
  "language_info": {
   "codemirror_mode": "text/x-scala",
   "file_extension": ".sc",
   "mimetype": "text/x-scala",
   "name": "scala",
   "pygments_lexer": "scala"
  }
 },
 "nbformat": 4,
 "nbformat_minor": 5
}
