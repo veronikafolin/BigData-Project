{
 "cells": [
  {
   "cell_type": "markdown",
   "id": "cb8e7e8c",
   "metadata": {},
   "source": [
    "# Flights Price Analysis \n",
    "\n",
    "The goal of this notebook is to run some analysis on a dataset that contains one-way flights found on Expedia between 2022-04-16 and 2022-10-05 (you can find it at this [link](https://www.kaggle.com/datasets/dilwong/flightprices))."
   ]
  },
  {
   "cell_type": "code",
   "execution_count": 1,
   "id": "885fe425",
   "metadata": {},
   "outputs": [
    {
     "data": {
      "application/vnd.jupyter.widget-view+json": {
       "model_id": "32676c50775944099d46baaa1399287b",
       "version_major": 2,
       "version_minor": 0
      },
      "text/plain": [
       "VBox()"
      ]
     },
     "metadata": {},
     "output_type": "display_data"
    },
    {
     "name": "stdout",
     "output_type": "stream",
     "text": [
      "Starting Spark application\n"
     ]
    },
    {
     "data": {
      "text/html": [
       "<table>\n",
       "<tr><th>ID</th><th>YARN Application ID</th><th>Kind</th><th>State</th><th>Spark UI</th><th>Driver log</th><th>User</th><th>Current session?</th></tr><tr><td>0</td><td>application_1677139979838_0001</td><td>spark</td><td>idle</td><td><a target=\"_blank\" href=\"http://ip-172-31-34-115.ec2.internal:20888/proxy/application_1677139979838_0001/\" class=\"emr-proxy-link\" emr-resource=\"j-3GM2V22B0JVPD\n",
       "\" application-id=\"application_1677139979838_0001\">Link</a></td><td><a target=\"_blank\" href=\"http://ip-172-31-41-109.ec2.internal:8042/node/containerlogs/container_1677139979838_0001_01_000001/livy\" >Link</a></td><td>None</td><td>✔</td></tr></table>"
      ],
      "text/plain": [
       "<IPython.core.display.HTML object>"
      ]
     },
     "metadata": {},
     "output_type": "display_data"
    },
    {
     "data": {
      "application/vnd.jupyter.widget-view+json": {
       "model_id": "",
       "version_major": 2,
       "version_minor": 0
      },
      "text/plain": [
       "FloatProgress(value=0.0, bar_style='info', description='Progress:', layout=Layout(height='25px', width='50%'),…"
      ]
     },
     "metadata": {},
     "output_type": "display_data"
    },
    {
     "name": "stdout",
     "output_type": "stream",
     "text": [
      "SparkSession available as 'spark'.\n"
     ]
    },
    {
     "data": {
      "application/vnd.jupyter.widget-view+json": {
       "model_id": "",
       "version_major": 2,
       "version_minor": 0
      },
      "text/plain": [
       "FloatProgress(value=0.0, bar_style='info', description='Progress:', layout=Layout(height='25px', width='50%'),…"
      ]
     },
     "metadata": {},
     "output_type": "display_data"
    },
    {
     "name": "stdout",
     "output_type": "stream",
     "text": [
      "bucketname: String = unibo-bd2223-vfolin\n"
     ]
    }
   ],
   "source": [
    "//val bucketname = \"unibo-bd2223-paolopenazzi\"\n",
    "val bucketname = \"unibo-bd2223-vfolin\""
   ]
  },
  {
   "cell_type": "markdown",
   "id": "ee7bafc0",
   "metadata": {},
   "source": [
    "## Data Preparation\n",
    "\n",
    "The following columns will be kept and created:\n",
    "- flightID: Identifier for the flight.\n",
    "- searchDate: Date the record was obtained from Expedia.\n",
    "- searchMonth: Month the record was obtained from Expedia.\n",
    "- searchDay: Day the record was obtained from Expedia.\n",
    "- flightDate: The date of the flight.\n",
    "- flightMonth: The month of the flight.\n",
    "- flightDay: The day of the flight.\n",
    "- startingAirport: 3-letter code for the starting airport.\n",
    "- destinationAirport: 3-letter code for the destination airport.\n",
    "- duration: Travel duration in minutes.\n",
    "- isEconomy: Is basic economy?\n",
    "- isRefundable: Is the ticket refundable?\n",
    "- isNonStop: Is the flight non-stop?\n",
    "- baseFare: Price of the ticket (not including taxes).\n",
    "- totalFare: Price of the ticket, including taxes and fees.\n",
    "- seatsRemaining: Number of remaining seats.\n",
    "- travelDistance: The total travel distance in miles."
   ]
  },
  {
   "cell_type": "code",
   "execution_count": 2,
   "id": "01b7adc5",
   "metadata": {},
   "outputs": [
    {
     "data": {
      "application/vnd.jupyter.widget-view+json": {
       "model_id": "8766b897db4847e68e43187f6b0c7fce",
       "version_major": 2,
       "version_minor": 0
      },
      "text/plain": [
       "VBox()"
      ]
     },
     "metadata": {},
     "output_type": "display_data"
    },
    {
     "data": {
      "application/vnd.jupyter.widget-view+json": {
       "model_id": "",
       "version_major": 2,
       "version_minor": 0
      },
      "text/plain": [
       "FloatProgress(value=0.0, bar_style='info', description='Progress:', layout=Layout(height='25px', width='50%'),…"
      ]
     },
     "metadata": {},
     "output_type": "display_data"
    },
    {
     "name": "stdout",
     "output_type": "stream",
     "text": [
      "defined class FlightData\n",
      "defined object FlightData\n",
      "warning: previously defined class FlightData is not a companion to object FlightData.\n",
      "Companions must be defined together; you may wish to use :paste mode for this.\n",
      "rdd: org.apache.spark.rdd.RDD[String] = s3a://unibo-bd2223-vfolin/datasets/itineraries.csv MapPartitionsRDD[1] at textFile at <console>:29\n",
      "header: String = legId,searchDate,flightDate,startingAirport,destinationAirport,fareBasisCode,travelDuration,elapsedDays,isBasicEconomy,isRefundable,isNonStop,baseFare,totalFare,seatsRemaining,totalTravelDistance,segmentsDepartureTimeEpochSeconds,segmentsDepartureTimeRaw,segmentsArrivalTimeEpochSeconds,segmentsArrivalTimeRaw,segmentsArrivalAirportCode,segmentsDepartureAirportCode,segmentsAirlineName,segmentsAirlineCode,segmentsEquipmentDescription,segmentsDurationInSeconds,segmentsDistance,segmentsCabinCode\n",
      "rddFlights: org.apache.spark.rdd.RDD[FlightData] = MapPartitionsRDD[3] at map at <console>:29\n"
     ]
    }
   ],
   "source": [
    "case class FlightData(\n",
    "    flightID:String,\n",
    "    searchDate:String,\n",
    "    searchMonth:String,\n",
    "    searchDay:String,\n",
    "    flightDate:String,\n",
    "    flightMonth:String,\n",
    "    flightDay:String,\n",
    "    startingAirport:String,\n",
    "    destinationAirport:String,\n",
    "    duration:Int,\n",
    "    isEconomy:Boolean,\n",
    "    isRefundable:Boolean,\n",
    "    isNonStop:Boolean,\n",
    "    baseFare:Double,\n",
    "    totalFare:Double,\n",
    "    seatsRemaining:Int,\n",
    "    travelDistance:Int\n",
    ")\n",
    "\n",
    "object FlightData {\n",
    "\n",
    "    def parse(line:String) = {\n",
    "        val input = line.split(\",\")\n",
    "        val flightID = input(0)\n",
    "        val searchDate = input(1)\n",
    "        val searchMonth = searchDate.substring(5,7)\n",
    "        val searchDay = searchDate.substring(8,10)\n",
    "        val flightDate = input(2)\n",
    "        val flightMonth = flightDate.substring(5,7)\n",
    "        val flightDay = flightDate.substring(8,10)\n",
    "        val startingAirport = input(3)\n",
    "        val destinationAirport = input(4)\n",
    "        val dur = input(6).replace(\"P\",\"\").replace(\"T\",\"\").split(\"D|H|M\").map(x => x.toInt)\n",
    "        val duration = dur.length match {\n",
    "            case 3 => dur(0) * 1440 + dur(1) * 60 + dur(2)\n",
    "            case 2 => dur(0) * 60 + dur(1)\n",
    "            case 1 => dur(0)\n",
    "        }\n",
    "        val isEconomy = input(8).toBoolean\n",
    "        val isRefundable = input(9).toBoolean\n",
    "        val isNonStop = input(10).toBoolean\n",
    "        val baseFare = input(11).toDouble\n",
    "        val totalFare = input(12).toDouble\n",
    "        val seatsRemaining = input(13).toInt\n",
    "        val travelDistance = input(14) match {\n",
    "            case \"\" => 0\n",
    "            case _ => input(14).toInt\n",
    "        }\n",
    "        \n",
    "        new FlightData(flightID,searchDate,searchMonth,searchDay,flightDate,flightMonth,flightDay,startingAirport,\n",
    "                       destinationAirport,duration,isEconomy,isRefundable,isNonStop,baseFare,totalFare,\n",
    "                       seatsRemaining,travelDistance)\n",
    "    }\n",
    "}\n",
    "\n",
    "/** Create RRD */\n",
    "val rdd = sc.textFile(\"s3a://\"+bucketname+\"/datasets/itineraries.csv\")\n",
    "/** Extract header from RDD and parse every row*/\n",
    "val header = rdd.first(); \n",
    "val rddFlights = rdd.filter(row => row != header).map(FlightData.parse)"
   ]
  },
  {
   "cell_type": "markdown",
   "id": "bed34591",
   "metadata": {},
   "source": [
    "#### Visualize data as a DataFrame"
   ]
  },
  {
   "cell_type": "code",
   "execution_count": 3,
   "id": "9841e3ce",
   "metadata": {},
   "outputs": [
    {
     "data": {
      "application/vnd.jupyter.widget-view+json": {
       "model_id": "e201df39ee024c6aab0fb1775aa475dd",
       "version_major": 2,
       "version_minor": 0
      },
      "text/plain": [
       "VBox()"
      ]
     },
     "metadata": {},
     "output_type": "display_data"
    },
    {
     "data": {
      "application/vnd.jupyter.widget-view+json": {
       "model_id": "",
       "version_major": 2,
       "version_minor": 0
      },
      "text/plain": [
       "FloatProgress(value=0.0, bar_style='info', description='Progress:', layout=Layout(height='25px', width='50%'),…"
      ]
     },
     "metadata": {},
     "output_type": "display_data"
    },
    {
     "name": "stdout",
     "output_type": "stream",
     "text": [
      "import spark.implicits._\n",
      "columns: Seq[String] = List(flightID, searchDate, searchMonth, searchDay, flightDate, flightMonth, flightDay, startingAirport, destinationAirport, duration, isEconomy, isRefundable, isNonStop, baseFare, totalFare, seatsRemaining, travelDistance)\n",
      "flightDataframe: org.apache.spark.sql.DataFrame = [flightID: string, searchDate: string ... 15 more fields]\n",
      "-RECORD 0----------------------------------------------\n",
      " flightID           | 9ca0e81111c683bec1012473feefd28f \n",
      " searchDate         | 2022-04-16                       \n",
      " searchMonth        | 04                               \n",
      " searchDay          | 16                               \n",
      " flightDate         | 2022-04-17                       \n",
      " flightMonth        | 04                               \n",
      " flightDay          | 17                               \n",
      " startingAirport    | ATL                              \n",
      " destinationAirport | BOS                              \n",
      " duration           | 149                              \n",
      " isEconomy          | false                            \n",
      " isRefundable       | false                            \n",
      " isNonStop          | true                             \n",
      " baseFare           | 217.67                           \n",
      " totalFare          | 248.6                            \n",
      " seatsRemaining     | 9                                \n",
      " travelDistance     | 947                              \n",
      "-RECORD 1----------------------------------------------\n",
      " flightID           | 98685953630e772a098941b71906592b \n",
      " searchDate         | 2022-04-16                       \n",
      " searchMonth        | 04                               \n",
      " searchDay          | 16                               \n",
      " flightDate         | 2022-04-17                       \n",
      " flightMonth        | 04                               \n",
      " flightDay          | 17                               \n",
      " startingAirport    | ATL                              \n",
      " destinationAirport | BOS                              \n",
      " duration           | 150                              \n",
      " isEconomy          | false                            \n",
      " isRefundable       | false                            \n",
      " isNonStop          | true                             \n",
      " baseFare           | 217.67                           \n",
      " totalFare          | 248.6                            \n",
      " seatsRemaining     | 4                                \n",
      " travelDistance     | 947                              \n",
      "-RECORD 2----------------------------------------------\n",
      " flightID           | 98d90cbc32bfbb05c2fc32897c7c1087 \n",
      " searchDate         | 2022-04-16                       \n",
      " searchMonth        | 04                               \n",
      " searchDay          | 16                               \n",
      " flightDate         | 2022-04-17                       \n",
      " flightMonth        | 04                               \n",
      " flightDay          | 17                               \n",
      " startingAirport    | ATL                              \n",
      " destinationAirport | BOS                              \n",
      " duration           | 150                              \n",
      " isEconomy          | false                            \n",
      " isRefundable       | false                            \n",
      " isNonStop          | true                             \n",
      " baseFare           | 217.67                           \n",
      " totalFare          | 248.6                            \n",
      " seatsRemaining     | 9                                \n",
      " travelDistance     | 947                              \n",
      "-RECORD 3----------------------------------------------\n",
      " flightID           | 969a269d38eae583f455486fa90877b4 \n",
      " searchDate         | 2022-04-16                       \n",
      " searchMonth        | 04                               \n",
      " searchDay          | 16                               \n",
      " flightDate         | 2022-04-17                       \n",
      " flightMonth        | 04                               \n",
      " flightDay          | 17                               \n",
      " startingAirport    | ATL                              \n",
      " destinationAirport | BOS                              \n",
      " duration           | 152                              \n",
      " isEconomy          | false                            \n",
      " isRefundable       | false                            \n",
      " isNonStop          | true                             \n",
      " baseFare           | 217.67                           \n",
      " totalFare          | 248.6                            \n",
      " seatsRemaining     | 8                                \n",
      " travelDistance     | 947                              \n",
      "-RECORD 4----------------------------------------------\n",
      " flightID           | 980370cf27c89b40d2833a1d5afc9751 \n",
      " searchDate         | 2022-04-16                       \n",
      " searchMonth        | 04                               \n",
      " searchDay          | 16                               \n",
      " flightDate         | 2022-04-17                       \n",
      " flightMonth        | 04                               \n",
      " flightDay          | 17                               \n",
      " startingAirport    | ATL                              \n",
      " destinationAirport | BOS                              \n",
      " duration           | 154                              \n",
      " isEconomy          | false                            \n",
      " isRefundable       | false                            \n",
      " isNonStop          | true                             \n",
      " baseFare           | 217.67                           \n",
      " totalFare          | 248.6                            \n",
      " seatsRemaining     | 9                                \n",
      " travelDistance     | 947                              \n",
      "-RECORD 5----------------------------------------------\n",
      " flightID           | 79eda9f841e226a1e2121d74211e595c \n",
      " searchDate         | 2022-04-16                       \n",
      " searchMonth        | 04                               \n",
      " searchDay          | 16                               \n",
      " flightDate         | 2022-04-17                       \n",
      " flightMonth        | 04                               \n",
      " flightDay          | 17                               \n",
      " startingAirport    | ATL                              \n",
      " destinationAirport | BOS                              \n",
      " duration           | 158                              \n",
      " isEconomy          | false                            \n",
      " isRefundable       | false                            \n",
      " isNonStop          | true                             \n",
      " baseFare           | 217.67                           \n",
      " totalFare          | 248.6                            \n",
      " seatsRemaining     | 7                                \n",
      " travelDistance     | 947                              \n",
      "-RECORD 6----------------------------------------------\n",
      " flightID           | 9335fae376c38bb61263281779f469ec \n",
      " searchDate         | 2022-04-16                       \n",
      " searchMonth        | 04                               \n",
      " searchDay          | 16                               \n",
      " flightDate         | 2022-04-17                       \n",
      " flightMonth        | 04                               \n",
      " flightDay          | 17                               \n",
      " startingAirport    | ATL                              \n",
      " destinationAirport | BOS                              \n",
      " duration           | 252                              \n",
      " isEconomy          | false                            \n",
      " isRefundable       | false                            \n",
      " isNonStop          | false                            \n",
      " baseFare           | 213.02                           \n",
      " totalFare          | 251.1                            \n",
      " seatsRemaining     | 3                                \n",
      " travelDistance     | 956                              \n",
      "-RECORD 7----------------------------------------------\n",
      " flightID           | 3904bf87f2d1daf334f1ae7e3b876028 \n",
      " searchDate         | 2022-04-16                       \n",
      " searchMonth        | 04                               \n",
      " searchDay          | 16                               \n",
      " flightDate         | 2022-04-17                       \n",
      " flightMonth        | 04                               \n",
      " flightDay          | 17                               \n",
      " startingAirport    | ATL                              \n",
      " destinationAirport | BOS                              \n",
      " duration           | 318                              \n",
      " isEconomy          | false                            \n",
      " isRefundable       | false                            \n",
      " isNonStop          | false                            \n",
      " baseFare           | 213.02                           \n",
      " totalFare          | 251.1                            \n",
      " seatsRemaining     | 3                                \n",
      " travelDistance     | 956                              \n",
      "-RECORD 8----------------------------------------------\n",
      " flightID           | d93988734c44a3c075d9efe373352507 \n",
      " searchDate         | 2022-04-16                       \n",
      " searchMonth        | 04                               \n",
      " searchDay          | 16                               \n",
      " flightDate         | 2022-04-17                       \n",
      " flightMonth        | 04                               \n",
      " flightDay          | 17                               \n",
      " startingAirport    | ATL                              \n",
      " destinationAirport | BOS                              \n",
      " duration           | 332                              \n",
      " isEconomy          | false                            \n",
      " isRefundable       | false                            \n",
      " isNonStop          | false                            \n",
      " baseFare           | 213.02                           \n",
      " totalFare          | 251.1                            \n",
      " seatsRemaining     | 7                                \n",
      " travelDistance     | 956                              \n",
      "-RECORD 9----------------------------------------------\n",
      " flightID           | 562e7d5dd6ecbf1509c0c19711dbdca9 \n",
      " searchDate         | 2022-04-16                       \n",
      " searchMonth        | 04                               \n",
      " searchDay          | 16                               \n",
      " flightDate         | 2022-04-17                       \n",
      " flightMonth        | 04                               \n",
      " flightDay          | 17                               \n",
      " startingAirport    | ATL                              \n",
      " destinationAirport | BOS                              \n",
      " duration           | 398                              \n",
      " isEconomy          | false                            \n",
      " isRefundable       | false                            \n",
      " isNonStop          | false                            \n",
      " baseFare           | 213.02                           \n",
      " totalFare          | 251.1                            \n",
      " seatsRemaining     | 7                                \n",
      " travelDistance     | 956                              \n",
      "-RECORD 10---------------------------------------------\n",
      " flightID           | c38a6e4b807d15541e5866676febcbec \n",
      " searchDate         | 2022-04-16                       \n",
      " searchMonth        | 04                               \n",
      " searchDay          | 16                               \n",
      " flightDate         | 2022-04-17                       \n",
      " flightMonth        | 04                               \n",
      " flightDay          | 17                               \n",
      " startingAirport    | ATL                              \n",
      " destinationAirport | BOS                              \n",
      " duration           | 286                              \n",
      " isEconomy          | false                            \n",
      " isRefundable       | false                            \n",
      " isNonStop          | false                            \n",
      " baseFare           | 213.02                           \n",
      " totalFare          | 252.6                            \n",
      " seatsRemaining     | 1                                \n",
      " travelDistance     | 947                              \n",
      "-RECORD 11---------------------------------------------\n",
      " flightID           | f66d72ba3a526576608b8402b5720726 \n",
      " searchDate         | 2022-04-16                       \n",
      " searchMonth        | 04                               \n",
      " searchDay          | 16                               \n",
      " flightDate         | 2022-04-17                       \n",
      " flightMonth        | 04                               \n",
      " flightDay          | 17                               \n",
      " startingAirport    | ATL                              \n",
      " destinationAirport | BOS                              \n",
      " duration           | 345                              \n",
      " isEconomy          | false                            \n",
      " isRefundable       | false                            \n",
      " isNonStop          | false                            \n",
      " baseFare           | 213.02                           \n",
      " totalFare          | 252.6                            \n",
      " seatsRemaining     | 3                                \n",
      " travelDistance     | 1462                             \n",
      "-RECORD 12---------------------------------------------\n",
      " flightID           | e7c4054e85cca9bc7134b3cc93deaf7c \n",
      " searchDate         | 2022-04-16                       \n",
      " searchMonth        | 04                               \n",
      " searchDay          | 16                               \n",
      " flightDate         | 2022-04-17                       \n",
      " flightMonth        | 04                               \n",
      " flightDay          | 17                               \n",
      " startingAirport    | ATL                              \n",
      " destinationAirport | BOS                              \n",
      " duration           | 359                              \n",
      " isEconomy          | false                            \n",
      " isRefundable       | false                            \n",
      " isNonStop          | false                            \n",
      " baseFare           | 213.02                           \n",
      " totalFare          | 252.6                            \n",
      " seatsRemaining     | 5                                \n",
      " travelDistance     | 1462                             \n",
      "-RECORD 13---------------------------------------------\n",
      " flightID           | 5fa8c0f8b25eb24bf2ddc39a498bcc37 \n",
      " searchDate         | 2022-04-16                       \n",
      " searchMonth        | 04                               \n",
      " searchDay          | 16                               \n",
      " flightDate         | 2022-04-17                       \n",
      " flightMonth        | 04                               \n",
      " flightDay          | 17                               \n",
      " startingAirport    | ATL                              \n",
      " destinationAirport | BOS                              \n",
      " duration           | 438                              \n",
      " isEconomy          | false                            \n",
      " isRefundable       | false                            \n",
      " isNonStop          | false                            \n",
      " baseFare           | 213.02                           \n",
      " totalFare          | 252.6                            \n",
      " seatsRemaining     | 3                                \n",
      " travelDistance     | 1462                             \n",
      "-RECORD 14---------------------------------------------\n",
      " flightID           | 948d26b3e5658762cd62f842c87ae46e \n",
      " searchDate         | 2022-04-16                       \n",
      " searchMonth        | 04                               \n",
      " searchDay          | 16                               \n",
      " flightDate         | 2022-04-17                       \n",
      " flightMonth        | 04                               \n",
      " flightDay          | 17                               \n",
      " startingAirport    | ATL                              \n",
      " destinationAirport | BOS                              \n",
      " duration           | 490                              \n",
      " isEconomy          | false                            \n",
      " isRefundable       | false                            \n",
      " isNonStop          | false                            \n",
      " baseFare           | 213.02                           \n",
      " totalFare          | 252.6                            \n",
      " seatsRemaining     | 2                                \n",
      " travelDistance     | 1462                             \n",
      "-RECORD 15---------------------------------------------\n",
      " flightID           | cb345693479e84838dfaac346b8e8d6a \n",
      " searchDate         | 2022-04-16                       \n",
      " searchMonth        | 04                               \n",
      " searchDay          | 16                               \n",
      " flightDate         | 2022-04-17                       \n",
      " flightMonth        | 04                               \n",
      " flightDay          | 17                               \n",
      " startingAirport    | ATL                              \n",
      " destinationAirport | BOS                              \n",
      " duration           | 339                              \n",
      " isEconomy          | false                            \n",
      " isRefundable       | false                            \n",
      " isNonStop          | false                            \n",
      " baseFare           | 183.0                            \n",
      " totalFare          | 290.58                           \n",
      " seatsRemaining     | 0                                \n",
      " travelDistance     | 0                                \n",
      "-RECORD 16---------------------------------------------\n",
      " flightID           | e1b95e4e6c997517f64ba5ea712bda22 \n",
      " searchDate         | 2022-04-16                       \n",
      " searchMonth        | 04                               \n",
      " searchDay          | 16                               \n",
      " flightDate         | 2022-04-17                       \n",
      " flightMonth        | 04                               \n",
      " flightDay          | 17                               \n",
      " startingAirport    | ATL                              \n",
      " destinationAirport | BOS                              \n",
      " duration           | 158                              \n",
      " isEconomy          | false                            \n",
      " isRefundable       | false                            \n",
      " isNonStop          | true                             \n",
      " baseFare           | 265.58                           \n",
      " totalFare          | 300.1                            \n",
      " seatsRemaining     | 7                                \n",
      " travelDistance     | 947                              \n",
      "-RECORD 17---------------------------------------------\n",
      " flightID           | eaf033a044596f0a76b132a490927524 \n",
      " searchDate         | 2022-04-16                       \n",
      " searchMonth        | 04                               \n",
      " searchDay          | 16                               \n",
      " flightDate         | 2022-04-17                       \n",
      " flightMonth        | 04                               \n",
      " flightDay          | 17                               \n",
      " startingAirport    | ATL                              \n",
      " destinationAirport | BOS                              \n",
      " duration           | 257                              \n",
      " isEconomy          | false                            \n",
      " isRefundable       | false                            \n",
      " isNonStop          | false                            \n",
      " baseFare           | 260.47                           \n",
      " totalFare          | 302.11                           \n",
      " seatsRemaining     | 1                                \n",
      " travelDistance     | 956                              \n",
      "-RECORD 18---------------------------------------------\n",
      " flightID           | 721d9a2f66fe479e7c17b13e7ae0bb15 \n",
      " searchDate         | 2022-04-16                       \n",
      " searchMonth        | 04                               \n",
      " searchDay          | 16                               \n",
      " flightDate         | 2022-04-17                       \n",
      " flightMonth        | 04                               \n",
      " flightDay          | 17                               \n",
      " startingAirport    | ATL                              \n",
      " destinationAirport | BOS                              \n",
      " duration           | 276                              \n",
      " isEconomy          | false                            \n",
      " isRefundable       | false                            \n",
      " isNonStop          | false                            \n",
      " baseFare           | 260.47                           \n",
      " totalFare          | 302.11                           \n",
      " seatsRemaining     | 1                                \n",
      " travelDistance     | 956                              \n",
      "-RECORD 19---------------------------------------------\n",
      " flightID           | a9f012defb9227f69bf76617b47f4c51 \n",
      " searchDate         | 2022-04-16                       \n",
      " searchMonth        | 04                               \n",
      " searchDay          | 16                               \n",
      " flightDate         | 2022-04-17                       \n",
      " flightMonth        | 04                               \n",
      " flightDay          | 17                               \n",
      " startingAirport    | ATL                              \n",
      " destinationAirport | BOS                              \n",
      " duration           | 285                              \n",
      " isEconomy          | false                            \n",
      " isRefundable       | false                            \n",
      " isNonStop          | false                            \n",
      " baseFare           | 260.47                           \n",
      " totalFare          | 302.11                           \n",
      " seatsRemaining     | 1                                \n",
      " travelDistance     | 956                              \n",
      "-RECORD 20---------------------------------------------\n",
      " flightID           | 676e25bb0ec021d335241354b668c674 \n",
      " searchDate         | 2022-04-16                       \n",
      " searchMonth        | 04                               \n",
      " searchDay          | 16                               \n",
      " flightDate         | 2022-04-17                       \n",
      " flightMonth        | 04                               \n",
      " flightDay          | 17                               \n",
      " startingAirport    | ATL                              \n",
      " destinationAirport | BOS                              \n",
      " duration           | 362                              \n",
      " isEconomy          | false                            \n",
      " isRefundable       | false                            \n",
      " isNonStop          | false                            \n",
      " baseFare           | 260.47                           \n",
      " totalFare          | 302.11                           \n",
      " seatsRemaining     | 1                                \n",
      " travelDistance     | 956                              \n",
      "-RECORD 21---------------------------------------------\n",
      " flightID           | 712a4b5789013e5a4a3e499164309da8 \n",
      " searchDate         | 2022-04-16                       \n",
      " searchMonth        | 04                               \n",
      " searchDay          | 16                               \n",
      " flightDate         | 2022-04-17                       \n",
      " flightMonth        | 04                               \n",
      " flightDay          | 17                               \n",
      " startingAirport    | ATL                              \n",
      " destinationAirport | BOS                              \n",
      " duration           | 374                              \n",
      " isEconomy          | false                            \n",
      " isRefundable       | false                            \n",
      " isNonStop          | false                            \n",
      " baseFare           | 260.47                           \n",
      " totalFare          | 302.11                           \n",
      " seatsRemaining     | 1                                \n",
      " travelDistance     | 956                              \n",
      "-RECORD 22---------------------------------------------\n",
      " flightID           | a6a69aee2e8f75f9b12a5f6b60e65b59 \n",
      " searchDate         | 2022-04-16                       \n",
      " searchMonth        | 04                               \n",
      " searchDay          | 16                               \n",
      " flightDate         | 2022-04-17                       \n",
      " flightMonth        | 04                               \n",
      " flightDay          | 17                               \n",
      " startingAirport    | ATL                              \n",
      " destinationAirport | BOS                              \n",
      " duration           | 586                              \n",
      " isEconomy          | true                             \n",
      " isRefundable       | false                            \n",
      " isNonStop          | false                            \n",
      " baseFare           | 258.6                            \n",
      " totalFare          | 307.2                            \n",
      " seatsRemaining     | 9                                \n",
      " travelDistance     | 947                              \n",
      "-RECORD 23---------------------------------------------\n",
      " flightID           | fcf84a2b44a9fe185a4cebf5cee2e704 \n",
      " searchDate         | 2022-04-16                       \n",
      " searchMonth        | 04                               \n",
      " searchDay          | 16                               \n",
      " flightDate         | 2022-04-17                       \n",
      " flightMonth        | 04                               \n",
      " flightDay          | 17                               \n",
      " startingAirport    | ATL                              \n",
      " destinationAirport | BOS                              \n",
      " duration           | 661                              \n",
      " isEconomy          | true                             \n",
      " isRefundable       | false                            \n",
      " isNonStop          | false                            \n",
      " baseFare           | 258.6                            \n",
      " totalFare          | 307.2                            \n",
      " seatsRemaining     | 9                                \n",
      " travelDistance     | 947                              \n",
      "-RECORD 24---------------------------------------------\n",
      " flightID           | 178742e9c46c9627147449926f997622 \n",
      " searchDate         | 2022-04-16                       \n",
      " searchMonth        | 04                               \n",
      " searchDay          | 16                               \n",
      " flightDate         | 2022-04-17                       \n",
      " flightMonth        | 04                               \n",
      " flightDay          | 17                               \n",
      " startingAirport    | ATL                              \n",
      " destinationAirport | BOS                              \n",
      " duration           | 677                              \n",
      " isEconomy          | true                             \n",
      " isRefundable       | false                            \n",
      " isNonStop          | false                            \n",
      " baseFare           | 258.6                            \n",
      " totalFare          | 307.2                            \n",
      " seatsRemaining     | 9                                \n",
      " travelDistance     | 947                              \n",
      "-RECORD 25---------------------------------------------\n",
      " flightID           | 912ef0fbca3f88a86af24bdc1c1c6c0a \n",
      " searchDate         | 2022-04-16                       \n",
      " searchMonth        | 04                               \n",
      " searchDay          | 16                               \n",
      " flightDate         | 2022-04-17                       \n",
      " flightMonth        | 04                               \n",
      " flightDay          | 17                               \n",
      " startingAirport    | ATL                              \n",
      " destinationAirport | BOS                              \n",
      " duration           | 739                              \n",
      " isEconomy          | false                            \n",
      " isRefundable       | false                            \n",
      " isNonStop          | false                            \n",
      " baseFare           | 204.0                            \n",
      " totalFare          | 311.58                           \n",
      " seatsRemaining     | 0                                \n",
      " travelDistance     | 0                                \n",
      "-RECORD 26---------------------------------------------\n",
      " flightID           | 79c4a172ab07916313f5e8abec0bb1db \n",
      " searchDate         | 2022-04-16                       \n",
      " searchMonth        | 04                               \n",
      " searchDay          | 16                               \n",
      " flightDate         | 2022-04-17                       \n",
      " flightMonth        | 04                               \n",
      " flightDay          | 17                               \n",
      " startingAirport    | ATL                              \n",
      " destinationAirport | BOS                              \n",
      " duration           | 377                              \n",
      " isEconomy          | false                            \n",
      " isRefundable       | false                            \n",
      " isNonStop          | false                            \n",
      " baseFare           | 274.42                           \n",
      " totalFare          | 318.6                            \n",
      " seatsRemaining     | 1                                \n",
      " travelDistance     | 1462                             \n",
      "-RECORD 27---------------------------------------------\n",
      " flightID           | 9863a0e6a923c09fab658b038299c8d5 \n",
      " searchDate         | 2022-04-16                       \n",
      " searchMonth        | 04                               \n",
      " searchDay          | 16                               \n",
      " flightDate         | 2022-04-17                       \n",
      " flightMonth        | 04                               \n",
      " flightDay          | 17                               \n",
      " startingAirport    | ATL                              \n",
      " destinationAirport | BOS                              \n",
      " duration           | 385                              \n",
      " isEconomy          | false                            \n",
      " isRefundable       | false                            \n",
      " isNonStop          | false                            \n",
      " baseFare           | 274.42                           \n",
      " totalFare          | 318.6                            \n",
      " seatsRemaining     | 1                                \n",
      " travelDistance     | 1462                             \n",
      "-RECORD 28---------------------------------------------\n",
      " flightID           | 9401afa39f1ad4275c73a66786500992 \n",
      " searchDate         | 2022-04-16                       \n",
      " searchMonth        | 04                               \n",
      " searchDay          | 16                               \n",
      " flightDate         | 2022-04-17                       \n",
      " flightMonth        | 04                               \n",
      " flightDay          | 17                               \n",
      " startingAirport    | ATL                              \n",
      " destinationAirport | BOS                              \n",
      " duration           | 152                              \n",
      " isEconomy          | false                            \n",
      " isRefundable       | false                            \n",
      " isNonStop          | true                             \n",
      " baseFare           | 292.09                           \n",
      " totalFare          | 328.6                            \n",
      " seatsRemaining     | 9                                \n",
      " travelDistance     | 947                              \n",
      "-RECORD 29---------------------------------------------\n",
      " flightID           | 24c07cf38de8a7a0ed2d7709168042a8 \n",
      " searchDate         | 2022-04-16                       \n",
      " searchMonth        | 04                               \n",
      " searchDay          | 16                               \n",
      " flightDate         | 2022-04-17                       \n",
      " flightMonth        | 04                               \n",
      " flightDay          | 17                               \n",
      " startingAirport    | ATL                              \n",
      " destinationAirport | BOS                              \n",
      " duration           | 164                              \n",
      " isEconomy          | false                            \n",
      " isRefundable       | false                            \n",
      " isNonStop          | true                             \n",
      " baseFare           | 316.73                           \n",
      " totalFare          | 355.09                           \n",
      " seatsRemaining     | 7                                \n",
      " travelDistance     | 947                              \n",
      "-RECORD 30---------------------------------------------\n",
      " flightID           | 5c132806994b4b0c7c87b90a7d1dfa2c \n",
      " searchDate         | 2022-04-16                       \n",
      " searchMonth        | 04                               \n",
      " searchDay          | 16                               \n",
      " flightDate         | 2022-04-17                       \n",
      " flightMonth        | 04                               \n",
      " flightDay          | 17                               \n",
      " startingAirport    | ATL                              \n",
      " destinationAirport | BOS                              \n",
      " duration           | 153                              \n",
      " isEconomy          | false                            \n",
      " isRefundable       | false                            \n",
      " isNonStop          | true                             \n",
      " baseFare           | 357.21                           \n",
      " totalFare          | 398.6                            \n",
      " seatsRemaining     | 9                                \n",
      " travelDistance     | 947                              \n",
      "-RECORD 31---------------------------------------------\n",
      " flightID           | 43eaa7e045b3e8a3157e5e38a31696c9 \n",
      " searchDate         | 2022-04-16                       \n",
      " searchMonth        | 04                               \n",
      " searchDay          | 16                               \n",
      " flightDate         | 2022-04-17                       \n",
      " flightMonth        | 04                               \n",
      " flightDay          | 17                               \n",
      " startingAirport    | ATL                              \n",
      " destinationAirport | BOS                              \n",
      " duration           | 155                              \n",
      " isEconomy          | false                            \n",
      " isRefundable       | false                            \n",
      " isNonStop          | true                             \n",
      " baseFare           | 357.21                           \n",
      " totalFare          | 398.6                            \n",
      " seatsRemaining     | 2                                \n",
      " travelDistance     | 947                              \n",
      "-RECORD 32---------------------------------------------\n",
      " flightID           | 4228d70f70f9ebd1f8cbea9bda172e74 \n",
      " searchDate         | 2022-04-16                       \n",
      " searchMonth        | 04                               \n",
      " searchDay          | 16                               \n",
      " flightDate         | 2022-04-17                       \n",
      " flightMonth        | 04                               \n",
      " flightDay          | 17                               \n",
      " startingAirport    | ATL                              \n",
      " destinationAirport | BOS                              \n",
      " duration           | 158                              \n",
      " isEconomy          | false                            \n",
      " isRefundable       | false                            \n",
      " isNonStop          | true                             \n",
      " baseFare           | 357.21                           \n",
      " totalFare          | 398.6                            \n",
      " seatsRemaining     | 9                                \n",
      " travelDistance     | 947                              \n",
      "-RECORD 33---------------------------------------------\n",
      " flightID           | f089dc3fa43d8a196213d2140b766d55 \n",
      " searchDate         | 2022-04-16                       \n",
      " searchMonth        | 04                               \n",
      " searchDay          | 16                               \n",
      " flightDate         | 2022-04-17                       \n",
      " flightMonth        | 04                               \n",
      " flightDay          | 17                               \n",
      " startingAirport    | ATL                              \n",
      " destinationAirport | BOS                              \n",
      " duration           | 280                              \n",
      " isEconomy          | false                            \n",
      " isRefundable       | false                            \n",
      " isNonStop          | false                            \n",
      " baseFare           | 356.28                           \n",
      " totalFare          | 406.6                            \n",
      " seatsRemaining     | 1                                \n",
      " travelDistance     | 947                              \n",
      "-RECORD 34---------------------------------------------\n",
      " flightID           | 15ba869216430a466549c8efcd3bb109 \n",
      " searchDate         | 2022-04-16                       \n",
      " searchMonth        | 04                               \n",
      " searchDay          | 16                               \n",
      " flightDate         | 2022-04-17                       \n",
      " flightMonth        | 04                               \n",
      " flightDay          | 17                               \n",
      " startingAirport    | ATL                              \n",
      " destinationAirport | BOS                              \n",
      " duration           | 325                              \n",
      " isEconomy          | false                            \n",
      " isRefundable       | false                            \n",
      " isNonStop          | false                            \n",
      " baseFare           | 356.28                           \n",
      " totalFare          | 406.6                            \n",
      " seatsRemaining     | 1                                \n",
      " travelDistance     | 947                              \n",
      "-RECORD 35---------------------------------------------\n",
      " flightID           | 68063b78f62c81ac88820015908ac208 \n",
      " searchDate         | 2022-04-16                       \n",
      " searchMonth        | 04                               \n",
      " searchDay          | 16                               \n",
      " flightDate         | 2022-04-17                       \n",
      " flightMonth        | 04                               \n",
      " flightDay          | 17                               \n",
      " startingAirport    | ATL                              \n",
      " destinationAirport | BOS                              \n",
      " duration           | 164                              \n",
      " isEconomy          | false                            \n",
      " isRefundable       | false                            \n",
      " isNonStop          | true                             \n",
      " baseFare           | 367.98                           \n",
      " totalFare          | 410.18                           \n",
      " seatsRemaining     | 1                                \n",
      " travelDistance     | 947                              \n",
      "-RECORD 36---------------------------------------------\n",
      " flightID           | 758560f5ea68263f52f418286c8d6b7d \n",
      " searchDate         | 2022-04-16                       \n",
      " searchMonth        | 04                               \n",
      " searchDay          | 16                               \n",
      " flightDate         | 2022-04-17                       \n",
      " flightMonth        | 04                               \n",
      " flightDay          | 17                               \n",
      " startingAirport    | ATL                              \n",
      " destinationAirport | BOS                              \n",
      " duration           | 326                              \n",
      " isEconomy          | false                            \n",
      " isRefundable       | false                            \n",
      " isNonStop          | false                            \n",
      " baseFare           | 453.95                           \n",
      " totalFare          | 511.6                            \n",
      " seatsRemaining     | 1                                \n",
      " travelDistance     | 947                              \n",
      "-RECORD 37---------------------------------------------\n",
      " flightID           | d3f144017875166ea860f4929a528fed \n",
      " searchDate         | 2022-04-16                       \n",
      " searchMonth        | 04                               \n",
      " searchDay          | 16                               \n",
      " flightDate         | 2022-04-17                       \n",
      " flightMonth        | 04                               \n",
      " flightDay          | 17                               \n",
      " startingAirport    | ATL                              \n",
      " destinationAirport | CLT                              \n",
      " duration           | 385                              \n",
      " isEconomy          | false                            \n",
      " isRefundable       | false                            \n",
      " isNonStop          | false                            \n",
      " baseFare           | 338.6                            \n",
      " totalFare          | 387.6                            \n",
      " seatsRemaining     | 1                                \n",
      " travelDistance     | 1192                             \n",
      "-RECORD 38---------------------------------------------\n",
      " flightID           | 8a6ab300fc0b1f1aa1da065091f878fb \n",
      " searchDate         | 2022-04-16                       \n",
      " searchMonth        | 04                               \n",
      " searchDay          | 16                               \n",
      " flightDate         | 2022-04-17                       \n",
      " flightMonth        | 04                               \n",
      " flightDay          | 17                               \n",
      " startingAirport    | ATL                              \n",
      " destinationAirport | CLT                              \n",
      " duration           | 263                              \n",
      " isEconomy          | false                            \n",
      " isRefundable       | false                            \n",
      " isNonStop          | false                            \n",
      " baseFare           | 339.53                           \n",
      " totalFare          | 388.6                            \n",
      " seatsRemaining     | 2                                \n",
      " travelDistance     | 868                              \n",
      "-RECORD 39---------------------------------------------\n",
      " flightID           | 33dba4888a3a68195d53ec2cc8b0a2d6 \n",
      " searchDate         | 2022-04-16                       \n",
      " searchMonth        | 04                               \n",
      " searchDay          | 16                               \n",
      " flightDate         | 2022-04-17                       \n",
      " flightMonth        | 04                               \n",
      " flightDay          | 17                               \n",
      " startingAirport    | ATL                              \n",
      " destinationAirport | CLT                              \n",
      " duration           | 68                               \n",
      " isEconomy          | false                            \n",
      " isRefundable       | false                            \n",
      " isNonStop          | true                             \n",
      " baseFare           | 357.21                           \n",
      " totalFare          | 398.6                            \n",
      " seatsRemaining     | 6                                \n",
      " travelDistance     | 228                              \n",
      "-RECORD 40---------------------------------------------\n",
      " flightID           | c845939967043028ed636265d9858c98 \n",
      " searchDate         | 2022-04-16                       \n",
      " searchMonth        | 04                               \n",
      " searchDay          | 16                               \n",
      " flightDate         | 2022-04-17                       \n",
      " flightMonth        | 04                               \n",
      " flightDay          | 17                               \n",
      " startingAirport    | ATL                              \n",
      " destinationAirport | CLT                              \n",
      " duration           | 70                               \n",
      " isEconomy          | false                            \n",
      " isRefundable       | false                            \n",
      " isNonStop          | true                             \n",
      " baseFare           | 357.21                           \n",
      " totalFare          | 398.6                            \n",
      " seatsRemaining     | 6                                \n",
      " travelDistance     | 228                              \n",
      "-RECORD 41---------------------------------------------\n",
      " flightID           | ce7fc430dda2de28280b107bbd9bdde9 \n",
      " searchDate         | 2022-04-16                       \n",
      " searchMonth        | 04                               \n",
      " searchDay          | 16                               \n",
      " flightDate         | 2022-04-17                       \n",
      " flightMonth        | 04                               \n",
      " flightDay          | 17                               \n",
      " startingAirport    | ATL                              \n",
      " destinationAirport | CLT                              \n",
      " duration           | 71                               \n",
      " isEconomy          | false                            \n",
      " isRefundable       | false                            \n",
      " isNonStop          | true                             \n",
      " baseFare           | 357.21                           \n",
      " totalFare          | 398.6                            \n",
      " seatsRemaining     | 9                                \n",
      " travelDistance     | 228                              \n",
      "-RECORD 42---------------------------------------------\n",
      " flightID           | 755bc876091cb5997260bd99361b9e8e \n",
      " searchDate         | 2022-04-16                       \n",
      " searchMonth        | 04                               \n",
      " searchDay          | 16                               \n",
      " flightDate         | 2022-04-17                       \n",
      " flightMonth        | 04                               \n",
      " flightDay          | 17                               \n",
      " startingAirport    | ATL                              \n",
      " destinationAirport | CLT                              \n",
      " duration           | 71                               \n",
      " isEconomy          | false                            \n",
      " isRefundable       | false                            \n",
      " isNonStop          | true                             \n",
      " baseFare           | 357.21                           \n",
      " totalFare          | 398.6                            \n",
      " seatsRemaining     | 9                                \n",
      " travelDistance     | 228                              \n",
      "-RECORD 43---------------------------------------------\n",
      " flightID           | 37fa5869a691efc56a308dc636280c68 \n",
      " searchDate         | 2022-04-16                       \n",
      " searchMonth        | 04                               \n",
      " searchDay          | 16                               \n",
      " flightDate         | 2022-04-17                       \n",
      " flightMonth        | 04                               \n",
      " flightDay          | 17                               \n",
      " startingAirport    | ATL                              \n",
      " destinationAirport | CLT                              \n",
      " duration           | 73                               \n",
      " isEconomy          | false                            \n",
      " isRefundable       | false                            \n",
      " isNonStop          | true                             \n",
      " baseFare           | 357.21                           \n",
      " totalFare          | 398.6                            \n",
      " seatsRemaining     | 4                                \n",
      " travelDistance     | 228                              \n",
      "-RECORD 44---------------------------------------------\n",
      " flightID           | e121392f988f65cb003643978e5c68d8 \n",
      " searchDate         | 2022-04-16                       \n",
      " searchMonth        | 04                               \n",
      " searchDay          | 16                               \n",
      " flightDate         | 2022-04-17                       \n",
      " flightMonth        | 04                               \n",
      " flightDay          | 17                               \n",
      " startingAirport    | ATL                              \n",
      " destinationAirport | CLT                              \n",
      " duration           | 74                               \n",
      " isEconomy          | false                            \n",
      " isRefundable       | false                            \n",
      " isNonStop          | true                             \n",
      " baseFare           | 357.21                           \n",
      " totalFare          | 398.6                            \n",
      " seatsRemaining     | 9                                \n",
      " travelDistance     | 228                              \n",
      "-RECORD 45---------------------------------------------\n",
      " flightID           | 0f4f714611896ddd63accedfa9050cd9 \n",
      " searchDate         | 2022-04-16                       \n",
      " searchMonth        | 04                               \n",
      " searchDay          | 16                               \n",
      " flightDate         | 2022-04-17                       \n",
      " flightMonth        | 04                               \n",
      " flightDay          | 17                               \n",
      " startingAirport    | ATL                              \n",
      " destinationAirport | CLT                              \n",
      " duration           | 74                               \n",
      " isEconomy          | false                            \n",
      " isRefundable       | false                            \n",
      " isNonStop          | true                             \n",
      " baseFare           | 357.21                           \n",
      " totalFare          | 398.6                            \n",
      " seatsRemaining     | 3                                \n",
      " travelDistance     | 228                              \n",
      "-RECORD 46---------------------------------------------\n",
      " flightID           | 270a3e706e403f1d6d383c127d1647e9 \n",
      " searchDate         | 2022-04-16                       \n",
      " searchMonth        | 04                               \n",
      " searchDay          | 16                               \n",
      " flightDate         | 2022-04-17                       \n",
      " flightMonth        | 04                               \n",
      " flightDay          | 17                               \n",
      " startingAirport    | ATL                              \n",
      " destinationAirport | CLT                              \n",
      " duration           | 77                               \n",
      " isEconomy          | false                            \n",
      " isRefundable       | false                            \n",
      " isNonStop          | true                             \n",
      " baseFare           | 357.21                           \n",
      " totalFare          | 398.6                            \n",
      " seatsRemaining     | 4                                \n",
      " travelDistance     | 228                              \n",
      "-RECORD 47---------------------------------------------\n",
      " flightID           | 99666577c217e0a6b54a17e2f8ab9a7b \n",
      " searchDate         | 2022-04-16                       \n",
      " searchMonth        | 04                               \n",
      " searchDay          | 16                               \n",
      " flightDate         | 2022-04-17                       \n",
      " flightMonth        | 04                               \n",
      " flightDay          | 17                               \n",
      " startingAirport    | ATL                              \n",
      " destinationAirport | CLT                              \n",
      " duration           | 81                               \n",
      " isEconomy          | false                            \n",
      " isRefundable       | false                            \n",
      " isNonStop          | true                             \n",
      " baseFare           | 357.21                           \n",
      " totalFare          | 398.6                            \n",
      " seatsRemaining     | 7                                \n",
      " travelDistance     | 228                              \n",
      "-RECORD 48---------------------------------------------\n",
      " flightID           | dc2eda19b0499170f1f7f8c5a179ac07 \n",
      " searchDate         | 2022-04-16                       \n",
      " searchMonth        | 04                               \n",
      " searchDay          | 16                               \n",
      " flightDate         | 2022-04-17                       \n",
      " flightMonth        | 04                               \n",
      " flightDay          | 17                               \n",
      " startingAirport    | ATL                              \n",
      " destinationAirport | CLT                              \n",
      " duration           | 82                               \n",
      " isEconomy          | false                            \n",
      " isRefundable       | false                            \n",
      " isNonStop          | true                             \n",
      " baseFare           | 357.21                           \n",
      " totalFare          | 398.6                            \n",
      " seatsRemaining     | 1                                \n",
      " travelDistance     | 228                              \n",
      "-RECORD 49---------------------------------------------\n",
      " flightID           | a3538341dedeb12798f130dd6c1e1e01 \n",
      " searchDate         | 2022-04-16                       \n",
      " searchMonth        | 04                               \n",
      " searchDay          | 16                               \n",
      " flightDate         | 2022-04-17                       \n",
      " flightMonth        | 04                               \n",
      " flightDay          | 17                               \n",
      " startingAirport    | ATL                              \n",
      " destinationAirport | CLT                              \n",
      " duration           | 86                               \n",
      " isEconomy          | false                            \n",
      " isRefundable       | false                            \n",
      " isNonStop          | true                             \n",
      " baseFare           | 357.21                           \n",
      " totalFare          | 398.6                            \n",
      " seatsRemaining     | 3                                \n",
      " travelDistance     | 228                              \n",
      "-RECORD 50---------------------------------------------\n",
      " flightID           | c1b459e641c768522054510f828fef9c \n",
      " searchDate         | 2022-04-16                       \n",
      " searchMonth        | 04                               \n",
      " searchDay          | 16                               \n",
      " flightDate         | 2022-04-17                       \n",
      " flightMonth        | 04                               \n",
      " flightDay          | 17                               \n",
      " startingAirport    | ATL                              \n",
      " destinationAirport | CLT                              \n",
      " duration           | 90                               \n",
      " isEconomy          | false                            \n",
      " isRefundable       | false                            \n",
      " isNonStop          | true                             \n",
      " baseFare           | 357.21                           \n",
      " totalFare          | 398.6                            \n",
      " seatsRemaining     | 4                                \n",
      " travelDistance     | 228                              \n",
      "-RECORD 51---------------------------------------------\n",
      " flightID           | eb1f503b7ddf16f50c7214ed53fa9409 \n",
      " searchDate         | 2022-04-16                       \n",
      " searchMonth        | 04                               \n",
      " searchDay          | 16                               \n",
      " flightDate         | 2022-04-17                       \n",
      " flightMonth        | 04                               \n",
      " flightDay          | 17                               \n",
      " startingAirport    | ATL                              \n",
      " destinationAirport | CLT                              \n",
      " duration           | 657                              \n",
      " isEconomy          | false                            \n",
      " isRefundable       | false                            \n",
      " isNonStop          | false                            \n",
      " baseFare           | 349.76                           \n",
      " totalFare          | 405.19                           \n",
      " seatsRemaining     | 1                                \n",
      " travelDistance     | 1192                             \n",
      "-RECORD 52---------------------------------------------\n",
      " flightID           | 2f16eb22d9347d4122949c3fb0a93445 \n",
      " searchDate         | 2022-04-16                       \n",
      " searchMonth        | 04                               \n",
      " searchDay          | 16                               \n",
      " flightDate         | 2022-04-17                       \n",
      " flightMonth        | 04                               \n",
      " flightDay          | 17                               \n",
      " startingAirport    | ATL                              \n",
      " destinationAirport | CLT                              \n",
      " duration           | 306                              \n",
      " isEconomy          | false                            \n",
      " isRefundable       | false                            \n",
      " isNonStop          | false                            \n",
      " baseFare           | 436.28                           \n",
      " totalFare          | 492.6                            \n",
      " seatsRemaining     | 1                                \n",
      " travelDistance     | 1307                             \n",
      "-RECORD 53---------------------------------------------\n",
      " flightID           | cc7ca757dcd0ff76b2f0b4eb37419886 \n",
      " searchDate         | 2022-04-16                       \n",
      " searchMonth        | 04                               \n",
      " searchDay          | 16                               \n",
      " flightDate         | 2022-04-17                       \n",
      " flightMonth        | 04                               \n",
      " flightDay          | 17                               \n",
      " startingAirport    | ATL                              \n",
      " destinationAirport | CLT                              \n",
      " duration           | 352                              \n",
      " isEconomy          | false                            \n",
      " isRefundable       | false                            \n",
      " isNonStop          | false                            \n",
      " baseFare           | 436.28                           \n",
      " totalFare          | 492.6                            \n",
      " seatsRemaining     | 1                                \n",
      " travelDistance     | 1307                             \n",
      "-RECORD 54---------------------------------------------\n",
      " flightID           | 530b3a529421fba4f8b0acea9ecd03b0 \n",
      " searchDate         | 2022-04-16                       \n",
      " searchMonth        | 04                               \n",
      " searchDay          | 16                               \n",
      " flightDate         | 2022-04-17                       \n",
      " flightMonth        | 04                               \n",
      " flightDay          | 17                               \n",
      " startingAirport    | ATL                              \n",
      " destinationAirport | CLT                              \n",
      " duration           | 508                              \n",
      " isEconomy          | false                            \n",
      " isRefundable       | false                            \n",
      " isNonStop          | false                            \n",
      " baseFare           | 436.28                           \n",
      " totalFare          | 492.6                            \n",
      " seatsRemaining     | 1                                \n",
      " travelDistance     | 1307                             \n",
      "-RECORD 55---------------------------------------------\n",
      " flightID           | adf4519f6153567d3fc4631363fb669a \n",
      " searchDate         | 2022-04-16                       \n",
      " searchMonth        | 04                               \n",
      " searchDay          | 16                               \n",
      " flightDate         | 2022-04-17                       \n",
      " flightMonth        | 04                               \n",
      " flightDay          | 17                               \n",
      " startingAirport    | ATL                              \n",
      " destinationAirport | CLT                              \n",
      " duration           | 588                              \n",
      " isEconomy          | false                            \n",
      " isRefundable       | false                            \n",
      " isNonStop          | false                            \n",
      " baseFare           | 436.28                           \n",
      " totalFare          | 498.2                            \n",
      " seatsRemaining     | 1                                \n",
      " travelDistance     | 1307                             \n",
      "-RECORD 56---------------------------------------------\n",
      " flightID           | 1b2084397393607a0944ac52ea3f3075 \n",
      " searchDate         | 2022-04-16                       \n",
      " searchMonth        | 04                               \n",
      " searchDay          | 16                               \n",
      " flightDate         | 2022-04-17                       \n",
      " flightMonth        | 04                               \n",
      " flightDay          | 17                               \n",
      " startingAirport    | ATL                              \n",
      " destinationAirport | CLT                              \n",
      " duration           | 731                              \n",
      " isEconomy          | false                            \n",
      " isRefundable       | false                            \n",
      " isNonStop          | false                            \n",
      " baseFare           | 436.28                           \n",
      " totalFare          | 498.2                            \n",
      " seatsRemaining     | 1                                \n",
      " travelDistance     | 1307                             \n",
      "-RECORD 57---------------------------------------------\n",
      " flightID           | a291a2b5ac19223c3407cfec58d1fc24 \n",
      " searchDate         | 2022-04-16                       \n",
      " searchMonth        | 04                               \n",
      " searchDay          | 16                               \n",
      " flightDate         | 2022-04-17                       \n",
      " flightMonth        | 04                               \n",
      " flightDay          | 17                               \n",
      " startingAirport    | ATL                              \n",
      " destinationAirport | CLT                              \n",
      " duration           | 528                              \n",
      " isEconomy          | false                            \n",
      " isRefundable       | false                            \n",
      " isNonStop          | false                            \n",
      " baseFare           | 482.79                           \n",
      " totalFare          | 542.6                            \n",
      " seatsRemaining     | 7                                \n",
      " travelDistance     | 1675                             \n",
      "-RECORD 58---------------------------------------------\n",
      " flightID           | 010e9d6cf62242862111a515d5f47f5d \n",
      " searchDate         | 2022-04-16                       \n",
      " searchMonth        | 04                               \n",
      " searchDay          | 16                               \n",
      " flightDate         | 2022-04-17                       \n",
      " flightMonth        | 04                               \n",
      " flightDay          | 17                               \n",
      " startingAirport    | ATL                              \n",
      " destinationAirport | CLT                              \n",
      " duration           | 86                               \n",
      " isEconomy          | false                            \n",
      " isRefundable       | false                            \n",
      " isNonStop          | true                             \n",
      " baseFare           | 506.98                           \n",
      " totalFare          | 559.6                            \n",
      " seatsRemaining     | 1                                \n",
      " travelDistance     | 228                              \n",
      "-RECORD 59---------------------------------------------\n",
      " flightID           | 3a3a69378bf84af8c2bbd5363f9e6641 \n",
      " searchDate         | 2022-04-16                       \n",
      " searchMonth        | 04                               \n",
      " searchDay          | 16                               \n",
      " flightDate         | 2022-04-17                       \n",
      " flightMonth        | 04                               \n",
      " flightDay          | 17                               \n",
      " startingAirport    | ATL                              \n",
      " destinationAirport | CLT                              \n",
      " duration           | 12                               \n",
      " isEconomy          | false                            \n",
      " isRefundable       | false                            \n",
      " isNonStop          | false                            \n",
      " baseFare           | 528.37                           \n",
      " totalFare          | 597.2                            \n",
      " seatsRemaining     | 1                                \n",
      " travelDistance     | 1307                             \n",
      "only showing top 60 rows\n",
      "\n"
     ]
    }
   ],
   "source": [
    "import spark.implicits._\n",
    "\n",
    "val columns = Seq(\"flightID\",\n",
    "                  \"searchDate\",\n",
    "                  \"searchMonth\",\n",
    "                  \"searchDay\",\n",
    "                  \"flightDate\",\n",
    "                  \"flightMonth\",\n",
    "                  \"flightDay\",\n",
    "                  \"startingAirport\",\n",
    "                  \"destinationAirport\",\n",
    "                  \"duration\",\n",
    "                  \"isEconomy\",\n",
    "                  \"isRefundable\",\n",
    "                  \"isNonStop\",\n",
    "                  \"baseFare\",\n",
    "                  \"totalFare\",\n",
    "                  \"seatsRemaining\",\n",
    "                  \"travelDistance\")\n",
    "\n",
    "val flightDataframe = rddFlights.toDF(columns:_*)\n",
    "flightDataframe.show(60,truncate=40,vertical=true)"
   ]
  },
  {
   "cell_type": "markdown",
   "id": "1b2d9b98",
   "metadata": {},
   "source": [
    "#### Define a function to compute the number of days between the searchDate and the flightDate"
   ]
  },
  {
   "cell_type": "code",
   "execution_count": 4,
   "id": "1ffbfe4c",
   "metadata": {
    "scrolled": true
   },
   "outputs": [
    {
     "data": {
      "application/vnd.jupyter.widget-view+json": {
       "model_id": "258a0eb59b8e4f828e8cf420da51cd58",
       "version_major": 2,
       "version_minor": 0
      },
      "text/plain": [
       "VBox()"
      ]
     },
     "metadata": {},
     "output_type": "display_data"
    },
    {
     "data": {
      "application/vnd.jupyter.widget-view+json": {
       "model_id": "",
       "version_major": 2,
       "version_minor": 0
      },
      "text/plain": [
       "FloatProgress(value=0.0, bar_style='info', description='Progress:', layout=Layout(height='25px', width='50%'),…"
      ]
     },
     "metadata": {},
     "output_type": "display_data"
    },
    {
     "name": "stdout",
     "output_type": "stream",
     "text": [
      "import java.time.temporal.ChronoUnit.DAYS\n",
      "import java.time.LocalDate\n",
      "daysBetween: (x: FlightData)Long\n"
     ]
    }
   ],
   "source": [
    "import java.time.temporal.ChronoUnit.DAYS\n",
    "import java.time.LocalDate\n",
    "\n",
    "def daysBetween(x: FlightData): Long = {\n",
    "        val searchDate = LocalDate.parse(x.searchDate);\n",
    "        val flightDate = LocalDate.parse(x.flightDate);\n",
    "        val daysBetween = DAYS.between(searchDate, flightDate);\n",
    "        daysBetween\n",
    "}"
   ]
  },
  {
   "cell_type": "markdown",
   "id": "e8fdf60d",
   "metadata": {},
   "source": [
    "## Data Exploration"
   ]
  },
  {
   "cell_type": "markdown",
   "id": "1d7151c7",
   "metadata": {},
   "source": [
    "#### Cache the dataset to run futher analysis and queries later"
   ]
  },
  {
   "cell_type": "code",
   "execution_count": 5,
   "id": "ac09ab83",
   "metadata": {
    "scrolled": true
   },
   "outputs": [
    {
     "data": {
      "application/vnd.jupyter.widget-view+json": {
       "model_id": "1bd98f487fde49ba893e0e5c46bdfb09",
       "version_major": 2,
       "version_minor": 0
      },
      "text/plain": [
       "VBox()"
      ]
     },
     "metadata": {},
     "output_type": "display_data"
    },
    {
     "data": {
      "application/vnd.jupyter.widget-view+json": {
       "model_id": "",
       "version_major": 2,
       "version_minor": 0
      },
      "text/plain": [
       "FloatProgress(value=0.0, bar_style='info', description='Progress:', layout=Layout(height='25px', width='50%'),…"
      ]
     },
     "metadata": {},
     "output_type": "display_data"
    },
    {
     "name": "stdout",
     "output_type": "stream",
     "text": [
      "rddFlightsCached: rddFlights.type = MapPartitionsRDD[3] at map at <console>:29\n"
     ]
    }
   ],
   "source": [
    "val rddFlightsCached = rddFlights.cache()"
   ]
  },
  {
   "cell_type": "markdown",
   "id": "b341f94b",
   "metadata": {},
   "source": [
    "#### Perform the following counts to explore the dataset:"
   ]
  },
  {
   "cell_type": "markdown",
   "id": "e1df4879",
   "metadata": {},
   "source": [
    "- Number of searches performed \n",
    "- Number of distinct flights\n",
    "- Number of distinct startingAirport"
   ]
  },
  {
   "cell_type": "code",
   "execution_count": 7,
   "id": "109bf983",
   "metadata": {},
   "outputs": [
    {
     "data": {
      "application/vnd.jupyter.widget-view+json": {
       "model_id": "3ec1cbd3a52b4663bc16bf7422237b9f",
       "version_major": 2,
       "version_minor": 0
      },
      "text/plain": [
       "VBox()"
      ]
     },
     "metadata": {},
     "output_type": "display_data"
    },
    {
     "data": {
      "application/vnd.jupyter.widget-view+json": {
       "model_id": "",
       "version_major": 2,
       "version_minor": 0
      },
      "text/plain": [
       "FloatProgress(value=0.0, bar_style='info', description='Progress:', layout=Layout(height='25px', width='50%'),…"
      ]
     },
     "metadata": {},
     "output_type": "display_data"
    },
    {
     "name": "stdout",
     "output_type": "stream",
     "text": [
      "res14: String = Number of searches performed: 82138753\n",
      "res15: String = Number of distinct flights: 5999739\n",
      "res16: String = Number of distinct startingAirport: 16\n"
     ]
    }
   ],
   "source": [
    "\"Number of searches performed: \" + rddFlightsCached.count() //82138753\n",
    "\"Number of distinct flights: \" + rddFlightsCached.map(x => x.flightID).distinct().count() // 5999739\n",
    "\"Number of distinct startingAirport: \" + rddFlightsCached.map(x => (x.startingAirport)).distinct().count() //16"
   ]
  },
  {
   "cell_type": "markdown",
   "id": "9c71f444",
   "metadata": {},
   "source": [
    "- Number of flights by starting airport\n",
    "- Number of flights by month\n",
    "- Number of routes, that are the possible combinations of starting and destination airport"
   ]
  },
  {
   "cell_type": "code",
   "execution_count": 19,
   "id": "d08be480",
   "metadata": {},
   "outputs": [
    {
     "data": {
      "application/vnd.jupyter.widget-view+json": {
       "model_id": "b05bf2ca1f6d4e6ab434e71a38bedafc",
       "version_major": 2,
       "version_minor": 0
      },
      "text/plain": [
       "VBox()"
      ]
     },
     "metadata": {},
     "output_type": "display_data"
    },
    {
     "data": {
      "application/vnd.jupyter.widget-view+json": {
       "model_id": "",
       "version_major": 2,
       "version_minor": 0
      },
      "text/plain": [
       "FloatProgress(value=0.0, bar_style='info', description='Progress:', layout=Layout(height='25px', width='50%'),…"
      ]
     },
     "metadata": {},
     "output_type": "display_data"
    },
    {
     "name": "stdout",
     "output_type": "stream",
     "text": [
      "Number of flights by month: flightsByMonth: Array[(String, Int)] = Array((04,195651), (05,715546), (06,970381), (07,1004760), (08,1035367), (09,963734), (10,752287), (11,362013))\n"
     ]
    }
   ],
   "source": [
    "print(\"Number of flights by starting airport: \")\n",
    "val flightsByAirport = rddFlightsCached.\n",
    "    map(x => (x.flightID, x.startingAirport)).\n",
    "    distinct().\n",
    "    map(x => (x._2, 1)).\n",
    "    reduceByKey(_+_).\n",
    "    collect()\n",
    "// Array((LAX,580153), (CLT,394302), (JFK,288128), (BOS,439584), (OAK,309963), (LGA,426296), (ATL,362460), (MIA,343418), \n",
    "//(DTW,335334), (PHL,358076), (SFO,514561), (EWR,283379), (ORD,360045), (DEN,324702), (IAD,301958), (DFW,377531))\n",
    "\n",
    "print(\"Number of flights by month: \") \n",
    "val flightsByMonth = rddFlightsCached.\n",
    "    map(x => (x.flightID, x.flightMonth)).\n",
    "    distinct().\n",
    "    map(x => (x._2, 1)).\n",
    "    reduceByKey(_+_).\n",
    "    collect()\n",
    "// Array((04,195651), (05,715546), (06,970381), (07,1004760), (08,1035367), (09,963734), (10,752287), (11,362013))\n",
    "\n",
    "\"Number of routes: \" + rddFlightsCached.\n",
    "    map(x => (x.startingAirport, x.destinationAirport)).\n",
    "    distinct().\n",
    "    count()\n",
    "// 235"
   ]
  },
  {
   "cell_type": "markdown",
   "id": "9cc716dd",
   "metadata": {},
   "source": [
    "- Number of flights that have an available economy ticket\n",
    "- Number of flights that have an available no-economy ticket\n",
    "- Number of direct flights"
   ]
  },
  {
   "cell_type": "code",
   "execution_count": 21,
   "id": "1efcc96f",
   "metadata": {},
   "outputs": [
    {
     "data": {
      "application/vnd.jupyter.widget-view+json": {
       "model_id": "bc3e69681b084b74aa6d82f9af56552b",
       "version_major": 2,
       "version_minor": 0
      },
      "text/plain": [
       "VBox()"
      ]
     },
     "metadata": {},
     "output_type": "display_data"
    },
    {
     "data": {
      "application/vnd.jupyter.widget-view+json": {
       "model_id": "",
       "version_major": 2,
       "version_minor": 0
      },
      "text/plain": [
       "FloatProgress(value=0.0, bar_style='info', description='Progress:', layout=Layout(height='25px', width='50%'),…"
      ]
     },
     "metadata": {},
     "output_type": "display_data"
    },
    {
     "name": "stdout",
     "output_type": "stream",
     "text": [
      "res92: String = Number of flights that have an available economy ticket: 1189124\n",
      "res94: String = Number of flights that have an available non economy ticket: 5551777\n",
      "res96: String = Number of direct flights: 651615\n"
     ]
    }
   ],
   "source": [
    "\"Number of flights that have an available economy ticket: \" + rddFlightsCached.\n",
    "    filter(_.isEconomy).\n",
    "    map(x => x.flightID).\n",
    "    distinct().\n",
    "    count()\n",
    "// 1189124\n",
    "\n",
    "\"Number of flights that have an available non economy ticket: \" + rddFlightsCached.\n",
    "    filter(!_.isEconomy).\n",
    "    map(x => x.flightID).\n",
    "    distinct().\n",
    "    count()\n",
    "// 5551777\n",
    "\n",
    "\"Number of direct flights: \" + rddFlightsCached.\n",
    "    map(x => (x.flightID, x.isNonStop)).\n",
    "    distinct().\n",
    "    filter(x => x._2 == true).\n",
    "    count() \n",
    "// 651615"
   ]
  },
  {
   "cell_type": "markdown",
   "id": "f6da0874",
   "metadata": {},
   "source": [
    "## Jobs"
   ]
  },
  {
   "cell_type": "code",
   "execution_count": 24,
   "id": "308f503a",
   "metadata": {},
   "outputs": [
    {
     "data": {
      "application/vnd.jupyter.widget-view+json": {
       "model_id": "2cbf50e8cbf043f8abf88fd54f25ffda",
       "version_major": 2,
       "version_minor": 0
      },
      "text/plain": [
       "VBox()"
      ]
     },
     "metadata": {},
     "output_type": "display_data"
    },
    {
     "data": {
      "application/vnd.jupyter.widget-view+json": {
       "model_id": "",
       "version_major": 2,
       "version_minor": 0
      },
      "text/plain": [
       "FloatProgress(value=0.0, bar_style='info', description='Progress:', layout=Layout(height='25px', width='50%'),…"
      ]
     },
     "metadata": {},
     "output_type": "display_data"
    },
    {
     "name": "stdout",
     "output_type": "stream",
     "text": [
      "import org.apache.spark.sql.SaveMode\n",
      "path_output: String = s3a://unibo-bd2223-vfolin/spark/bdexam\n"
     ]
    }
   ],
   "source": [
    "// define the path where we will save the results of queries\n",
    "import org.apache.spark.sql.SaveMode\n",
    "val path_output = \"s3a://\"+bucketname+\"/spark/bdexam\""
   ]
  },
  {
   "cell_type": "markdown",
   "id": "9d3d2e9d",
   "metadata": {},
   "source": [
    "### 1 - Veronika Folin\n",
    "\n",
    "The change that occurs in the ticket price in 14 days prior to flight departure is calculated, dividing the result between economy and no-economy tickets.\n",
    "\n",
    "The correlation between that change in price and the number of seats remaining on that flight is then displayed."
   ]
  },
  {
   "cell_type": "markdown",
   "id": "5089d128",
   "metadata": {},
   "source": [
    "#### We filter data to obtain searches made in the last 30 days before flight departure\n",
    "\n",
    "The filtering operation allows us to reduce the number of records and therefore to optimize subsequent queries."
   ]
  },
  {
   "cell_type": "code",
   "execution_count": 22,
   "id": "38327eb6",
   "metadata": {},
   "outputs": [
    {
     "data": {
      "application/vnd.jupyter.widget-view+json": {
       "model_id": "3bac4bb031bd4d8f8eb99affed472d65",
       "version_major": 2,
       "version_minor": 0
      },
      "text/plain": [
       "VBox()"
      ]
     },
     "metadata": {},
     "output_type": "display_data"
    },
    {
     "data": {
      "application/vnd.jupyter.widget-view+json": {
       "model_id": "",
       "version_major": 2,
       "version_minor": 0
      },
      "text/plain": [
       "FloatProgress(value=0.0, bar_style='info', description='Progress:', layout=Layout(height='25px', width='50%'),…"
      ]
     },
     "metadata": {},
     "output_type": "display_data"
    },
    {
     "name": "stdout",
     "output_type": "stream",
     "text": [
      "rddFlightsFiltered: org.apache.spark.rdd.RDD[FlightData] = MapPartitionsRDD[132] at filter at <console>:33\n"
     ]
    }
   ],
   "source": [
    "val rddFlightsFiltered = rddFlights.\n",
    "    filter(x => daysBetween(x) <= 30).\n",
    "    cache()\n",
    "\n",
    "//\"Number of filtered flights: \" + rddFlightsFiltered.count()\n",
    "// 47674280"
   ]
  },
  {
   "cell_type": "markdown",
   "id": "f1a62651",
   "metadata": {},
   "source": [
    "#### We divide the result between economy and no-economy tickets"
   ]
  },
  {
   "cell_type": "code",
   "execution_count": 23,
   "id": "05a1a8ac",
   "metadata": {
    "scrolled": true
   },
   "outputs": [
    {
     "data": {
      "application/vnd.jupyter.widget-view+json": {
       "model_id": "f5395e9335f244fa8f75924388e7b877",
       "version_major": 2,
       "version_minor": 0
      },
      "text/plain": [
       "VBox()"
      ]
     },
     "metadata": {},
     "output_type": "display_data"
    },
    {
     "data": {
      "application/vnd.jupyter.widget-view+json": {
       "model_id": "",
       "version_major": 2,
       "version_minor": 0
      },
      "text/plain": [
       "FloatProgress(value=0.0, bar_style='info', description='Progress:', layout=Layout(height='25px', width='50%'),…"
      ]
     },
     "metadata": {},
     "output_type": "display_data"
    },
    {
     "name": "stdout",
     "output_type": "stream",
     "text": [
      "rddEconomyFlights: org.apache.spark.rdd.RDD[FlightData] = MapPartitionsRDD[133] at filter at <console>:30\n",
      "rddNoEconomyFlights: org.apache.spark.rdd.RDD[FlightData] = MapPartitionsRDD[134] at filter at <console>:30\n"
     ]
    }
   ],
   "source": [
    "val rddEconomyFlights = rddFlightsFiltered.filter(_.isEconomy)\n",
    "val rddNoEconomyFlights = rddFlightsFiltered.filter(!_.isEconomy)"
   ]
  },
  {
   "cell_type": "markdown",
   "id": "51bec96a",
   "metadata": {},
   "source": [
    "#### We calculate the average ticket price in a given number of days before departure"
   ]
  },
  {
   "cell_type": "code",
   "execution_count": 26,
   "id": "8db64182",
   "metadata": {
    "scrolled": true
   },
   "outputs": [
    {
     "data": {
      "application/vnd.jupyter.widget-view+json": {
       "model_id": "5c87de68880943989512c7dffd4bee09",
       "version_major": 2,
       "version_minor": 0
      },
      "text/plain": [
       "VBox()"
      ]
     },
     "metadata": {},
     "output_type": "display_data"
    },
    {
     "data": {
      "application/vnd.jupyter.widget-view+json": {
       "model_id": "",
       "version_major": 2,
       "version_minor": 0
      },
      "text/plain": [
       "FloatProgress(value=0.0, bar_style='info', description='Progress:', layout=Layout(height='25px', width='50%'),…"
      ]
     },
     "metadata": {},
     "output_type": "display_data"
    },
    {
     "name": "stdout",
     "output_type": "stream",
     "text": [
      "rddAveragePriceEconomy: org.apache.spark.rdd.RDD[(Long, Double)] = MapPartitionsRDD[137] at map at <console>:36\n",
      "rddAveragePriceNoEconomy: org.apache.spark.rdd.RDD[(Long, Double)] = MapPartitionsRDD[140] at map at <console>:37\n"
     ]
    }
   ],
   "source": [
    "val rddAveragePriceEconomy = rddEconomyFlights.\n",
    "    map(x => (daysBetween(x), x.baseFare)).\n",
    "    aggregateByKey((0.0,0.0))((x,y)=>(x._1+y, x._2 + 1) , (x,y)=>(x._1 + y._1, x._2 + y._2)).\n",
    "    map({case(k,v) => (k, v._1/v._2)})\n",
    "\n",
    "val rddAveragePriceNoEconomy = rddNoEconomyFlights.\n",
    "    map(x => (daysBetween(x), x.baseFare)).\n",
    "    aggregateByKey((0.0,0.0))((x,y)=>(x._1+y, x._2 + 1) , (x,y)=>(x._1 + y._1, x._2 + y._2)).\n",
    "    map({case(k,v) => (k, v._1/v._2)})"
   ]
  },
  {
   "cell_type": "markdown",
   "id": "c0b7533a",
   "metadata": {},
   "source": [
    "#### We calculate the average number of seats remaining on flights over a given number of days before departure"
   ]
  },
  {
   "cell_type": "code",
   "execution_count": 27,
   "id": "f88b6898",
   "metadata": {
    "scrolled": true
   },
   "outputs": [
    {
     "data": {
      "application/vnd.jupyter.widget-view+json": {
       "model_id": "98db2ec7e5a44beab11c1aca95de222a",
       "version_major": 2,
       "version_minor": 0
      },
      "text/plain": [
       "VBox()"
      ]
     },
     "metadata": {},
     "output_type": "display_data"
    },
    {
     "data": {
      "application/vnd.jupyter.widget-view+json": {
       "model_id": "",
       "version_major": 2,
       "version_minor": 0
      },
      "text/plain": [
       "FloatProgress(value=0.0, bar_style='info', description='Progress:', layout=Layout(height='25px', width='50%'),…"
      ]
     },
     "metadata": {},
     "output_type": "display_data"
    },
    {
     "name": "stdout",
     "output_type": "stream",
     "text": [
      "rddAverageSeatsRemainingEconomy: org.apache.spark.rdd.RDD[(Long, Double)] = MapPartitionsRDD[143] at map at <console>:36\n",
      "rddAverageSeatsRemainingNonEconomy: org.apache.spark.rdd.RDD[(Long, Double)] = MapPartitionsRDD[146] at map at <console>:37\n"
     ]
    }
   ],
   "source": [
    "val rddAverageSeatsRemainingEconomy = rddEconomyFlights.\n",
    "    map(x => (daysBetween(x), x.seatsRemaining)).\n",
    "    aggregateByKey((0.0,0.0))((x,y)=>(x._1+y, x._2 + 1) , (x,y)=>(x._1 + y._1, x._2 + y._2)).\n",
    "    map({case(k,v) => (k, v._1/v._2)})\n",
    "\n",
    "val rddAverageSeatsRemainingNoEconomy = rddNoEconomyFlights.\n",
    "    map(x => (daysBetween(x), x.seatsRemaining)).\n",
    "    aggregateByKey((0.0,0.0))((x,y)=>(x._1+y, x._2 + 1) , (x,y)=>(x._1 + y._1, x._2 + y._2)).\n",
    "    map({case(k,v) => (k, v._1/v._2)})"
   ]
  },
  {
   "cell_type": "markdown",
   "id": "31a182ce",
   "metadata": {},
   "source": [
    "#### We join average ticket prices with average number of remaining seats, and then we save the result on S3 to reuse it"
   ]
  },
  {
   "cell_type": "code",
   "execution_count": 28,
   "id": "3dc1da55",
   "metadata": {
    "scrolled": true
   },
   "outputs": [
    {
     "data": {
      "application/vnd.jupyter.widget-view+json": {
       "model_id": "32d0011c61554c7fa5a315b6d99a8e9f",
       "version_major": 2,
       "version_minor": 0
      },
      "text/plain": [
       "VBox()"
      ]
     },
     "metadata": {},
     "output_type": "display_data"
    },
    {
     "data": {
      "application/vnd.jupyter.widget-view+json": {
       "model_id": "",
       "version_major": 2,
       "version_minor": 0
      },
      "text/plain": [
       "FloatProgress(value=0.0, bar_style='info', description='Progress:', layout=Layout(height='25px', width='50%'),…"
      ]
     },
     "metadata": {},
     "output_type": "display_data"
    },
    {
     "name": "stdout",
     "output_type": "stream",
     "text": [
      "rddEconomyResult: Unit = ()\n",
      "rddNoEconomyResult: Unit = ()\n"
     ]
    }
   ],
   "source": [
    "val rddEconomyResult = rddAverageSeatsRemainingEconomy.join(rddAveragePriceEconomy).\n",
    "    map({case(k,v) => (k, v._1, v._2)}).\n",
    "    coalesce(1).toDF().write.format(\"csv\").mode(SaveMode.Overwrite).save(path_output)\n",
    "val rddNoEconomyResult = rddAverageSeatsRemainingNonEconomy.join(rddAveragePriceNoEconomy).\n",
    "    map({case(k,v) => (k, v._1, v._2)}).\n",
    "    coalesce(1).toDF().write.format(\"csv\").mode(SaveMode.Overwrite).save(path_output)"
   ]
  },
  {
   "cell_type": "markdown",
   "id": "ae53c5b7",
   "metadata": {},
   "source": [
    "#### We calculate the correlation matrix between the attributes AverageSeatsRemaining and AveragePrice"
   ]
  },
  {
   "cell_type": "code",
   "execution_count": 11,
   "id": "b2da3395",
   "metadata": {},
   "outputs": [
    {
     "data": {
      "application/vnd.jupyter.widget-view+json": {
       "model_id": "bfb9d48b1ac84f37a428d561886c2483",
       "version_major": 2,
       "version_minor": 0
      },
      "text/plain": [
       "VBox()"
      ]
     },
     "metadata": {},
     "output_type": "display_data"
    },
    {
     "data": {
      "application/vnd.jupyter.widget-view+json": {
       "model_id": "",
       "version_major": 2,
       "version_minor": 0
      },
      "text/plain": [
       "FloatProgress(value=0.0, bar_style='info', description='Progress:', layout=Layout(height='25px', width='50%'),…"
      ]
     },
     "metadata": {},
     "output_type": "display_data"
    },
    {
     "name": "stdout",
     "output_type": "stream",
     "text": [
      "import org.apache.spark.mllib.stat.Statistics\n",
      "import org.apache.spark.mllib.linalg._\n",
      "economyData: org.apache.spark.rdd.RDD[org.apache.spark.mllib.linalg.Vector] = MapPartitionsRDD[34] at map at <console>:36\n",
      "correlMatrix: org.apache.spark.mllib.linalg.Matrix =\n",
      "1.0                  -0.8847960167193927\n",
      "-0.8847960167193927  1.0\n",
      "nonEconomyData: org.apache.spark.rdd.RDD[org.apache.spark.mllib.linalg.Vector] = MapPartitionsRDD[43] at map at <console>:36\n",
      "correlMatrix: org.apache.spark.mllib.linalg.Matrix =\n",
      "1.0                  -0.5823660225408362\n",
      "-0.5823660225408362  1.0\n"
     ]
    }
   ],
   "source": [
    "import org.apache.spark.mllib.stat.Statistics\n",
    "import org.apache.spark.mllib.linalg._\n",
    "\n",
    "val economyData = rddEconomyResult.map({case(days,(averageSeatsRemaining, averagePrice)) => \n",
    "    Vectors.dense(averageSeatsRemaining, averagePrice)}).cache()\n",
    "val correlMatrixEconomy: Matrix = Statistics.corr(economyData)\n",
    "\n",
    "val noEconomyData = rddNonEconomyResult.map({case(days,(averageSeatsRemaining, averagePrice)) => \n",
    "    Vectors.dense(averageSeatsRemaining, averagePrice)}).cache()\n",
    "val correlMatrixNoEconomy: Matrix = Statistics.corr(noEconomyData)"
   ]
  },
  {
   "cell_type": "markdown",
   "id": "9350efbe",
   "metadata": {},
   "source": [
    "### 2 - Paolo Penazzi\n",
    "\n",
    "We want to identify the cheapest flights departing in a given period, grouped according to the departure airport, calculating the following values:\n",
    "- average price recorded in the 14 days before the departure of direct flights only\n",
    "- previous result compared to the distance traveled by the flight, so we find the flights that take us as far as possible for less money"
   ]
  },
  {
   "cell_type": "markdown",
   "id": "ffc794ec",
   "metadata": {},
   "source": [
    "#### We filter data to obtain searches made in the last 14 days before flight departure and we discard the records for which the value of the travelDistance is equal to 0\n",
    "\n",
    "The filtering operation allows us to reduce the number of records and therefore to optimize subsequent queries."
   ]
  },
  {
   "cell_type": "code",
   "execution_count": 35,
   "id": "bd026c30",
   "metadata": {
    "scrolled": true
   },
   "outputs": [
    {
     "data": {
      "application/vnd.jupyter.widget-view+json": {
       "model_id": "f6becfe6f558409892aa9906709e40a3",
       "version_major": 2,
       "version_minor": 0
      },
      "text/plain": [
       "VBox()"
      ]
     },
     "metadata": {},
     "output_type": "display_data"
    },
    {
     "data": {
      "application/vnd.jupyter.widget-view+json": {
       "model_id": "",
       "version_major": 2,
       "version_minor": 0
      },
      "text/plain": [
       "FloatProgress(value=0.0, bar_style='info', description='Progress:', layout=Layout(height='25px', width='50%'),…"
      ]
     },
     "metadata": {},
     "output_type": "display_data"
    },
    {
     "name": "stdout",
     "output_type": "stream",
     "text": [
      "rddData1WeekBeforeDirectFlight: org.apache.spark.rdd.RDD[FlightData] = MapPartitionsRDD[148] at filter at <console>:45\n"
     ]
    }
   ],
   "source": [
    "val rddFlightsFiltered = rddFlights.\n",
    "    filter(x => daysBetween(x) <= 14).\n",
    "    filter(_.travelDistance != 0).\n",
    "    cache()\n",
    "\n",
    "\"Number of filtered flights: \" + rddFlightsFiltered.count()\n",
    "// "
   ]
  },
  {
   "cell_type": "code",
   "execution_count": 36,
   "id": "2ea9a0a1",
   "metadata": {},
   "outputs": [
    {
     "data": {
      "application/vnd.jupyter.widget-view+json": {
       "model_id": "f7602fc00dab4ac783b5635d45e6c716",
       "version_major": 2,
       "version_minor": 0
      },
      "text/plain": [
       "VBox()"
      ]
     },
     "metadata": {},
     "output_type": "display_data"
    },
    {
     "data": {
      "application/vnd.jupyter.widget-view+json": {
       "model_id": "",
       "version_major": 2,
       "version_minor": 0
      },
      "text/plain": [
       "FloatProgress(value=0.0, bar_style='info', description='Progress:', layout=Layout(height='25px', width='50%'),…"
      ]
     },
     "metadata": {},
     "output_type": "display_data"
    },
    {
     "name": "stdout",
     "output_type": "stream",
     "text": [
      "computeWeek: (flightDate: String)Long\n"
     ]
    }
   ],
   "source": [
    "def computeWeek(flightDate: String): Long = {\n",
    "    val firstDate = LocalDate.parse(\"2022-04-16\");\n",
    "    val actualDate = LocalDate.parse(flightDate);\n",
    "    DAYS.between(firstDate, actualDate)/7.toInt;\n",
    "}\n",
    "    "
   ]
  },
  {
   "cell_type": "code",
   "execution_count": 37,
   "id": "473a341c",
   "metadata": {},
   "outputs": [
    {
     "data": {
      "application/vnd.jupyter.widget-view+json": {
       "model_id": "50192c5c2a874b539f766ebb0d71f029",
       "version_major": 2,
       "version_minor": 0
      },
      "text/plain": [
       "VBox()"
      ]
     },
     "metadata": {},
     "output_type": "display_data"
    },
    {
     "data": {
      "application/vnd.jupyter.widget-view+json": {
       "model_id": "",
       "version_major": 2,
       "version_minor": 0
      },
      "text/plain": [
       "FloatProgress(value=0.0, bar_style='info', description='Progress:', layout=Layout(height='25px', width='50%'),…"
      ]
     },
     "metadata": {},
     "output_type": "display_data"
    },
    {
     "name": "stdout",
     "output_type": "stream",
     "text": [
      "rddFlightsWithPeriod: Array[(String, Long)] = Array((dd4aa677b91bf7189dbfe2bebd4390fa,8), (2ba8ee35da99220fa49c4788ad14e510,15), (ebc67e6882e6edeec41c2bb5ef36af19,15), (b99efbe8fc2fa32d75b161d2ddda65ad,9), (217fa11b56b8e19644a7349b969f5c9d,8), (3701f54e60459dfd11388c996a8e2c3b,17), (082789de8f1692e3a77884655f3c25b5,12), (a32167a41cbb6fd8b37d493f9816523f,11), (a957e5cb8b5208d297da93e2602f4b79,15), (daa584065c234debfdd34ba0ab676b91,10), (ddc74c2434de9a0a9504590399e348cd,17), (d9839b5698275121f5f0c364f54747f8,5), (ad7383eff7fcb51ee0b736e37c975fa5,9), (98075cfdb54d46636f7bcb309c51d38a,12), (3da0dc5274a172779ab142e6bbd97dfa,6), (68e0e1c4db5bf46c75bfd3099da51b5f,25), (8219ab46c02b48b5ca8433ae8cab4389,8), (ca5fc364a652dc89be5ef58d1bda1ff8,28), (f1280ef17b6d4c0d6bd8667c5a10bb54,1), (698e3f140df..."
     ]
    }
   ],
   "source": [
    "val rddFlightsWithPeriod = rddFlightsFiltered.\n",
    "    map(x => (x.flightID, x.flightDate)).\n",
    "    distinct().\n",
    "    map(x => (x._1, computeWeek(x._2))).\n",
    "    collect()\n",
    "    "
   ]
  },
  {
   "cell_type": "code",
   "execution_count": 36,
   "id": "418a3660",
   "metadata": {},
   "outputs": [
    {
     "data": {
      "application/vnd.jupyter.widget-view+json": {
       "model_id": "dcbbaa46ea1f43d1a28fa0d109c78462",
       "version_major": 2,
       "version_minor": 0
      },
      "text/plain": [
       "VBox()"
      ]
     },
     "metadata": {},
     "output_type": "display_data"
    },
    {
     "data": {
      "application/vnd.jupyter.widget-view+json": {
       "model_id": "",
       "version_major": 2,
       "version_minor": 0
      },
      "text/plain": [
       "FloatProgress(value=0.0, bar_style='info', description='Progress:', layout=Layout(height='25px', width='50%'),…"
      ]
     },
     "metadata": {},
     "output_type": "display_data"
    },
    {
     "name": "stdout",
     "output_type": "stream",
     "text": [
      "rddAveragePricePerFlight: org.apache.spark.rdd.RDD[(String, Double)] = MapPartitionsRDD[151] at map at <console>:43\n"
     ]
    }
   ],
   "source": [
    "val rddAveragePricePerFlight = rddFlightsFiltered.\n",
    "    map(x => (x.flightID, x.baseFare)).\n",
    "    aggregateByKey((0.0,0.0))((x,y)=>(x._1+y, x._2 + 1) , (x,y)=>(x._1 + y._1, x._2 + y._2)).\n",
    "    map({case(k,v) => (k, v._1/v._2)})"
   ]
  },
  {
   "cell_type": "code",
   "execution_count": 37,
   "id": "c63fae7e",
   "metadata": {},
   "outputs": [
    {
     "data": {
      "application/vnd.jupyter.widget-view+json": {
       "model_id": "4c848e8d94f24830b18e4ad640e3df61",
       "version_major": 2,
       "version_minor": 0
      },
      "text/plain": [
       "VBox()"
      ]
     },
     "metadata": {},
     "output_type": "display_data"
    },
    {
     "data": {
      "application/vnd.jupyter.widget-view+json": {
       "model_id": "",
       "version_major": 2,
       "version_minor": 0
      },
      "text/plain": [
       "FloatProgress(value=0.0, bar_style='info', description='Progress:', layout=Layout(height='25px', width='50%'),…"
      ]
     },
     "metadata": {},
     "output_type": "display_data"
    },
    {
     "name": "stdout",
     "output_type": "stream",
     "text": [
      "rddAveragePricePerFlightWithDistance: org.apache.spark.rdd.RDD[(String, (Int, Double))] = MapPartitionsRDD[158] at join at <console>:45\n"
     ]
    }
   ],
   "source": [
    "val rddAveragePricePerFlightWithDistance = rddData1WeekBeforeDirectFlight.\n",
    "    map(x => (x.flightID, x.travelDistance)).\n",
    "    distinct().\n",
    "    join(rddAveragePricePerFlight)"
   ]
  },
  {
   "cell_type": "code",
   "execution_count": 38,
   "id": "42bf6d4c",
   "metadata": {},
   "outputs": [
    {
     "data": {
      "application/vnd.jupyter.widget-view+json": {
       "model_id": "cf7b800d5b7c4bf5971e7aa1b9002f0e",
       "version_major": 2,
       "version_minor": 0
      },
      "text/plain": [
       "VBox()"
      ]
     },
     "metadata": {},
     "output_type": "display_data"
    },
    {
     "data": {
      "application/vnd.jupyter.widget-view+json": {
       "model_id": "",
       "version_major": 2,
       "version_minor": 0
      },
      "text/plain": [
       "FloatProgress(value=0.0, bar_style='info', description='Progress:', layout=Layout(height='25px', width='50%'),…"
      ]
     },
     "metadata": {},
     "output_type": "display_data"
    },
    {
     "name": "stdout",
     "output_type": "stream",
     "text": [
      "rddAveragePricePerDistance: org.apache.spark.rdd.RDD[(String, Double)] = MapPartitionsRDD[159] at map at <console>:41\n"
     ]
    }
   ],
   "source": [
    "val rddAveragePricePerDistance = rddAveragePricePerFlightWithDistance.\n",
    "    map({case(x,y) => (x, y._2/y._1)})"
   ]
  },
  {
   "cell_type": "code",
   "execution_count": 39,
   "id": "e04d12c3",
   "metadata": {},
   "outputs": [
    {
     "data": {
      "application/vnd.jupyter.widget-view+json": {
       "model_id": "534ad711355e48cea9d3cea2cdc4872e",
       "version_major": 2,
       "version_minor": 0
      },
      "text/plain": [
       "VBox()"
      ]
     },
     "metadata": {},
     "output_type": "display_data"
    },
    {
     "data": {
      "application/vnd.jupyter.widget-view+json": {
       "model_id": "",
       "version_major": 2,
       "version_minor": 0
      },
      "text/plain": [
       "FloatProgress(value=0.0, bar_style='info', description='Progress:', layout=Layout(height='25px', width='50%'),…"
      ]
     },
     "metadata": {},
     "output_type": "display_data"
    },
    {
     "name": "stdout",
     "output_type": "stream",
     "text": [
      "rddAveragePricePerAirport: org.apache.spark.rdd.RDD[(String, (String, Double))] = MapPartitionsRDD[166] at join at <console>:45\n"
     ]
    }
   ],
   "source": [
    "val rddAveragePricePerAirport = rddData1WeekBeforeDirectFlight.\n",
    "    map(x => (x.flightID, x.startingAirport)).\n",
    "    distinct().\n",
    "    join(rddAveragePricePerDistance)"
   ]
  },
  {
   "cell_type": "code",
   "execution_count": 45,
   "id": "a9cc7440",
   "metadata": {},
   "outputs": [
    {
     "data": {
      "application/vnd.jupyter.widget-view+json": {
       "model_id": "c0f93928dbb949f2bd83246de56b426a",
       "version_major": 2,
       "version_minor": 0
      },
      "text/plain": [
       "VBox()"
      ]
     },
     "metadata": {},
     "output_type": "display_data"
    },
    {
     "data": {
      "application/vnd.jupyter.widget-view+json": {
       "model_id": "",
       "version_major": 2,
       "version_minor": 0
      },
      "text/plain": [
       "FloatProgress(value=0.0, bar_style='info', description='Progress:', layout=Layout(height='25px', width='50%'),…"
      ]
     },
     "metadata": {},
     "output_type": "display_data"
    },
    {
     "name": "stdout",
     "output_type": "stream",
     "text": [
      "rddFinal: org.apache.spark.rdd.RDD[(Double, String)] = ShuffledRDD[181] at sortByKey at <console>:44\n"
     ]
    }
   ],
   "source": [
    "val rddFinal = rddAveragePricePerAirport.\n",
    "    map({case(x,y) => (y._1, y._2)}).\n",
    "    aggregateByKey((0.0,0.0))((x,y)=>(x._1+y, x._2 + 1) , (a,b)=>(a._1 + b._1, a._2 + b._2)).\n",
    "    map({case(k,v) => (v._1/v._2, k)}).\n",
    "    sortByKey()"
   ]
  },
  {
   "cell_type": "code",
   "execution_count": 47,
   "id": "b9ed6857",
   "metadata": {},
   "outputs": [
    {
     "data": {
      "application/vnd.jupyter.widget-view+json": {
       "model_id": "ae1bd5edaa5443959bddc3f3eb54097b",
       "version_major": 2,
       "version_minor": 0
      },
      "text/plain": [
       "VBox()"
      ]
     },
     "metadata": {},
     "output_type": "display_data"
    },
    {
     "data": {
      "application/vnd.jupyter.widget-view+json": {
       "model_id": "",
       "version_major": 2,
       "version_minor": 0
      },
      "text/plain": [
       "FloatProgress(value=0.0, bar_style='info', description='Progress:', layout=Layout(height='25px', width='50%'),…"
      ]
     },
     "metadata": {},
     "output_type": "display_data"
    },
    {
     "name": "stdout",
     "output_type": "stream",
     "text": [
      "df: org.apache.spark.sql.DataFrame = [Airport: double, AvgPricePerDistance: string]\n"
     ]
    }
   ],
   "source": [
    "val df = rddFinal.toDF(\"Airport\", \"AvgPricePerDistance\")"
   ]
  },
  {
   "cell_type": "code",
   "execution_count": 69,
   "id": "822793cb",
   "metadata": {},
   "outputs": [
    {
     "data": {
      "application/vnd.jupyter.widget-view+json": {
       "model_id": "308970c9f31b49e5925f88dd64a19a9c",
       "version_major": 2,
       "version_minor": 0
      },
      "text/plain": [
       "VBox()"
      ]
     },
     "metadata": {},
     "output_type": "display_data"
    },
    {
     "data": {
      "application/vnd.jupyter.widget-view+json": {
       "model_id": "",
       "version_major": 2,
       "version_minor": 0
      },
      "text/plain": [
       "FloatProgress(value=0.0, bar_style='info', description='Progress:', layout=Layout(height='25px', width='50%'),…"
      ]
     },
     "metadata": {},
     "output_type": "display_data"
    },
    {
     "name": "stderr",
     "output_type": "stream",
     "text": [
      "An error was encountered:\n",
      "<console>:38: error: not found: value $ivy\n",
      "       import $ivy.`org.vegas-viz::vegas_2.11:0.3.11`\n",
      "              ^\n",
      "\n"
     ]
    }
   ],
   "source": [
    "import $ivy.`org.vegas-viz::vegas_2.11:0.3.11`\n"
   ]
  },
  {
   "cell_type": "code",
   "execution_count": 65,
   "id": "bf327341",
   "metadata": {},
   "outputs": [
    {
     "data": {
      "application/vnd.jupyter.widget-view+json": {
       "model_id": "8563de51a6d14ced8ed6a079b09b5310",
       "version_major": 2,
       "version_minor": 0
      },
      "text/plain": [
       "VBox()"
      ]
     },
     "metadata": {},
     "output_type": "display_data"
    },
    {
     "data": {
      "application/vnd.jupyter.widget-view+json": {
       "model_id": "",
       "version_major": 2,
       "version_minor": 0
      },
      "text/plain": [
       "FloatProgress(value=0.0, bar_style='info', description='Progress:', layout=Layout(height='25px', width='50%'),…"
      ]
     },
     "metadata": {},
     "output_type": "display_data"
    },
    {
     "name": "stderr",
     "output_type": "stream",
     "text": [
      "An error was encountered:\n",
      "<console>:2: error: '.' expected but ';' found.\n",
      "import `org.vegas-viz:vegas-spark_2.11:0.3.11`\n",
      "^\n",
      "\n"
     ]
    }
   ],
   "source": [
    "import `org.vegas-viz:vegas_2.11:0.3.11`\n",
    "import `org.vegas-viz:vegas-spark_2.11:0.3.11`\n",
    "\n",
    "import vegas._\n",
    "import vegas.render.WindowRenderer._\n",
    "import vegas.sparkExt._\n",
    "\n",
    "Vegas(“Average price/distance per airport”)\n",
    " .withDataFrame(df)\n",
    " .mark(Bar) // Change to .mark(Area)\n",
    " .encodeX(“Airport”, Nom)\n",
    " .encodeY(“AvgPricePerDistance”, Quant)\n",
    " .show"
   ]
  },
  {
   "cell_type": "code",
   "execution_count": null,
   "id": "fc45a4cf",
   "metadata": {},
   "outputs": [],
   "source": []
  }
 ],
 "metadata": {
  "kernelspec": {
   "display_name": "Spark",
   "language": "scala",
   "name": "sparkkernel"
  },
  "language_info": {
   "codemirror_mode": "text/x-scala",
   "file_extension": ".sc",
   "mimetype": "text/x-scala",
   "name": "scala",
   "pygments_lexer": "scala"
  }
 },
 "nbformat": 4,
 "nbformat_minor": 5
}
