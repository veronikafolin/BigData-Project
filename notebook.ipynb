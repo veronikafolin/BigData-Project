{
 "cells": [
  {
   "cell_type": "markdown",
   "id": "cb8e7e8c",
   "metadata": {
    "id": "cb8e7e8c"
   },
   "source": [
    "# Flights Price Analysis \n",
    "\n",
    "The goal of this notebook is to perform some analyses on a dataset containing one-way flights found on Expedia from 2022-04-16 to 2022-10-05  (you can find it at this [link](https://www.kaggle.com/datasets/dilwong/flightprices))."
   ]
  },
  {
   "cell_type": "code",
   "execution_count": 1,
   "id": "6c4ec14c",
   "metadata": {
    "id": "6c4ec14c",
    "outputId": "1ca63c5d-973b-4c1d-f3ce-3a83820473a7",
    "scrolled": true
   },
   "outputs": [
    {
     "data": {
      "text/html": [
       "Current session configs: <tt>{'executorMemory': '8G', 'numExecutors': 2, 'executorCores': 3, 'conf': {'spark.dynamicAllocation.enabled': 'false'}, 'proxyUser': 'assumed-role_voclabs_user2193273_Veronika_Folin', 'kind': 'spark'}</tt><br>"
      ],
      "text/plain": [
       "<IPython.core.display.HTML object>"
      ]
     },
     "metadata": {},
     "output_type": "display_data"
    },
    {
     "data": {
      "text/html": [
       "No active sessions."
      ],
      "text/plain": [
       "<IPython.core.display.HTML object>"
      ]
     },
     "metadata": {},
     "output_type": "display_data"
    }
   ],
   "source": [
    "%%configure -f\n",
    "{\"executorMemory\":\"8G\", \"numExecutors\":2, \"executorCores\":3, \"conf\": {\"spark.dynamicAllocation.enabled\": \"false\"}}"
   ]
  },
  {
   "cell_type": "code",
   "execution_count": 2,
   "id": "885fe425",
   "metadata": {
    "colab": {
     "referenced_widgets": [
      "dfc86314a7fa4b52b3f5cc6e94062476",
      ""
     ]
    },
    "id": "885fe425",
    "outputId": "5b925cac-99c5-45c3-d884-9d0f5f8c36d3",
    "scrolled": false
   },
   "outputs": [
    {
     "data": {
      "application/vnd.jupyter.widget-view+json": {
       "model_id": "81bd172e3ba440d3881d49859a07831e",
       "version_major": 2,
       "version_minor": 0
      },
      "text/plain": [
       "VBox()"
      ]
     },
     "metadata": {},
     "output_type": "display_data"
    },
    {
     "name": "stdout",
     "output_type": "stream",
     "text": [
      "Starting Spark application\n"
     ]
    },
    {
     "data": {
      "text/html": [
       "<table>\n",
       "<tr><th>ID</th><th>YARN Application ID</th><th>Kind</th><th>State</th><th>Spark UI</th><th>Driver log</th><th>User</th><th>Current session?</th></tr><tr><td>0</td><td>application_1678994245204_0001</td><td>spark</td><td>idle</td><td><a target=\"_blank\" href=\"http://ip-172-31-44-135.ec2.internal:20888/proxy/application_1678994245204_0001/\" class=\"emr-proxy-link\" emr-resource=\"j-3N0EAPYNAUHKT\n",
       "\" application-id=\"application_1678994245204_0001\">Link</a></td><td><a target=\"_blank\" href=\"http://ip-172-31-36-2.ec2.internal:8042/node/containerlogs/container_1678994245204_0001_01_000001/livy\" >Link</a></td><td>None</td><td>✔</td></tr></table>"
      ],
      "text/plain": [
       "<IPython.core.display.HTML object>"
      ]
     },
     "metadata": {},
     "output_type": "display_data"
    },
    {
     "data": {
      "application/vnd.jupyter.widget-view+json": {
       "model_id": "",
       "version_major": 2,
       "version_minor": 0
      },
      "text/plain": [
       "FloatProgress(value=0.0, bar_style='info', description='Progress:', layout=Layout(height='25px', width='50%'),…"
      ]
     },
     "metadata": {},
     "output_type": "display_data"
    },
    {
     "name": "stdout",
     "output_type": "stream",
     "text": [
      "SparkSession available as 'spark'.\n"
     ]
    },
    {
     "data": {
      "application/vnd.jupyter.widget-view+json": {
       "model_id": "",
       "version_major": 2,
       "version_minor": 0
      },
      "text/plain": [
       "FloatProgress(value=0.0, bar_style='info', description='Progress:', layout=Layout(height='25px', width='50%'),…"
      ]
     },
     "metadata": {},
     "output_type": "display_data"
    },
    {
     "name": "stdout",
     "output_type": "stream",
     "text": [
      "bucketname: String = unibo-bd2223-vfolin\n"
     ]
    }
   ],
   "source": [
    "val bucketname = \"unibo-bd2223-vfolin\""
   ]
  },
  {
   "cell_type": "code",
   "execution_count": 3,
   "id": "ee420771",
   "metadata": {
    "id": "ee420771"
   },
   "outputs": [
    {
     "data": {
      "application/vnd.jupyter.widget-view+json": {
       "model_id": "3cff28c252934bf0bd65509dc1ab742c",
       "version_major": 2,
       "version_minor": 0
      },
      "text/plain": [
       "VBox()"
      ]
     },
     "metadata": {},
     "output_type": "display_data"
    },
    {
     "data": {
      "application/vnd.jupyter.widget-view+json": {
       "model_id": "",
       "version_major": 2,
       "version_minor": 0
      },
      "text/plain": [
       "FloatProgress(value=0.0, bar_style='info', description='Progress:', layout=Layout(height='25px', width='50%'),…"
      ]
     },
     "metadata": {},
     "output_type": "display_data"
    },
    {
     "name": "stdout",
     "output_type": "stream",
     "text": [
      "import org.apache.spark.storage.StorageLevel\n",
      "import spark.implicits._\n",
      "import java.time.temporal.ChronoUnit.DAYS\n",
      "import java.time.LocalDate\n",
      "import org.apache.spark.sql.SaveMode\n",
      "import org.apache.spark.mllib.stat.Statistics\n",
      "import org.apache.spark.mllib.linalg._\n",
      "import java.util.concurrent.TimeUnit\n"
     ]
    }
   ],
   "source": [
    "/* Required imports */\n",
    "\n",
    "import org.apache.spark.storage.StorageLevel\n",
    "import spark.implicits._\n",
    "import java.time.temporal.ChronoUnit.DAYS\n",
    "import java.time.LocalDate\n",
    "import org.apache.spark.sql.SaveMode\n",
    "import org.apache.spark.mllib.stat.Statistics\n",
    "import org.apache.spark.mllib.linalg._\n",
    "import java.util.concurrent.TimeUnit"
   ]
  },
  {
   "cell_type": "markdown",
   "id": "ee7bafc0",
   "metadata": {
    "id": "ee7bafc0"
   },
   "source": [
    "## Data Preparation\n",
    "\n",
    "We consider the following columns:\n",
    "- flightID: Flight identifier.\n",
    "- searchDate: Date the record was obtained from Expedia.\n",
    "- searchMonth: Month the record was obtained from Expedia.\n",
    "- searchDay: Day the record was obtained from Expedia.\n",
    "- flightDate: The date of the flight.\n",
    "- flightMonth: The month of the flight.\n",
    "- flightDay: The day of the flight.\n",
    "- startingAirport: 3-letter code for the departure airport.\n",
    "- destinationAirport: 3-letter code for the destination airport.\n",
    "- duration: Travel duration in minutes.\n",
    "- isEconomy: Is basic economy?\n",
    "- isRefundable: Is the ticket refundable?\n",
    "- isNonStop: Is the flight non-stop?\n",
    "- baseFare: Price of the ticket (not including taxes).\n",
    "- totalFare: Price of the ticket, including taxes and fees.\n",
    "- seatsRemaining: Number of remaining seats.\n",
    "- travelDistance: The total travel distance in miles."
   ]
  },
  {
   "cell_type": "code",
   "execution_count": 4,
   "id": "01b7adc5",
   "metadata": {
    "colab": {
     "referenced_widgets": [
      "3cd7b5b9b2934c218ca00cd2d2fa253c",
      ""
     ]
    },
    "id": "01b7adc5",
    "outputId": "c1d01e45-c8ce-4a28-c48a-d7fd8da4217e",
    "scrolled": true
   },
   "outputs": [
    {
     "data": {
      "application/vnd.jupyter.widget-view+json": {
       "model_id": "fedf8f41b42a428cbac1e61341f30304",
       "version_major": 2,
       "version_minor": 0
      },
      "text/plain": [
       "VBox()"
      ]
     },
     "metadata": {},
     "output_type": "display_data"
    },
    {
     "data": {
      "application/vnd.jupyter.widget-view+json": {
       "model_id": "",
       "version_major": 2,
       "version_minor": 0
      },
      "text/plain": [
       "FloatProgress(value=0.0, bar_style='info', description='Progress:', layout=Layout(height='25px', width='50%'),…"
      ]
     },
     "metadata": {},
     "output_type": "display_data"
    },
    {
     "name": "stdout",
     "output_type": "stream",
     "text": [
      "defined class FlightData\n",
      "defined object FlightData\n",
      "warning: previously defined class FlightData is not a companion to object FlightData.\n",
      "Companions must be defined together; you may wish to use :paste mode for this.\n",
      "rdd: org.apache.spark.rdd.RDD[String] = s3a://unibo-bd2223-vfolin/datasets/itineraries.csv MapPartitionsRDD[1] at textFile at <console>:41\n",
      "header: String = legId,searchDate,flightDate,startingAirport,destinationAirport,fareBasisCode,travelDuration,elapsedDays,isBasicEconomy,isRefundable,isNonStop,baseFare,totalFare,seatsRemaining,totalTravelDistance,segmentsDepartureTimeEpochSeconds,segmentsDepartureTimeRaw,segmentsArrivalTimeEpochSeconds,segmentsArrivalTimeRaw,segmentsArrivalAirportCode,segmentsDepartureAirportCode,segmentsAirlineName,segmentsAirlineCode,segmentsEquipmentDescription,segmentsDurationInSeconds,segmentsDistance,segmentsCabinCode\n",
      "rddFlights: org.apache.spark.rdd.RDD[FlightData] = MapPartitionsRDD[3] at map at <console>:41\n"
     ]
    }
   ],
   "source": [
    "case class FlightData(\n",
    "    flightID:String,\n",
    "    searchDate:String,\n",
    "    searchMonth:String,\n",
    "    searchDay:String,\n",
    "    flightDate:String,\n",
    "    flightMonth:String,\n",
    "    flightDay:String,\n",
    "    startingAirport:String,\n",
    "    destinationAirport:String,\n",
    "    duration:Int,\n",
    "    isEconomy:Boolean,\n",
    "    isRefundable:Boolean,\n",
    "    isNonStop:Boolean,\n",
    "    baseFare:Double,\n",
    "    totalFare:Double,\n",
    "    seatsRemaining:Int,\n",
    "    travelDistance:Int\n",
    ")\n",
    "\n",
    "object FlightData {\n",
    "\n",
    "    def parse(line:String) = {\n",
    "        val input = line.split(\",\")\n",
    "        val flightID = input(0)\n",
    "        val searchDate = input(1)\n",
    "        val searchMonth = searchDate.substring(5,7)\n",
    "        val searchDay = searchDate.substring(8,10)\n",
    "        val flightDate = input(2)\n",
    "        val flightMonth = flightDate.substring(5,7)\n",
    "        val flightDay = flightDate.substring(8,10)\n",
    "        val startingAirport = input(3)\n",
    "        val destinationAirport = input(4)\n",
    "        val dur = input(6).replace(\"P\",\"\").replace(\"T\",\"\").split(\"D|H|M\").map(x => x.toInt)\n",
    "        val duration = dur.length match {\n",
    "            case 3 => dur(0) * 1440 + dur(1) * 60 + dur(2)\n",
    "            case 2 => dur(0) * 60 + dur(1)\n",
    "            case 1 => dur(0)\n",
    "        }\n",
    "        val isEconomy = input(8).toBoolean\n",
    "        val isRefundable = input(9).toBoolean\n",
    "        val isNonStop = input(10).toBoolean\n",
    "        val baseFare = input(11).toDouble\n",
    "        val totalFare = input(12).toDouble\n",
    "        val seatsRemaining = input(13).toInt\n",
    "        val travelDistance = input(14) match {\n",
    "            case \"\" => 0\n",
    "            case _ => input(14).toInt\n",
    "        }\n",
    "        \n",
    "        new FlightData(flightID,searchDate,searchMonth,searchDay,flightDate,flightMonth,flightDay,startingAirport,\n",
    "                       destinationAirport,duration,isEconomy,isRefundable,isNonStop,baseFare,totalFare,\n",
    "                       seatsRemaining,travelDistance)\n",
    "    }\n",
    "}\n",
    "\n",
    "// Create an RRD from the CSV file.\n",
    "val rdd = sc.textFile(\"s3a://\"+bucketname+\"/datasets/itineraries.csv\")\n",
    "// Extract header from RDD and parse every row.\n",
    "val header = rdd.first(); \n",
    "val rddFlights = rdd.filter(row => row != header).map(FlightData.parse)"
   ]
  },
  {
   "cell_type": "markdown",
   "id": "2c9c44be",
   "metadata": {
    "id": "2c9c44be"
   },
   "source": [
    "#### Cache the dataset to explore the data and perform further analyses\n",
    "\n",
    "If the RDD does not fit in memory, _persist(StorageLevel.MEMORY_AND_DISK)_ stores the partitions that do not fit on disk, and it reads them from there when they are needed."
   ]
  },
  {
   "cell_type": "code",
   "execution_count": 5,
   "id": "085ed62c",
   "metadata": {
    "colab": {
     "referenced_widgets": [
      "064d3c109957449486822c8bb2a6745d",
      ""
     ]
    },
    "id": "085ed62c",
    "outputId": "a0a52af3-e633-44de-bf16-81a174504cd3",
    "scrolled": true
   },
   "outputs": [
    {
     "data": {
      "application/vnd.jupyter.widget-view+json": {
       "model_id": "6c0d271aa28448f4bc350431c0340958",
       "version_major": 2,
       "version_minor": 0
      },
      "text/plain": [
       "VBox()"
      ]
     },
     "metadata": {},
     "output_type": "display_data"
    },
    {
     "data": {
      "application/vnd.jupyter.widget-view+json": {
       "model_id": "",
       "version_major": 2,
       "version_minor": 0
      },
      "text/plain": [
       "FloatProgress(value=0.0, bar_style='info', description='Progress:', layout=Layout(height='25px', width='50%'),…"
      ]
     },
     "metadata": {},
     "output_type": "display_data"
    },
    {
     "name": "stdout",
     "output_type": "stream",
     "text": [
      "res7: rddFlights.type = MapPartitionsRDD[3] at map at <console>:41\n",
      "Number of searches performed: 82138753\n"
     ]
    }
   ],
   "source": [
    "rddFlights.persist(StorageLevel.MEMORY_AND_DISK)\n",
    "println(\"Number of searches performed: \" + rddFlights.count())"
   ]
  },
  {
   "cell_type": "markdown",
   "id": "761f3e12",
   "metadata": {
    "id": "761f3e12"
   },
   "source": [
    "| RDD's name | Number of records | Size | Partitions\n",
    "| ----- | ----- | ----- | ----- |  \n",
    "| rddFlights | 82138753 | 10.8 GB |  927"
   ]
  },
  {
   "cell_type": "markdown",
   "id": "bed34591",
   "metadata": {
    "id": "bed34591"
   },
   "source": [
    "#### Visualize data as a DataFrame"
   ]
  },
  {
   "cell_type": "code",
   "execution_count": null,
   "id": "9841e3ce",
   "metadata": {
    "colab": {
     "referenced_widgets": [
      "27ed023ff865473f85be260c65338050",
      ""
     ]
    },
    "id": "9841e3ce",
    "outputId": "f784b08c-7eec-48c2-b3ad-a76b5e32335b"
   },
   "outputs": [
    {
     "data": {
      "application/vnd.jupyter.widget-view+json": {
       "model_id": "27ed023ff865473f85be260c65338050",
       "version_major": 2,
       "version_minor": 0
      },
      "text/plain": [
       "VBox()"
      ]
     },
     "metadata": {},
     "output_type": "display_data"
    },
    {
     "data": {
      "application/vnd.jupyter.widget-view+json": {
       "model_id": "",
       "version_major": 2,
       "version_minor": 0
      },
      "text/plain": [
       "FloatProgress(value=0.0, bar_style='info', description='Progress:', layout=Layout(height='25px', width='50%'),…"
      ]
     },
     "metadata": {},
     "output_type": "display_data"
    },
    {
     "name": "stdout",
     "output_type": "stream",
     "text": [
      "import spark.implicits._\n",
      "columns: Seq[String] = List(flightID, searchDate, searchMonth, searchDay, flightDate, flightMonth, flightDay, startingAirport, destinationAirport, duration, isEconomy, isRefundable, isNonStop, baseFare, totalFare, seatsRemaining, travelDistance)\n",
      "flightDataframe: org.apache.spark.sql.DataFrame = [flightID: string, searchDate: string ... 15 more fields]\n",
      "-RECORD 0----------------------------------------------\n",
      " flightID           | 9ca0e81111c683bec1012473feefd28f \n",
      " searchDate         | 2022-04-16                       \n",
      " searchMonth        | 04                               \n",
      " searchDay          | 16                               \n",
      " flightDate         | 2022-04-17                       \n",
      " flightMonth        | 04                               \n",
      " flightDay          | 17                               \n",
      " startingAirport    | ATL                              \n",
      " destinationAirport | BOS                              \n",
      " duration           | 149                              \n",
      " isEconomy          | false                            \n",
      " isRefundable       | false                            \n",
      " isNonStop          | true                             \n",
      " baseFare           | 217.67                           \n",
      " totalFare          | 248.6                            \n",
      " seatsRemaining     | 9                                \n",
      " travelDistance     | 947                              \n",
      "-RECORD 1----------------------------------------------\n",
      " flightID           | 98685953630e772a098941b71906592b \n",
      " searchDate         | 2022-04-16                       \n",
      " searchMonth        | 04                               \n",
      " searchDay          | 16                               \n",
      " flightDate         | 2022-04-17                       \n",
      " flightMonth        | 04                               \n",
      " flightDay          | 17                               \n",
      " startingAirport    | ATL                              \n",
      " destinationAirport | BOS                              \n",
      " duration           | 150                              \n",
      " isEconomy          | false                            \n",
      " isRefundable       | false                            \n",
      " isNonStop          | true                             \n",
      " baseFare           | 217.67                           \n",
      " totalFare          | 248.6                            \n",
      " seatsRemaining     | 4                                \n",
      " travelDistance     | 947                              \n",
      "-RECORD 2----------------------------------------------\n",
      " flightID           | 98d90cbc32bfbb05c2fc32897c7c1087 \n",
      " searchDate         | 2022-04-16                       \n",
      " searchMonth        | 04                               \n",
      " searchDay          | 16                               \n",
      " flightDate         | 2022-04-17                       \n",
      " flightMonth        | 04                               \n",
      " flightDay          | 17                               \n",
      " startingAirport    | ATL                              \n",
      " destinationAirport | BOS                              \n",
      " duration           | 150                              \n",
      " isEconomy          | false                            \n",
      " isRefundable       | false                            \n",
      " isNonStop          | true                             \n",
      " baseFare           | 217.67                           \n",
      " totalFare          | 248.6                            \n",
      " seatsRemaining     | 9                                \n",
      " travelDistance     | 947                              \n",
      "only showing top 3 rows\n",
      "\n"
     ]
    }
   ],
   "source": [
    "val columns = Seq(\"flightID\",\n",
    "                  \"searchDate\",\n",
    "                  \"searchMonth\",\n",
    "                  \"searchDay\",\n",
    "                  \"flightDate\",\n",
    "                  \"flightMonth\",\n",
    "                  \"flightDay\",\n",
    "                  \"startingAirport\",\n",
    "                  \"destinationAirport\",\n",
    "                  \"duration\",\n",
    "                  \"isEconomy\",\n",
    "                  \"isRefundable\",\n",
    "                  \"isNonStop\",\n",
    "                  \"baseFare\",\n",
    "                  \"totalFare\",\n",
    "                  \"seatsRemaining\",\n",
    "                  \"travelDistance\")\n",
    "\n",
    "val flightDataframe = rddFlights.toDF(columns:_*)\n",
    "flightDataframe.show(3,truncate=40,vertical=true)"
   ]
  },
  {
   "cell_type": "markdown",
   "id": "1b2d9b98",
   "metadata": {
    "id": "1b2d9b98"
   },
   "source": [
    "#### Define a function to compute the number of days between the searchDate and the flightDate"
   ]
  },
  {
   "cell_type": "code",
   "execution_count": 6,
   "id": "1ffbfe4c",
   "metadata": {
    "colab": {
     "referenced_widgets": [
      "bcc4135600f24ab598ca0302ca020307",
      ""
     ]
    },
    "id": "1ffbfe4c",
    "outputId": "d0810c70-4f47-4878-ae48-136903f83eb8",
    "scrolled": false
   },
   "outputs": [
    {
     "data": {
      "application/vnd.jupyter.widget-view+json": {
       "model_id": "36e573329e3943c4a9d462ef0c1128bf",
       "version_major": 2,
       "version_minor": 0
      },
      "text/plain": [
       "VBox()"
      ]
     },
     "metadata": {},
     "output_type": "display_data"
    },
    {
     "data": {
      "application/vnd.jupyter.widget-view+json": {
       "model_id": "",
       "version_major": 2,
       "version_minor": 0
      },
      "text/plain": [
       "FloatProgress(value=0.0, bar_style='info', description='Progress:', layout=Layout(height='25px', width='50%'),…"
      ]
     },
     "metadata": {},
     "output_type": "display_data"
    },
    {
     "name": "stdout",
     "output_type": "stream",
     "text": [
      "daysBetween: (x: FlightData)Long\n"
     ]
    }
   ],
   "source": [
    "def daysBetween(x: FlightData): Long = {\n",
    "        val searchDate = LocalDate.parse(x.searchDate);\n",
    "        val flightDate = LocalDate.parse(x.flightDate);\n",
    "        val daysBetween = DAYS.between(searchDate, flightDate);\n",
    "        daysBetween\n",
    "}"
   ]
  },
  {
   "cell_type": "markdown",
   "id": "42f9dc77",
   "metadata": {
    "id": "42f9dc77"
   },
   "source": [
    "#### Define a function to identify a certain week in the period of interest with a given number\n",
    "\n",
    "_computeWeek_ is a function that, given a flight, returns the week in which the flight will depart.\n",
    "\n",
    "The first week for which we have data in our dataset will be referred as week **0**."
   ]
  },
  {
   "cell_type": "code",
   "execution_count": 7,
   "id": "6dd6e7db",
   "metadata": {
    "colab": {
     "referenced_widgets": [
      "baaf10a2b90a446abc6469a891a03dd5",
      ""
     ]
    },
    "id": "6dd6e7db",
    "outputId": "6de93f71-97d9-41ee-8461-141c4bd36aef",
    "scrolled": true
   },
   "outputs": [
    {
     "data": {
      "application/vnd.jupyter.widget-view+json": {
       "model_id": "197c56b524f647e9a1123673105a0a62",
       "version_major": 2,
       "version_minor": 0
      },
      "text/plain": [
       "VBox()"
      ]
     },
     "metadata": {},
     "output_type": "display_data"
    },
    {
     "data": {
      "application/vnd.jupyter.widget-view+json": {
       "model_id": "",
       "version_major": 2,
       "version_minor": 0
      },
      "text/plain": [
       "FloatProgress(value=0.0, bar_style='info', description='Progress:', layout=Layout(height='25px', width='50%'),…"
      ]
     },
     "metadata": {},
     "output_type": "display_data"
    },
    {
     "name": "stdout",
     "output_type": "stream",
     "text": [
      "computeWeek: (flightDate: String)Long\n"
     ]
    }
   ],
   "source": [
    "def computeWeek(flightDate: String): Long = {\n",
    "    val firstDate = LocalDate.parse(\"2022-04-16\");\n",
    "    val actualDate = LocalDate.parse(flightDate);\n",
    "    DAYS.between(firstDate, actualDate)/7.toInt;\n",
    "}"
   ]
  },
  {
   "cell_type": "markdown",
   "id": "e8fdf60d",
   "metadata": {
    "id": "e8fdf60d"
   },
   "source": [
    "## Data Exploration"
   ]
  },
  {
   "cell_type": "markdown",
   "id": "76ecdc93",
   "metadata": {
    "id": "76ecdc93"
   },
   "source": [
    "Perform the following queries to explore the dataset:"
   ]
  },
  {
   "cell_type": "code",
   "execution_count": null,
   "id": "4621ceb8",
   "metadata": {
    "colab": {
     "referenced_widgets": [
      "4dbe51f502d041039d178e2035d39e8f",
      ""
     ]
    },
    "id": "4621ceb8",
    "outputId": "7ec7ee8a-d3f1-478b-a7e3-fd5552c11ba7",
    "scrolled": true
   },
   "outputs": [
    {
     "data": {
      "application/vnd.jupyter.widget-view+json": {
       "model_id": "4dbe51f502d041039d178e2035d39e8f",
       "version_major": 2,
       "version_minor": 0
      },
      "text/plain": [
       "VBox()"
      ]
     },
     "metadata": {},
     "output_type": "display_data"
    },
    {
     "data": {
      "application/vnd.jupyter.widget-view+json": {
       "model_id": "",
       "version_major": 2,
       "version_minor": 0
      },
      "text/plain": [
       "FloatProgress(value=0.0, bar_style='info', description='Progress:', layout=Layout(height='25px', width='50%'),…"
      ]
     },
     "metadata": {},
     "output_type": "display_data"
    },
    {
     "name": "stdout",
     "output_type": "stream",
     "text": [
      "rddDistinctFlights: org.apache.spark.rdd.RDD[(String, String, String, Boolean, Boolean, String)] = MapPartitionsRDD[11] at distinct at <console>:33\n",
      "res14: rddDistinctFlights.type = MapPartitionsRDD[11] at distinct at <console>:33\n",
      "Number of distinct flights: 6741921\n"
     ]
    }
   ],
   "source": [
    "val rddDistinctFlights = rddFlights.\n",
    "    map(x => (x.flightID, x.startingAirport, x.flightMonth, x.isNonStop, x.isEconomy, x.destinationAirport)).\n",
    "    distinct()\n",
    "\n",
    "rddDistinctFlights.persist(StorageLevel.MEMORY_AND_DISK)\n",
    "\n",
    "println(\"Number of distinct flights: \" + rddDistinctFlights.count())"
   ]
  },
  {
   "cell_type": "markdown",
   "id": "bcc84d8b",
   "metadata": {
    "id": "bcc84d8b"
   },
   "source": [
    "We save the dataset in memory for further analyses, and we check the memory occupation."
   ]
  },
  {
   "cell_type": "markdown",
   "id": "c0857f1f",
   "metadata": {
    "id": "c0857f1f"
   },
   "source": [
    "| RDD's name | Number of records | Size |  Partitions \n",
    "| ----- | ----- | ----- | ----- |\n",
    "| rddDistinctFlights | 6741921 | 460.9 MB | 927"
   ]
  },
  {
   "cell_type": "code",
   "execution_count": null,
   "id": "109bf983",
   "metadata": {
    "colab": {
     "referenced_widgets": [
      "f65f83ec0d144466b1f7ffd927cb7500",
      ""
     ]
    },
    "id": "109bf983",
    "outputId": "c609d85b-1be4-4526-8190-8d854813e58a"
   },
   "outputs": [
    {
     "data": {
      "application/vnd.jupyter.widget-view+json": {
       "model_id": "f65f83ec0d144466b1f7ffd927cb7500",
       "version_major": 2,
       "version_minor": 0
      },
      "text/plain": [
       "VBox()"
      ]
     },
     "metadata": {},
     "output_type": "display_data"
    },
    {
     "data": {
      "application/vnd.jupyter.widget-view+json": {
       "model_id": "",
       "version_major": 2,
       "version_minor": 0
      },
      "text/plain": [
       "FloatProgress(value=0.0, bar_style='info', description='Progress:', layout=Layout(height='25px', width='50%'),…"
      ]
     },
     "metadata": {},
     "output_type": "display_data"
    },
    {
     "name": "stdout",
     "output_type": "stream",
     "text": [
      "Number of distinct startingAirport: 16\n"
     ]
    }
   ],
   "source": [
    "println(\"Number of distinct startingAirport: \" + rddDistinctFlights.map(x => (x._2)).distinct().count())"
   ]
  },
  {
   "cell_type": "markdown",
   "id": "292e1bc9",
   "metadata": {
    "id": "292e1bc9"
   },
   "source": [
    "| Query | Count |\n",
    "| ----- | ----- | \n",
    "| Number of distinct startingAirport | 16 |"
   ]
  },
  {
   "cell_type": "code",
   "execution_count": null,
   "id": "d08be480",
   "metadata": {
    "colab": {
     "referenced_widgets": [
      "1986a583dbc14ff282225311155313e4",
      ""
     ]
    },
    "id": "d08be480",
    "outputId": "9d908d93-8000-4319-db0f-64338eb0a8a5",
    "scrolled": true
   },
   "outputs": [
    {
     "data": {
      "application/vnd.jupyter.widget-view+json": {
       "model_id": "1986a583dbc14ff282225311155313e4",
       "version_major": 2,
       "version_minor": 0
      },
      "text/plain": [
       "VBox()"
      ]
     },
     "metadata": {},
     "output_type": "display_data"
    },
    {
     "data": {
      "application/vnd.jupyter.widget-view+json": {
       "model_id": "",
       "version_major": 2,
       "version_minor": 0
      },
      "text/plain": [
       "FloatProgress(value=0.0, bar_style='info', description='Progress:', layout=Layout(height='25px', width='50%'),…"
      ]
     },
     "metadata": {},
     "output_type": "display_data"
    },
    {
     "name": "stdout",
     "output_type": "stream",
     "text": [
      "Number of flights by starting airport\n",
      "flightsByAirport: Array[(String, Int)] = Array((LAX,647762), (CLT,439551), (JFK,321474), (BOS,503551), (OAK,322976), (LGA,489480), (ATL,411753), (MIA,386155), (DTW,369802), (PHL,399106), (SFO,568692), (EWR,329291), (ORD,416925), (DEN,359393), (IAD,342082), (DFW,433928))\n"
     ]
    }
   ],
   "source": [
    "println(\"Number of flights by starting airport\")\n",
    "val flightsByAirport = rddDistinctFlights.\n",
    "    map(x => (x._2, 1)).\n",
    "    reduceByKey(_+_).\n",
    "    collect()"
   ]
  },
  {
   "attachments": {
    "flights_per_airport.png": {
     "image/png": "[encoded data removed]"
    }
   },
   "cell_type": "markdown",
   "id": "f064811b",
   "metadata": {
    "id": "f064811b"
   },
   "source": [
    "![flights_per_airport.png](attachment:flights_per_airport.png)"
   ]
  },
  {
   "cell_type": "code",
   "execution_count": null,
   "id": "5d2a4132",
   "metadata": {
    "colab": {
     "referenced_widgets": [
      "c20fed1a0f9a46cf8f3f6f6a4168b25d",
      ""
     ]
    },
    "id": "5d2a4132",
    "outputId": "e8d4b5ad-84ab-4fe9-8f5b-3ff01f9ccddb"
   },
   "outputs": [
    {
     "data": {
      "application/vnd.jupyter.widget-view+json": {
       "model_id": "c20fed1a0f9a46cf8f3f6f6a4168b25d",
       "version_major": 2,
       "version_minor": 0
      },
      "text/plain": [
       "VBox()"
      ]
     },
     "metadata": {},
     "output_type": "display_data"
    },
    {
     "data": {
      "application/vnd.jupyter.widget-view+json": {
       "model_id": "",
       "version_major": 2,
       "version_minor": 0
      },
      "text/plain": [
       "FloatProgress(value=0.0, bar_style='info', description='Progress:', layout=Layout(height='25px', width='50%'),…"
      ]
     },
     "metadata": {},
     "output_type": "display_data"
    },
    {
     "name": "stdout",
     "output_type": "stream",
     "text": [
      "\n",
      "Number of flights by month\n",
      "flightsByMonth: Array[(String, Int)] = Array((04,205745), (05,768008), (06,1022075), (07,1080180), (08,1203901), (09,1192040), (10,880474), (11,389498))\n"
     ]
    }
   ],
   "source": [
    "println(\"Number of flights by month\")\n",
    "val flightsByMonth = rddDistinctFlights.\n",
    "    map(x => (x._3, 1)).\n",
    "    reduceByKey(_+_).\n",
    "    collect()"
   ]
  },
  {
   "attachments": {
    "flightsByMonth.png": {
     "image/png": "[encoded data removed]"
    }
   },
   "cell_type": "markdown",
   "id": "04c6a4b4",
   "metadata": {
    "id": "04c6a4b4"
   },
   "source": [
    "![flightsByMonth.png](attachment:flightsByMonth.png)"
   ]
  },
  {
   "cell_type": "code",
   "execution_count": null,
   "id": "1b64324f",
   "metadata": {
    "colab": {
     "referenced_widgets": [
      "198e7979243f4213898c654b02b8bdc0",
      ""
     ]
    },
    "id": "1b64324f",
    "outputId": "56cb7d84-8c72-4009-e87a-aaf30198982b"
   },
   "outputs": [
    {
     "data": {
      "application/vnd.jupyter.widget-view+json": {
       "model_id": "198e7979243f4213898c654b02b8bdc0",
       "version_major": 2,
       "version_minor": 0
      },
      "text/plain": [
       "VBox()"
      ]
     },
     "metadata": {},
     "output_type": "display_data"
    },
    {
     "data": {
      "application/vnd.jupyter.widget-view+json": {
       "model_id": "",
       "version_major": 2,
       "version_minor": 0
      },
      "text/plain": [
       "FloatProgress(value=0.0, bar_style='info', description='Progress:', layout=Layout(height='25px', width='50%'),…"
      ]
     },
     "metadata": {},
     "output_type": "display_data"
    },
    {
     "name": "stdout",
     "output_type": "stream",
     "text": [
      "\n",
      "Number of routes: 235\n"
     ]
    }
   ],
   "source": [
    "println(\"Number of routes: \" + rddDistinctFlights.map(x => (x._2, x._6)).distinct().count()) "
   ]
  },
  {
   "cell_type": "markdown",
   "id": "0c675db4",
   "metadata": {
    "id": "0c675db4"
   },
   "source": [
    "| Query | Count |\n",
    "| ----- | ----- | \n",
    "| Number of routes  | 235 |"
   ]
  },
  {
   "cell_type": "code",
   "execution_count": null,
   "id": "1efcc96f",
   "metadata": {
    "colab": {
     "referenced_widgets": [
      "ca0756cf7b2d4e35bf97495b10054965",
      ""
     ]
    },
    "id": "1efcc96f",
    "outputId": "925290be-1176-4881-abe6-f2b398398340",
    "scrolled": false
   },
   "outputs": [
    {
     "data": {
      "application/vnd.jupyter.widget-view+json": {
       "model_id": "ca0756cf7b2d4e35bf97495b10054965",
       "version_major": 2,
       "version_minor": 0
      },
      "text/plain": [
       "VBox()"
      ]
     },
     "metadata": {},
     "output_type": "display_data"
    },
    {
     "data": {
      "application/vnd.jupyter.widget-view+json": {
       "model_id": "",
       "version_major": 2,
       "version_minor": 0
      },
      "text/plain": [
       "FloatProgress(value=0.0, bar_style='info', description='Progress:', layout=Layout(height='25px', width='50%'),…"
      ]
     },
     "metadata": {},
     "output_type": "display_data"
    },
    {
     "name": "stdout",
     "output_type": "stream",
     "text": [
      "Number of flights that offer an economy fare: 1189124\n",
      "Number of flights that offer a non economy fare: 5551777\n"
     ]
    }
   ],
   "source": [
    "println(\"Number of flights that offer an economy fare: \" + rddFlights.\n",
    "        filter(x => x.isEconomy).\n",
    "        map(x => x.flightID).\n",
    "        distinct().\n",
    "        count())\n",
    "\n",
    "println(\"Number of flights that offer a non-economy fare: \" + rddFlights.\n",
    "        filter(x => !x.isEconomy).\n",
    "        map(x => x.flightID).\n",
    "        distinct().\n",
    "        count())"
   ]
  },
  {
   "attachments": {
    "economy_flights.png": {
     "image/png": "[encoded data removed]"
    }
   },
   "cell_type": "markdown",
   "id": "d29aed46",
   "metadata": {
    "id": "d29aed46"
   },
   "source": [
    "![economy_flights.png](attachment:economy_flights.png)"
   ]
  },
  {
   "cell_type": "code",
   "execution_count": null,
   "id": "1da0e2c3",
   "metadata": {
    "colab": {
     "referenced_widgets": [
      "c8f91e72cffc46bdbd960e59c51c2c93",
      ""
     ]
    },
    "id": "1da0e2c3",
    "outputId": "db96d229-38ba-4e39-9096-38ce3072a547"
   },
   "outputs": [
    {
     "data": {
      "application/vnd.jupyter.widget-view+json": {
       "model_id": "c8f91e72cffc46bdbd960e59c51c2c93",
       "version_major": 2,
       "version_minor": 0
      },
      "text/plain": [
       "VBox()"
      ]
     },
     "metadata": {},
     "output_type": "display_data"
    },
    {
     "data": {
      "application/vnd.jupyter.widget-view+json": {
       "model_id": "",
       "version_major": 2,
       "version_minor": 0
      },
      "text/plain": [
       "FloatProgress(value=0.0, bar_style='info', description='Progress:', layout=Layout(height='25px', width='50%'),…"
      ]
     },
     "metadata": {},
     "output_type": "display_data"
    },
    {
     "name": "stdout",
     "output_type": "stream",
     "text": [
      "Number of direct flights: 809106\n"
     ]
    }
   ],
   "source": [
    "println(\"Number of direct flights: \" + rddDistinctFlights.filter(x => x._4).count())"
   ]
  },
  {
   "attachments": {
    "type_of_flights-2.png": {
     "image/png": "[encoded data removed]"
    }
   },
   "cell_type": "markdown",
   "id": "f25ffe3e",
   "metadata": {
    "id": "f25ffe3e"
   },
   "source": [
    "![type_of_flights-2.png](attachment:type_of_flights-2.png)"
   ]
  },
  {
   "cell_type": "markdown",
   "id": "f6da0874",
   "metadata": {
    "id": "f6da0874"
   },
   "source": [
    "## Jobs"
   ]
  },
  {
   "cell_type": "code",
   "execution_count": 8,
   "id": "308f503a",
   "metadata": {
    "colab": {
     "referenced_widgets": [
      "da38b54806e0400282e93b058c33b014",
      ""
     ]
    },
    "id": "308f503a",
    "outputId": "524587d6-7336-417f-da15-86c0dd58b468",
    "scrolled": false
   },
   "outputs": [
    {
     "data": {
      "application/vnd.jupyter.widget-view+json": {
       "model_id": "34bfb0fc53cb415cac6beea6403634e9",
       "version_major": 2,
       "version_minor": 0
      },
      "text/plain": [
       "VBox()"
      ]
     },
     "metadata": {},
     "output_type": "display_data"
    },
    {
     "data": {
      "application/vnd.jupyter.widget-view+json": {
       "model_id": "",
       "version_major": 2,
       "version_minor": 0
      },
      "text/plain": [
       "FloatProgress(value=0.0, bar_style='info', description='Progress:', layout=Layout(height='25px', width='50%'),…"
      ]
     },
     "metadata": {},
     "output_type": "display_data"
    },
    {
     "name": "stdout",
     "output_type": "stream",
     "text": [
      "output_path: String = s3a://unibo-bd2223-vfolin/spark/bdexam\n"
     ]
    }
   ],
   "source": [
    "/* We define the output path where our results will be saved */\n",
    "\n",
    "val output_path = \"s3a://\"+bucketname+\"/spark/bdexam\""
   ]
  },
  {
   "cell_type": "markdown",
   "id": "9d3d2e9d",
   "metadata": {
    "id": "9d3d2e9d"
   },
   "source": [
    "### 1 - Veronika Folin\n",
    "\n",
    "#### Objective\n",
    "\n",
    "The change in the ticket price occurring 30 days before flight departure is calculated, dividing the result between economy and non-economy tickets. \\\n",
    "The correlation between the change in price and the number of seats remaining on that flight is then displayed.\n",
    "\n",
    "-------------------------\n",
    "\n",
    "We filter data to obtain searches made in the last 30 days before the flight departure. \\\n",
    "The filtering operation allows us to reduce the number of records.\n",
    "\n",
    "We save the dataset in memory to use it as a starting point for other queries. \\\n",
    "Every time we cache something, we check its memory occupation and the number of partitions it is distributed over."
   ]
  },
  {
   "cell_type": "code",
   "execution_count": 9,
   "id": "38327eb6",
   "metadata": {
    "colab": {
     "referenced_widgets": [
      "0f4788b7d0d646f6bf488b03ab8436ef",
      ""
     ]
    },
    "id": "38327eb6",
    "outputId": "6a50b877-fec9-4cd5-854b-f61f6e59d0b5",
    "scrolled": true
   },
   "outputs": [
    {
     "data": {
      "application/vnd.jupyter.widget-view+json": {
       "model_id": "f8e81c904d61469797f68b6c8e7cffbd",
       "version_major": 2,
       "version_minor": 0
      },
      "text/plain": [
       "VBox()"
      ]
     },
     "metadata": {},
     "output_type": "display_data"
    },
    {
     "data": {
      "application/vnd.jupyter.widget-view+json": {
       "model_id": "",
       "version_major": 2,
       "version_minor": 0
      },
      "text/plain": [
       "FloatProgress(value=0.0, bar_style='info', description='Progress:', layout=Layout(height='25px', width='50%'),…"
      ]
     },
     "metadata": {},
     "output_type": "display_data"
    },
    {
     "name": "stdout",
     "output_type": "stream",
     "text": [
      "rddFlightsFiltered: org.apache.spark.rdd.RDD[FlightData] = MapPartitionsRDD[4] at filter at <console>:40\n",
      "res12: rddFlightsFiltered.type = MapPartitionsRDD[4] at filter at <console>:40\n",
      "res14: String = Number of filtered flights: 47674280\n"
     ]
    }
   ],
   "source": [
    "val rddFlightsFiltered = rddFlights.\n",
    "    filter(x => daysBetween(x) <= 30)\n",
    "\n",
    "rddFlightsFiltered.persist(StorageLevel.MEMORY_AND_DISK)\n",
    "\n",
    "\"Number of filtered flights: \" + rddFlightsFiltered.count() "
   ]
  },
  {
   "cell_type": "markdown",
   "id": "131aed78",
   "metadata": {
    "id": "131aed78"
   },
   "source": [
    "| RDD's name | Number of records | Size | Partitions \n",
    "| ----- | ----- | ----- | ----- | \n",
    "| rddFlightsFiltered | 47674280 | 6.3 GB | 927"
   ]
  },
  {
   "cell_type": "markdown",
   "id": "79d83b72",
   "metadata": {
    "id": "79d83b72"
   },
   "source": [
    "We divide the previous result between economy and non-economy tickets."
   ]
  },
  {
   "cell_type": "code",
   "execution_count": 10,
   "id": "f7f9a9d4",
   "metadata": {
    "colab": {
     "referenced_widgets": [
      "a72e6fa3d07a4da986ddac9b1354577a",
      ""
     ]
    },
    "id": "f7f9a9d4",
    "outputId": "323185c4-35e7-4d5d-f18e-42aef43cad03",
    "scrolled": false
   },
   "outputs": [
    {
     "data": {
      "application/vnd.jupyter.widget-view+json": {
       "model_id": "6209284ecc5c441baf3b0541aec0b3c7",
       "version_major": 2,
       "version_minor": 0
      },
      "text/plain": [
       "VBox()"
      ]
     },
     "metadata": {},
     "output_type": "display_data"
    },
    {
     "data": {
      "application/vnd.jupyter.widget-view+json": {
       "model_id": "",
       "version_major": 2,
       "version_minor": 0
      },
      "text/plain": [
       "FloatProgress(value=0.0, bar_style='info', description='Progress:', layout=Layout(height='25px', width='50%'),…"
      ]
     },
     "metadata": {},
     "output_type": "display_data"
    },
    {
     "name": "stdout",
     "output_type": "stream",
     "text": [
      "rddEconomyFlights: org.apache.spark.rdd.RDD[FlightData] = MapPartitionsRDD[5] at filter at <console>:37\n",
      "res16: rddEconomyFlights.type = MapPartitionsRDD[5] at filter at <console>:37\n",
      "res18: String = Number of economy flights: 6356288\n",
      "rddNoEconomyFlights: org.apache.spark.rdd.RDD[FlightData] = MapPartitionsRDD[6] at filter at <console>:39\n",
      "res22: rddNoEconomyFlights.type = MapPartitionsRDD[6] at filter at <console>:39\n",
      "res24: String = Number of non-economy flights: 41317992\n"
     ]
    }
   ],
   "source": [
    "val rddEconomyFlights = rddFlightsFiltered.filter(_.isEconomy)\n",
    "\n",
    "rddEconomyFlights.persist(StorageLevel.MEMORY_AND_DISK)\n",
    "\n",
    "\"Number of economy flights: \" + rddEconomyFlights.count()\n",
    "\n",
    "\n",
    "val rddNoEconomyFlights = rddFlightsFiltered.filter(!_.isEconomy)\n",
    "\n",
    "rddNoEconomyFlights.persist(StorageLevel.MEMORY_AND_DISK)\n",
    "\n",
    "\"Number of non-economy flights: \" + rddNoEconomyFlights.count() "
   ]
  },
  {
   "cell_type": "markdown",
   "id": "ef1ce130",
   "metadata": {
    "id": "ef1ce130"
   },
   "source": [
    "| RDD's name | Number of records | Size | Partitions \n",
    "| ----- | ----- | ----- | ----- | \n",
    "| rddEconomyFlights | 6356288 | 865.3 MB | 927\n",
    "| rddNoEconomyFlights | 41317992 | 5.4 GB | 927"
   ]
  },
  {
   "cell_type": "markdown",
   "id": "8830da62",
   "metadata": {
    "id": "8830da62"
   },
   "source": [
    "#### Not optimized version\n",
    "\n",
    "An early version of the query is provided below.\n",
    "\n",
    "First of all, we calculate the average ticket price in a given number of days before departure of economy flights. \\\n",
    "Then, we map _rddEconomyFlights_ to a pair of key/value, where the key is the number of days to flight departure and the value is the _baseFare_. \\\n",
    "Afterward, we compute the average price defining an accumulator as a tuple of double: the first value is the sum of the prices in a given number of days before departure and the second value is the number of occurrencies. \\\n",
    "After the aggregation, we perform a map to divide the totalPrice by the numberOfInstances to yield the average price.\n",
    "\n",
    "We conduct similar calculations on the _seatsRemaining_ value to obtain the average number of seats remaining on flights over a given number of days before departure.\n",
    "\n",
    "We join average ticket prices with the average number of remaining seats. \\\n",
    "Then, we save the result on S3 to reuse it and view a graph of the results obtained.\n",
    "\n",
    "Finally, we calculate the correlation matrix between the attributes AverageSeatsRemaining and AveragePrice to assess the relationship between these two attributes."
   ]
  },
  {
   "cell_type": "code",
   "execution_count": 11,
   "id": "28ac7ef1",
   "metadata": {
    "id": "28ac7ef1",
    "scrolled": false
   },
   "outputs": [
    {
     "data": {
      "application/vnd.jupyter.widget-view+json": {
       "model_id": "74bc797275b44bf0a7debc57d3b23605",
       "version_major": 2,
       "version_minor": 0
      },
      "text/plain": [
       "VBox()"
      ]
     },
     "metadata": {},
     "output_type": "display_data"
    },
    {
     "data": {
      "application/vnd.jupyter.widget-view+json": {
       "model_id": "",
       "version_major": 2,
       "version_minor": 0
      },
      "text/plain": [
       "FloatProgress(value=0.0, bar_style='info', description='Progress:', layout=Layout(height='25px', width='50%'),…"
      ]
     },
     "metadata": {},
     "output_type": "display_data"
    },
    {
     "name": "stdout",
     "output_type": "stream",
     "text": [
      "t0: Long = 1874626710206\n",
      "rddAveragePriceEconomy: org.apache.spark.rdd.RDD[(Long, Double)] = MapPartitionsRDD[9] at map at <console>:45\n",
      "rddAverageSeatsRemainingEconomy: org.apache.spark.rdd.RDD[(Long, Double)] = MapPartitionsRDD[12] at map at <console>:45\n",
      "rddEconomyResult: org.apache.spark.rdd.RDD[(Long, Double, Double)] = MapPartitionsRDD[16] at map at <console>:41\n",
      "economyData: org.apache.spark.rdd.RDD[org.apache.spark.mllib.linalg.Vector] = MapPartitionsRDD[22] at map at <console>:38\n",
      "correlMatrixEconomy: org.apache.spark.mllib.linalg.Matrix =\n",
      "1.0                  -0.9055847376663385\n",
      "-0.9055847376663385  1.0\n",
      "t1: Long = 1927010999404\n",
      "Elapsed time: 52.385336883783964 seconds\n"
     ]
    }
   ],
   "source": [
    "/* ECONOMY FLIGHTS */\n",
    "\n",
    "val t0 = System.nanoTime()\n",
    "\n",
    "val rddAveragePriceEconomy = rddEconomyFlights.\n",
    "    map(x => (daysBetween(x), x.baseFare)).\n",
    "    aggregateByKey((0.0,0.0))(\n",
    "        (acc,value)=>(acc._1+value, acc._2 + 1), \n",
    "        (value1,value2)=>(value1._1 + value2._1, value1._2 + value2._2)).\n",
    "    map({case(k,v) => (k, v._1/v._2)})\n",
    "\n",
    "val rddAverageSeatsRemainingEconomy = rddEconomyFlights.\n",
    "    map(x => (daysBetween(x), x.seatsRemaining)).\n",
    "    aggregateByKey((0.0,0.0))(\n",
    "        (acc,value)=>(acc._1+value, acc._2 + 1), \n",
    "        (value1,value2)=>(value1._1 + value2._1, value1._2 + value2._2)).\n",
    "    map({case(k,v) => (k, v._1/v._2)})\n",
    "\n",
    "val rddEconomyResult = rddAverageSeatsRemainingEconomy.join(rddAveragePriceEconomy).\n",
    "    map({case(k,v) => (k, v._1, v._2)})\n",
    "\n",
    "rddEconomyResult.coalesce(1).toDF().write.format(\"csv\").mode(SaveMode.Overwrite).save(output_path)\n",
    "\n",
    "val economyData = rddEconomyResult.map({case(days,averageSeatsRemaining, averagePrice) => \n",
    "    Vectors.dense(averageSeatsRemaining, averagePrice)})\n",
    "val correlMatrixEconomy: Matrix = Statistics.corr(economyData)\n",
    "\n",
    "val t1 = System.nanoTime()\n",
    "println(\"Elapsed time: \" + ((t1 - t0) * 1.00002e-9)  + \" seconds\")"
   ]
  },
  {
   "cell_type": "markdown",
   "id": "a37276db",
   "metadata": {
    "id": "a37276db"
   },
   "source": [
    "The following table reports a summary of the execution of the previous query.\n",
    "\n",
    "| Version | Input data | Input size | Time in seconds\n",
    "| ----- | ----- | ----- | ----- | \n",
    "| Not optimized | EconomyFlights | 865.3 MB | 52.385336883783964"
   ]
  },
  {
   "attachments": {
    "EconomyResultsDiagram.jpg": {
     "image/jpeg": "[encoded data removed]"
    }
   },
   "cell_type": "markdown",
   "id": "9bb02cc3",
   "metadata": {
    "id": "9bb02cc3"
   },
   "source": [
    "We then display a graph showing the trend of the average price (vertical blue bars) and the average remaining seats (labels) over the last 30 days before economy flights.\n",
    "\n",
    "![EconomyResultsDiagram.jpg](attachment:EconomyResultsDiagram.jpg)"
   ]
  },
  {
   "cell_type": "markdown",
   "id": "f699f4c0",
   "metadata": {
    "id": "f699f4c0"
   },
   "source": [
    "Now, we perform the same query on the non-economy flights' data."
   ]
  },
  {
   "cell_type": "code",
   "execution_count": 12,
   "id": "34fc59c4",
   "metadata": {
    "id": "34fc59c4",
    "scrolled": true
   },
   "outputs": [
    {
     "data": {
      "application/vnd.jupyter.widget-view+json": {
       "model_id": "614ed97f417a4e4686c79d57d3b342f6",
       "version_major": 2,
       "version_minor": 0
      },
      "text/plain": [
       "VBox()"
      ]
     },
     "metadata": {},
     "output_type": "display_data"
    },
    {
     "data": {
      "application/vnd.jupyter.widget-view+json": {
       "model_id": "",
       "version_major": 2,
       "version_minor": 0
      },
      "text/plain": [
       "FloatProgress(value=0.0, bar_style='info', description='Progress:', layout=Layout(height='25px', width='50%'),…"
      ]
     },
     "metadata": {},
     "output_type": "display_data"
    },
    {
     "name": "stdout",
     "output_type": "stream",
     "text": [
      "t0: Long = 1928112722185\n",
      "rddAveragePriceNoEconomy: org.apache.spark.rdd.RDD[(Long, Double)] = MapPartitionsRDD[33] at map at <console>:45\n",
      "rddAverageSeatsRemainingNoEconomy: org.apache.spark.rdd.RDD[(Long, Double)] = MapPartitionsRDD[36] at map at <console>:45\n",
      "rddNoEconomyResult: org.apache.spark.rdd.RDD[(Long, Double, Double)] = MapPartitionsRDD[40] at map at <console>:41\n",
      "noEconomyData: org.apache.spark.rdd.RDD[org.apache.spark.mllib.linalg.Vector] = MapPartitionsRDD[46] at map at <console>:38\n",
      "correlMatrixNoEconomy: org.apache.spark.mllib.linalg.Matrix =\n",
      "1.0                  -0.7933229293345507\n",
      "-0.7933229293345507  1.0\n",
      "t1: Long = 2037063052706\n",
      "Elapsed time: 108.95250952761042 seconds\n"
     ]
    }
   ],
   "source": [
    "/* NON-ECONOMY FLIGHTS*/\n",
    "\n",
    "val t0 = System.nanoTime()\n",
    "\n",
    "val rddAveragePriceNoEconomy = rddNoEconomyFlights.\n",
    "    map(x => (daysBetween(x), x.baseFare)).\n",
    "    aggregateByKey((0.0,0.0))(\n",
    "        (acc,value)=>(acc._1+value, acc._2 + 1), \n",
    "        (value1,value2)=>(value1._1 + value2._1, value1._2 + value2._2)).\n",
    "    map({case(k,v) => (k, v._1/v._2)})\n",
    "\n",
    "val rddAverageSeatsRemainingNoEconomy = rddNoEconomyFlights.\n",
    "    map(x => (daysBetween(x), x.seatsRemaining)).\n",
    "    aggregateByKey((0.0,0.0))(\n",
    "        (acc,value)=>(acc._1+value, acc._2 + 1), \n",
    "        (value1,value2)=>(value1._1 + value2._1, value1._2 + value2._2)).\n",
    "    map({case(k,v) => (k, v._1/v._2)})\n",
    "\n",
    "val rddNoEconomyResult = rddAverageSeatsRemainingNoEconomy.join(rddAveragePriceNoEconomy).\n",
    "    map({case(k,v) => (k, v._1, v._2)})\n",
    "\n",
    "rddNoEconomyResult.coalesce(1).toDF().write.format(\"csv\").mode(SaveMode.Overwrite).save(output_path)\n",
    "\n",
    "val noEconomyData = rddNoEconomyResult.map({case(days,averageSeatsRemaining, averagePrice) => \n",
    "    Vectors.dense(averageSeatsRemaining, averagePrice)})\n",
    "val correlMatrixNoEconomy: Matrix = Statistics.corr(noEconomyData)\n",
    "\n",
    "val t1 = System.nanoTime()\n",
    "println(\"Elapsed time: \" + ((t1 - t0) * 1.00002e-9)  + \" seconds\")"
   ]
  },
  {
   "attachments": {
    "noEconomyResultsDiagram.jpg": {
     "image/jpeg": "[encoded data removed]"
    }
   },
   "cell_type": "markdown",
   "id": "2575e909",
   "metadata": {
    "id": "2575e909"
   },
   "source": [
    "We display the same table and graph as before with respect to non-economy flights.\n",
    "\n",
    "| Version | Input data | Input size | Time in seconds\n",
    "| ----- | ----- | ----- | ----- | \n",
    "| Not optimized | NoEconomyFlights | 5.4 GB |  108.95250952761042\n",
    "\n",
    "![noEconomyResultsDiagram.jpg](attachment:noEconomyResultsDiagram.jpg)"
   ]
  },
  {
   "cell_type": "markdown",
   "id": "c08fe607",
   "metadata": {
    "id": "c08fe607"
   },
   "source": [
    "#### Optimized version\n",
    "\n",
    "To optimize the query and reduce execution times, we decided to avoid the creation of two separate datasets and the subsequent join operation.\n",
    "\n",
    "Therefore, we calculate the average ticket price and the average remaining seats in the same _aggregateByKey_ operation, using an accumulator composed of an integer value representing the number of occurrences and a tuple of doubles representing the sum of the remaining seats and the sum of prices. \\\n",
    "The next map will take care of calculating the two averages in one shot."
   ]
  },
  {
   "cell_type": "code",
   "execution_count": 13,
   "id": "d7322053",
   "metadata": {
    "id": "d7322053",
    "scrolled": true
   },
   "outputs": [
    {
     "data": {
      "application/vnd.jupyter.widget-view+json": {
       "model_id": "3406168daed240398f6fd29ad6cd6be8",
       "version_major": 2,
       "version_minor": 0
      },
      "text/plain": [
       "VBox()"
      ]
     },
     "metadata": {},
     "output_type": "display_data"
    },
    {
     "data": {
      "application/vnd.jupyter.widget-view+json": {
       "model_id": "",
       "version_major": 2,
       "version_minor": 0
      },
      "text/plain": [
       "FloatProgress(value=0.0, bar_style='info', description='Progress:', layout=Layout(height='25px', width='50%'),…"
      ]
     },
     "metadata": {},
     "output_type": "display_data"
    },
    {
     "name": "stdout",
     "output_type": "stream",
     "text": [
      "t0: Long = 2037767652907\n",
      "zeroValue: (Int, (Double, Double)) = (0,(0.0,0.0))\n",
      "rddEconomyResult: org.apache.spark.rdd.RDD[(Long, Double, Double)] = MapPartitionsRDD[57] at map at <console>:58\n",
      "economyData: org.apache.spark.rdd.RDD[org.apache.spark.mllib.linalg.Vector] = MapPartitionsRDD[63] at map at <console>:38\n",
      "correlMatrixEconomy: org.apache.spark.mllib.linalg.Matrix =\n",
      "1.0                  -0.9055847376667108\n",
      "-0.9055847376667108  1.0\n",
      "t1: Long = 2076420729265\n",
      "Elapsed time: 38.65384941952716 seconds\n"
     ]
    }
   ],
   "source": [
    "/* ECONOMY FLIGHT */\n",
    "\n",
    "val t0 = System.nanoTime()\n",
    "\n",
    "val zeroValue = (0, (0.0, 0.0))\n",
    "\n",
    "val rddEconomyResult = rddEconomyFlights.\n",
    "    map(x => (daysBetween(x), (x.seatsRemaining, x.baseFare))).\n",
    "    aggregateByKey(zeroValue)(\n",
    "            (tuple, prev) => {\n",
    "                val count = tuple._1 + 1\n",
    "                val seatsRemainingSum = tuple._2._1 + prev._1\n",
    "                val baseFareSum = tuple._2._2 + prev._2\n",
    "                (count, (seatsRemainingSum, baseFareSum))\n",
    "            },\n",
    "            (tuple1, tuple2) => {\n",
    "                val count1 = tuple1._1 + tuple2._1\n",
    "                val seatsRemainingSum1 = tuple1._2._1 + tuple2._2._1\n",
    "                val baseFareSum1 = tuple1._2._2 + tuple2._2._2\n",
    "                (count1, (seatsRemainingSum1, baseFareSum1))\n",
    "            }\n",
    "        ).\n",
    "    map({case(k,(count2, (seatsRemainingSum2, baseFareSum2))) => (k, seatsRemainingSum2/count2, baseFareSum2/count2)})\n",
    "\n",
    "rddEconomyResult.coalesce(1).toDF().write.format(\"csv\").mode(SaveMode.Overwrite).save(output_path)\n",
    "\n",
    "val economyData = rddEconomyResult.map({case(days,averageSeatsRemaining, averagePrice) => \n",
    "     Vectors.dense(averageSeatsRemaining, averagePrice)})\n",
    "\n",
    "val correlMatrixEconomy: Matrix = Statistics.corr(economyData)\n",
    "\n",
    "val t1 = System.nanoTime()\n",
    "println(\"Elapsed time: \" + ((t1 - t0) * 1.00002e-9)  + \" seconds\")"
   ]
  },
  {
   "cell_type": "markdown",
   "id": "1964654e",
   "metadata": {
    "id": "1964654e"
   },
   "source": [
    "The following table reports a comparison between the results and execution times of the optimized and non-optimized version.\n",
    "\n",
    "| Version | Input data | Input size | Time in seconds\n",
    "| ----- | ----- | ----- | ----- | \n",
    "| Not optimized | EconomyFlights | 865.3 MB | 52.385336883783964\n",
    "| Optimized | EconomyFlights | 865.3 MB | 38.65384941952716"
   ]
  },
  {
   "cell_type": "code",
   "execution_count": 14,
   "id": "355c8a66",
   "metadata": {
    "id": "355c8a66",
    "scrolled": false
   },
   "outputs": [
    {
     "data": {
      "application/vnd.jupyter.widget-view+json": {
       "model_id": "d73ce882266347eab73ec3163331e7cd",
       "version_major": 2,
       "version_minor": 0
      },
      "text/plain": [
       "VBox()"
      ]
     },
     "metadata": {},
     "output_type": "display_data"
    },
    {
     "data": {
      "application/vnd.jupyter.widget-view+json": {
       "model_id": "",
       "version_major": 2,
       "version_minor": 0
      },
      "text/plain": [
       "FloatProgress(value=0.0, bar_style='info', description='Progress:', layout=Layout(height='25px', width='50%'),…"
      ]
     },
     "metadata": {},
     "output_type": "display_data"
    },
    {
     "name": "stdout",
     "output_type": "stream",
     "text": [
      "t0: Long = 2078183988058\n",
      "zeroValue: (Int, (Double, Double)) = (0,(0.0,0.0))\n",
      "rddNoEconomyResult: org.apache.spark.rdd.RDD[(Long, Double, Double)] = MapPartitionsRDD[74] at map at <console>:58\n",
      "noEconomyData: org.apache.spark.rdd.RDD[org.apache.spark.mllib.linalg.Vector] = MapPartitionsRDD[80] at map at <console>:38\n",
      "correlMatrixNoEconomy: org.apache.spark.mllib.linalg.Matrix =\n",
      "1.0                  -0.7933229293341164\n",
      "-0.7933229293341164  1.0\n",
      "t1: Long = 2135180610964\n",
      "Elapsed time: 56.99776283845812 seconds\n"
     ]
    }
   ],
   "source": [
    "/* NON-ECONOMY FLIGHTS */\n",
    "\n",
    "val t0 = System.nanoTime()\n",
    "\n",
    "val zeroValue = (0, (0.0, 0.0))\n",
    "\n",
    "val rddNoEconomyResult = rddNoEconomyFlights.\n",
    "    map(x => (daysBetween(x), (x.seatsRemaining, x.baseFare))).\n",
    "    aggregateByKey(zeroValue)(\n",
    "            (tuple, prev) => {\n",
    "                val count = tuple._1 + 1\n",
    "                val seatsRemainingSum = tuple._2._1 + prev._1\n",
    "                val baseFareSum = tuple._2._2 + prev._2\n",
    "                (count, (seatsRemainingSum, baseFareSum))\n",
    "            },\n",
    "            (tuple1, tuple2) => {\n",
    "                val count1 = tuple1._1 + tuple2._1\n",
    "                val seatsRemainingSum1 = tuple1._2._1 + tuple2._2._1\n",
    "                val baseFareSum1 = tuple1._2._2 + tuple2._2._2\n",
    "                (count1, (seatsRemainingSum1, baseFareSum1))\n",
    "            }\n",
    "        ).\n",
    "    map({case(k,(count2, (seatsRemainingSum2, baseFareSum2))) => (k, seatsRemainingSum2/count2, baseFareSum2/count2)})\n",
    "\n",
    "rddNoEconomyResult.coalesce(1).toDF().write.format(\"csv\").mode(SaveMode.Overwrite).save(output_path)\n",
    "\n",
    "val noEconomyData = rddNoEconomyResult.map({case(days,averageSeatsRemaining, averagePrice) => \n",
    "     Vectors.dense(averageSeatsRemaining, averagePrice)})\n",
    "\n",
    "val correlMatrixNoEconomy: Matrix = Statistics.corr(noEconomyData)\n",
    "\n",
    "val t1 = System.nanoTime()\n",
    "println(\"Elapsed time: \" + ((t1 - t0) * 1.00002e-9)  + \" seconds\")"
   ]
  },
  {
   "cell_type": "markdown",
   "id": "4adb1c36",
   "metadata": {
    "id": "4adb1c36"
   },
   "source": [
    "| Version | Input data | Input size | Time in seconds\n",
    "| ----- | ----- | ----- | ----- |\n",
    "| Not optimized | NoEconomyFlights | 5.4 GB | 108.95250952761042\n",
    "| Optimized | NoEconomyFlights | 5.4 GB |  56.99776283845812"
   ]
  },
  {
   "cell_type": "markdown",
   "id": "205eb18e",
   "metadata": {
    "id": "205eb18e"
   },
   "source": [
    "#### Not Optimized version with repartitioning\n",
    "\n",
    "In this section, various tests were performed with methods _coalesce(numPartitions)_ and _repartition(numPartitions)_. \\\n",
    "The first one decreases the number of partitions in the RDD to _numPartitions_ and aggregates them without shuffling; the second one forces a shuffle.\n",
    "\n",
    "The reference query for these tests is the non-optimized one as it is composed of several shuffle operations and dataset repartitioning is useful in these cases."
   ]
  },
  {
   "cell_type": "code",
   "execution_count": 35,
   "id": "3140da5d",
   "metadata": {},
   "outputs": [
    {
     "data": {
      "application/vnd.jupyter.widget-view+json": {
       "model_id": "a36d9350b61f4da7889f71d01a12da79",
       "version_major": 2,
       "version_minor": 0
      },
      "text/plain": [
       "VBox()"
      ]
     },
     "metadata": {},
     "output_type": "display_data"
    },
    {
     "data": {
      "application/vnd.jupyter.widget-view+json": {
       "model_id": "",
       "version_major": 2,
       "version_minor": 0
      },
      "text/plain": [
       "FloatProgress(value=0.0, bar_style='info', description='Progress:', layout=Layout(height='25px', width='50%'),…"
      ]
     },
     "metadata": {},
     "output_type": "display_data"
    },
    {
     "name": "stdout",
     "output_type": "stream",
     "text": [
      "rddEconomyFlightsWithPartitioning: org.apache.spark.rdd.RDD[FlightData] = CoalescedRDD[351] at coalesce at <console>:39\n"
     ]
    }
   ],
   "source": [
    "//val rddEconomyFlightsWithPartitioning = rddEconomyFlights.coalesce(50)\n",
    "//val rddEconomyFlightsWithPartitioning = rddEconomyFlights.coalesce(100)\n",
    "//val rddEconomyFlightsWithPartitioning = rddEconomyFlights.coalesce(200)\n",
    "//val rddEconomyFlightsWithPartitioning = rddEconomyFlights.coalesce(500)\n",
    "\n",
    "//val rddEconomyFlightsWithPartitioning = rddEconomyFlights.repartition(50)\n",
    "//val rddEconomyFlightsWithPartitioning = rddEconomyFlights.repartition(100)\n",
    "//val rddEconomyFlightsWithPartitioning = rddEconomyFlights.repartition(200)\n",
    "val rddEconomyFlightsWithPartitioning = rddEconomyFlights.repartition(500)"
   ]
  },
  {
   "cell_type": "code",
   "execution_count": 36,
   "id": "4b7ebf88",
   "metadata": {
    "id": "28ac7ef1",
    "scrolled": true
   },
   "outputs": [
    {
     "data": {
      "application/vnd.jupyter.widget-view+json": {
       "model_id": "132320c7b1e04a7688e76b81a17d6b0d",
       "version_major": 2,
       "version_minor": 0
      },
      "text/plain": [
       "VBox()"
      ]
     },
     "metadata": {},
     "output_type": "display_data"
    },
    {
     "data": {
      "application/vnd.jupyter.widget-view+json": {
       "model_id": "",
       "version_major": 2,
       "version_minor": 0
      },
      "text/plain": [
       "FloatProgress(value=0.0, bar_style='info', description='Progress:', layout=Layout(height='25px', width='50%'),…"
      ]
     },
     "metadata": {},
     "output_type": "display_data"
    },
    {
     "name": "stdout",
     "output_type": "stream",
     "text": [
      "t0: Long = 5279763316624\n",
      "rddAveragePriceEconomy: org.apache.spark.rdd.RDD[(Long, Double)] = MapPartitionsRDD[354] at map at <console>:45\n",
      "rddAverageSeatsRemainingEconomy: org.apache.spark.rdd.RDD[(Long, Double)] = MapPartitionsRDD[357] at map at <console>:45\n",
      "rddEconomyResult: org.apache.spark.rdd.RDD[(Long, Double, Double)] = MapPartitionsRDD[361] at map at <console>:41\n",
      "economyData: org.apache.spark.rdd.RDD[org.apache.spark.mllib.linalg.Vector] = MapPartitionsRDD[367] at map at <console>:38\n",
      "correlMatrixEconomy: org.apache.spark.mllib.linalg.Matrix =\n",
      "1.0                  -0.9055847376646878\n",
      "-0.9055847376646878  1.0\n",
      "t1: Long = 5287464933330\n",
      "Elapsed time: 7.70177073833412 seconds\n"
     ]
    }
   ],
   "source": [
    "/* ECONOMY FLIGHTS */\n",
    "\n",
    "val t0 = System.nanoTime()\n",
    "\n",
    "val rddAveragePriceEconomy = rddEconomyFlightsWithPartitioning.\n",
    "    map(x => (daysBetween(x), x.baseFare)).\n",
    "    aggregateByKey((0.0,0.0))(\n",
    "        (acc,value)=>(acc._1+value, acc._2 + 1), \n",
    "        (value1,value2)=>(value1._1 + value2._1, value1._2 + value2._2)).\n",
    "    map({case(k,v) => (k, v._1/v._2)})\n",
    "\n",
    "val rddAverageSeatsRemainingEconomy = rddEconomyFlightsWithPartitioning.\n",
    "    map(x => (daysBetween(x), x.seatsRemaining)).\n",
    "    aggregateByKey((0.0,0.0))(\n",
    "        (acc,value)=>(acc._1+value, acc._2 + 1), \n",
    "        (value1,value2)=>(value1._1 + value2._1, value1._2 + value2._2)).\n",
    "    map({case(k,v) => (k, v._1/v._2)})\n",
    "\n",
    "val rddEconomyResult = rddAverageSeatsRemainingEconomy.join(rddAveragePriceEconomy).\n",
    "    map({case(k,v) => (k, v._1, v._2)})\n",
    "\n",
    "rddEconomyResult.coalesce(1).toDF().write.format(\"csv\").mode(SaveMode.Overwrite).save(output_path)\n",
    "\n",
    "val economyData = rddEconomyResult.map({case(days,averageSeatsRemaining, averagePrice) => \n",
    "    Vectors.dense(averageSeatsRemaining, averagePrice)})\n",
    "val correlMatrixEconomy: Matrix = Statistics.corr(economyData)\n",
    "\n",
    "val t1 = System.nanoTime()\n",
    "println(\"Elapsed time: \" + ((t1 - t0) * 1.00002e-9)  + \" seconds\")"
   ]
  },
  {
   "cell_type": "markdown",
   "id": "53ef6fcb",
   "metadata": {},
   "source": [
    "Time taken by the query in the various tests (economy flights version).\n",
    "\n",
    "| Function | Partitions | Time in seconds\n",
    "| ----- | ----- | ----- | \n",
    "| Not optimized | 927 | **52.385336883783964**\n",
    "| Optimized | 927 | **38.65384941952716**\n",
    "| coalesce | 50 | 40.7246175410613\n",
    "| coalesce | 100 | 39.87921792940722\n",
    "| coalesce | 200 | 15.7636917625299\n",
    "| coalesce | 500 | **9.09939426524562**\n",
    "| repartition | 50 | **25.53768504948612**\n",
    "| repartition | 100 | 27.253463983378502\n",
    "| repartition | 200 | 31.37193067206492\n",
    "| repartition | 500 | 46.22257366598466\n",
    "\n",
    "With method _coalesce_, progressively decreasing the number of partitions, times improve significantly. \\\n",
    "This result was obtained after several runs carried out in the same session and the excellent performance can be due to an automatic optimization of Spark.\n",
    "\n",
    "With the _repartition_ method you get better performance by setting a lower number of partitions."
   ]
  },
  {
   "cell_type": "code",
   "execution_count": 51,
   "id": "a546d213",
   "metadata": {},
   "outputs": [
    {
     "data": {
      "application/vnd.jupyter.widget-view+json": {
       "model_id": "47c6bca7a23d4651b8447cb82f1ca5a0",
       "version_major": 2,
       "version_minor": 0
      },
      "text/plain": [
       "VBox()"
      ]
     },
     "metadata": {},
     "output_type": "display_data"
    },
    {
     "data": {
      "application/vnd.jupyter.widget-view+json": {
       "model_id": "",
       "version_major": 2,
       "version_minor": 0
      },
      "text/plain": [
       "FloatProgress(value=0.0, bar_style='info', description='Progress:', layout=Layout(height='25px', width='50%'),…"
      ]
     },
     "metadata": {},
     "output_type": "display_data"
    },
    {
     "name": "stdout",
     "output_type": "stream",
     "text": [
      "rddNoEconomyFlightsWithPartitioning: org.apache.spark.rdd.RDD[FlightData] = MapPartitionsRDD[563] at repartition at <console>:45\n"
     ]
    }
   ],
   "source": [
    "//val rddNoEconomyFlightsWithPartitioning = rddNoEconomyFlights.coalesce(50)\n",
    "//val rddNoEconomyFlightsWithPartitioning = rddNoEconomyFlights.coalesce(100)\n",
    "//val rddNoEconomyFlightsWithPartitioning = rddNoEconomyFlights.coalesce(200)\n",
    "//val rddNoEconomyFlightsWithPartitioning = rddNoEconomyFlights.coalesce(500)\n",
    "\n",
    "//val rddNoEconomyFlightsWithPartitioning = rddNoEconomyFlights.repartition(50)\n",
    "//val rddNoEconomyFlightsWithPartitioning = rddNoEconomyFlights.repartition(100)\n",
    "//val rddNoEconomyFlightsWithPartitioning = rddNoEconomyFlights.repartition(200)\n",
    "val rddNoEconomyFlightsWithPartitioning = rddNoEconomyFlights.repartition(500)"
   ]
  },
  {
   "cell_type": "code",
   "execution_count": 52,
   "id": "585e4dcf",
   "metadata": {
    "id": "34fc59c4",
    "scrolled": true
   },
   "outputs": [
    {
     "data": {
      "application/vnd.jupyter.widget-view+json": {
       "model_id": "b2dd68aa04c047779fbed211d12a46c6",
       "version_major": 2,
       "version_minor": 0
      },
      "text/plain": [
       "VBox()"
      ]
     },
     "metadata": {},
     "output_type": "display_data"
    },
    {
     "data": {
      "application/vnd.jupyter.widget-view+json": {
       "model_id": "",
       "version_major": 2,
       "version_minor": 0
      },
      "text/plain": [
       "FloatProgress(value=0.0, bar_style='info', description='Progress:', layout=Layout(height='25px', width='50%'),…"
      ]
     },
     "metadata": {},
     "output_type": "display_data"
    },
    {
     "name": "stdout",
     "output_type": "stream",
     "text": [
      "t0: Long = 6326163550128\n",
      "rddAveragePriceNoEconomy: org.apache.spark.rdd.RDD[(Long, Double)] = MapPartitionsRDD[566] at map at <console>:45\n",
      "rddAverageSeatsRemainingNoEconomy: org.apache.spark.rdd.RDD[(Long, Double)] = MapPartitionsRDD[569] at map at <console>:45\n",
      "rddNoEconomyResult: org.apache.spark.rdd.RDD[(Long, Double, Double)] = MapPartitionsRDD[573] at map at <console>:41\n",
      "noEconomyData: org.apache.spark.rdd.RDD[org.apache.spark.mllib.linalg.Vector] = MapPartitionsRDD[579] at map at <console>:38\n",
      "correlMatrixNoEconomy: org.apache.spark.mllib.linalg.Matrix =\n",
      "1.0                  -0.7933229293339614\n",
      "-0.7933229293339614  1.0\n",
      "t1: Long = 6587546733780\n",
      "Elapsed time: 261.38841131567307 seconds\n"
     ]
    }
   ],
   "source": [
    "/* NON-ECONOMY FLIGHTS*/\n",
    "\n",
    "val t0 = System.nanoTime()\n",
    "\n",
    "val rddAveragePriceNoEconomy = rddNoEconomyFlightsWithPartitioning.\n",
    "    map(x => (daysBetween(x), x.baseFare)).\n",
    "    aggregateByKey((0.0,0.0))(\n",
    "        (acc,value)=>(acc._1+value, acc._2 + 1), \n",
    "        (value1,value2)=>(value1._1 + value2._1, value1._2 + value2._2)).\n",
    "    map({case(k,v) => (k, v._1/v._2)})\n",
    "\n",
    "val rddAverageSeatsRemainingNoEconomy = rddNoEconomyFlightsWithPartitioning.\n",
    "    map(x => (daysBetween(x), x.seatsRemaining)).\n",
    "    aggregateByKey((0.0,0.0))(\n",
    "        (acc,value)=>(acc._1+value, acc._2 + 1), \n",
    "        (value1,value2)=>(value1._1 + value2._1, value1._2 + value2._2)).\n",
    "    map({case(k,v) => (k, v._1/v._2)})\n",
    "\n",
    "val rddNoEconomyResult = rddAverageSeatsRemainingNoEconomy.join(rddAveragePriceNoEconomy).\n",
    "    map({case(k,v) => (k, v._1, v._2)})\n",
    "\n",
    "rddNoEconomyResult.coalesce(1).toDF().write.format(\"csv\").mode(SaveMode.Overwrite).save(output_path)\n",
    "\n",
    "val noEconomyData = rddNoEconomyResult.map({case(days,averageSeatsRemaining, averagePrice) => \n",
    "    Vectors.dense(averageSeatsRemaining, averagePrice)})\n",
    "val correlMatrixNoEconomy: Matrix = Statistics.corr(noEconomyData)\n",
    "\n",
    "val t1 = System.nanoTime()\n",
    "println(\"Elapsed time: \" + ((t1 - t0) * 1.00002e-9)  + \" seconds\")"
   ]
  },
  {
   "cell_type": "markdown",
   "id": "b0cb4d68",
   "metadata": {},
   "source": [
    "Time taken by the query in the various tests (no-economy flights version).\n",
    "\n",
    "| Function | Partitions | Time in seconds\n",
    "| ----- | ----- | ----- | \n",
    "| Not optimized | 927 | **108.95250952761042**\n",
    "| Optimized | 927 | **56.99776283845812**\n",
    "| coalesce | 50 | 89.73229237395529\n",
    "| coalesce | 100 | **66.23318395618638**\n",
    "| coalesce | 200 | 66.95773944400632\n",
    "| coalesce | 500 | 68.47272697215091\n",
    "| repartition | 50 | **145.6585252912436**\n",
    "| repartition | 100 | 148.77312293195058\n",
    "| repartition | 200 | 153.2336812323324\n",
    "| repartition | 500 | 261.38841131567307\n",
    "\n",
    "In these tests, the _coalesce_ method behaves similarly to the previous experiments, even if the improvements do not improve as significantly.\n",
    "\n",
    "On the other hand, by forcing a fairly small number of partitions with the _repartition_ method, execution times decrease."
   ]
  },
  {
   "cell_type": "markdown",
   "id": "89feeed3",
   "metadata": {
    "id": "89feeed3"
   },
   "source": [
    "### 2 - Paolo Penazzi\n",
    "\n",
    "The goal is to identify the cheapest flights departing in a given period, grouped according to the starting airport, calculating the following values:\n",
    "- The average price recorded in the 7 days before the departure of direct flights only.\n",
    "- The previous result concerning the distance traveled by the flight (the flights that take us as far as possible for less money).\n",
    "- The cheapest airport to travel from, based on the previous result."
   ]
  },
  {
   "cell_type": "markdown",
   "id": "f668c78f",
   "metadata": {
    "id": "f668c78f"
   },
   "source": [
    "Data is filtered to obtain the searches made in the last 14 days before the flight departure. \\\n",
    "We also remove all the flights where the travelDistance is not present. \\\n",
    "The rddSearch is expected to be used several times later on, thus we proceed to cache it. \\\n",
    "The count operation is called to trigger the caching.\n",
    "\n",
    "The memory occupied on the disk is 2.9 GB and the number of record is 21736294.\n",
    "\n",
    "Given the size of the file, we decide to use both the memory and the disk to cache the file. "
   ]
  },
  {
   "cell_type": "code",
   "execution_count": null,
   "id": "93b8d953",
   "metadata": {
    "id": "93b8d953"
   },
   "outputs": [],
   "source": [
    "val rddSearches = rddFlights.\n",
    "    filter(x => daysBetween(x) <= 14).\n",
    "    filter(x => x.travelDistance != 0).\n",
    "    persist(StorageLevel.MEMORY_AND_DISK)\n",
    "\n",
    "val rddSearchesCount = rddSearches.count()"
   ]
  },
  {
   "cell_type": "markdown",
   "id": "343334a6",
   "metadata": {
    "id": "343334a6"
   },
   "source": [
    "First of all, we compute the average price per flight. To this aim, we map the RDD with all the searches to a pair of key/value where the key is the flightID and the value is the fare.\n",
    "\n",
    "Then, we compute the average price: we define an accumulator as a tuple of double, the first value is the sum of the prices of the searches and the second value is the number of occurrencies.\n",
    "\n",
    "After the aggregation, we perform a map to divide the totalPrice by the numberOfInstances to yield the average price."
   ]
  },
  {
   "cell_type": "code",
   "execution_count": null,
   "id": "45f6b3d7",
   "metadata": {
    "id": "45f6b3d7"
   },
   "outputs": [],
   "source": [
    "val rddAveragePricePerFlight = rddSearches.\n",
    "    map(x => (x.flightID, x.baseFare)).\n",
    "    aggregateByKey((0.0,0.0))((acc,v)=>(acc._1 + v, acc._2 + 1) , (x,y)=>(x._1 + y._1, x._2 + y._2)).\n",
    "    map({case(k,v) => (k, (v._1/v._2).toInt)})"
   ]
  },
  {
   "cell_type": "markdown",
   "id": "39038be5",
   "metadata": {
    "id": "39038be5"
   },
   "source": [
    "| Query | Dati in input | Tempo |\n",
    "| ----- | ----- | ----- |\n",
    "| Average Price per Flight   |  2.9 GB  | 80 s |\n",
    "\n",
    "We try to optimize the query by reducing the number of partitions of the RDD."
   ]
  },
  {
   "cell_type": "code",
   "execution_count": null,
   "id": "501c9569",
   "metadata": {
    "id": "501c9569"
   },
   "outputs": [],
   "source": [
    "val rddAveragePricePerFlightCoal = rddSearches.\n",
    "    coalesce(200).\n",
    "    map(x => (x.flightID, x.baseFare)).\n",
    "    aggregateByKey((0.0,0.0))((acc,v)=>(acc._1 + v, acc._2 + 1) , (x,y)=>(x._1 + y._1, x._2 + y._2)).\n",
    "    map({case(k,v) => (k, v._1/v._2)})"
   ]
  },
  {
   "cell_type": "markdown",
   "id": "0407a476",
   "metadata": {
    "id": "0407a476"
   },
   "source": [
    "By reducing the number of partitions, the execution time remains almost the same.\n",
    "\n",
    "| Query | Dati in input | Tempo |\n",
    "| ----- | ----- | ----- |\n",
    "| Average Price per Flight   |  2.9 GB  | 85 s |\n",
    "\n",
    "We will show below the number of flights for each price range."
   ]
  },
  {
   "attachments": {
    "flightsByAvgPrice.png": {
     "image/png": "[encoded data removed]"
    }
   },
   "cell_type": "markdown",
   "id": "75a30ab2",
   "metadata": {
    "id": "75a30ab2"
   },
   "source": [
    "![flightsByAvgPrice.png](attachment:flightsByAvgPrice.png)"
   ]
  },
  {
   "cell_type": "markdown",
   "id": "19575ace",
   "metadata": {
    "id": "19575ace"
   },
   "source": [
    "We now compute a custom 'metric': the price per distance ratio, which indicates the cheapest flights that take us as far as possible. \n",
    "\n",
    "To obtain the result, we define an RDD with each distinct tuple (flightID, travelDistance), and we join it with the rddAveragePricePerFlight previously defined. \n",
    "\n",
    "Finally, we compute the ratio by using a simple map function."
   ]
  },
  {
   "cell_type": "code",
   "execution_count": null,
   "id": "805d9dc2",
   "metadata": {
    "id": "805d9dc2"
   },
   "outputs": [],
   "source": [
    "val rddPricePerDistancePerFlight = rddSearches.\n",
    "    map(x => (x.flightID, x.travelDistance)).\n",
    "    distinct().\n",
    "    join(rddAveragePricePerFlight).\n",
    "    map({case(x,y) => (x, (y._2/y._1)*10000)})"
   ]
  },
  {
   "cell_type": "markdown",
   "id": "17ab0034",
   "metadata": {
    "id": "17ab0034"
   },
   "source": [
    "We define a new RDD that maps each flight to the corresponding departure week, using the function computeWeek() defined previously."
   ]
  },
  {
   "cell_type": "code",
   "execution_count": null,
   "id": "3915002b",
   "metadata": {
    "id": "3915002b"
   },
   "outputs": [],
   "source": [
    "val rddDistinctFlightsWithPeriod = rddSearches.\n",
    "    map(x => (x.flightID, computeWeek(x.flightDate))).\n",
    "    distinct()"
   ]
  },
  {
   "cell_type": "markdown",
   "id": "5427ddb1",
   "metadata": {
    "id": "5427ddb1"
   },
   "source": [
    "The next step is to join the 2 RDDs defined before to have an RDD containing: the flightID, the metric, and the corresponding week. \\\n",
    "Afterward, we perform a map to change the key to the week of the flight. In this way, we can apply a reduceByKey function that keeps only the cheapest flight for each week."
   ]
  },
  {
   "cell_type": "code",
   "execution_count": null,
   "id": "a745a753",
   "metadata": {
    "id": "a745a753"
   },
   "outputs": [],
   "source": [
    "val rddCheapestFlightsPerWeek = rddPricePerDistancePerFlight.\n",
    "    join(rddDistinctFlightsWithPeriod).\n",
    "    map({case(x,y) => (y._2, (y._1, x))}).\n",
    "    reduceByKey({case(x,y) => {x._2 <= y._2 match {\n",
    "                              case true => x\n",
    "                              case false => y}}})"
   ]
  },
  {
   "cell_type": "markdown",
   "id": "5ee08d83",
   "metadata": {
    "id": "5ee08d83"
   },
   "source": [
    "To perform an analysis on the airports, we map each distinct flight to its starting airport, and we join this RDD with the rddPricePerDistancePerFlight defined before."
   ]
  },
  {
   "cell_type": "code",
   "execution_count": null,
   "id": "a9b69b2f",
   "metadata": {
    "id": "a9b69b2f"
   },
   "outputs": [],
   "source": [
    "val rddPricePerDistancePerFlightWithAirport = rddSearches.\n",
    "    map(x => (x.flightID, x.startingAirport)).\n",
    "    distinct().\n",
    "    join(rddPricePerDistancePerFlight)"
   ]
  },
  {
   "cell_type": "markdown",
   "id": "904c87bb",
   "metadata": {
    "id": "904c87bb"
   },
   "source": [
    "We define a new RDD where we remove the flightID, and we aggregate by airport by computing the average price of the flight departing from that airport. \\\n",
    "Then, we sort by the lowest average price,and we save the result in S3."
   ]
  },
  {
   "cell_type": "code",
   "execution_count": null,
   "id": "a742897e",
   "metadata": {
    "id": "a742897e"
   },
   "outputs": [],
   "source": [
    "val t0 = System.nanoTime()\n",
    "\n",
    "val rddCheapestAirports = rddPricePerDistancePerFlightWithAirport.\n",
    "    map({case(x,y) => (y._1, y._2)}).\n",
    "    aggregateByKey((0.0,0.0))((x,y)=>(x._1+y, x._2 + 1) , (a,b)=>(a._1 + b._1, a._2 + b._2)).\n",
    "    map({case(k,v) => (v._1/v._2, k)}).\n",
    "    sortByKey().\n",
    "    coalesce(1).toDF().write.format(\"csv\").mode(SaveMode.Overwrite).save(output_path)\n",
    "\n",
    "val t1 = System.nanoTime()\n",
    "println(\"Elapsed time: \" + ((t1 - t0) * 1.00002e-9) + \" secs\")"
   ]
  },
  {
   "attachments": {
    "pricePerDistanceByAirports.png": {
     "image/png": "[encoded data removed]"
    }
   },
   "cell_type": "markdown",
   "id": "86d2c5ca",
   "metadata": {
    "id": "86d2c5ca"
   },
   "source": [
    "![pricePerDistanceByAirports.png](attachment:pricePerDistanceByAirports.png)"
   ]
  },
  {
   "cell_type": "markdown",
   "id": "bdc20f6b",
   "metadata": {
    "id": "bdc20f6b"
   },
   "source": [
    "The query takes 283 seconds to execute. \\\n",
    "Now, we try to reduce the execution time."
   ]
  },
  {
   "cell_type": "markdown",
   "id": "211f5c99",
   "metadata": {
    "id": "211f5c99"
   },
   "source": [
    "#### Optimization"
   ]
  },
  {
   "cell_type": "markdown",
   "id": "38b44840",
   "metadata": {
    "id": "38b44840"
   },
   "source": [
    "We performed the distinct() operation few times, so we define a new RDD that contains the distinct flights, and we utilize it to make the next steps. \\\n",
    "The next RDDs are the same as above, and we simply redefine them to use the cached RDD."
   ]
  },
  {
   "cell_type": "code",
   "execution_count": null,
   "id": "86670f4d",
   "metadata": {},
   "outputs": [],
   "source": [
    "val rddDistinctFlights = rddSearches.\n",
    "    map(x => (x.flightID, x.flightDate, x.travelDistance, x.startingAirport)).\n",
    "    distinct().\n",
    "    coalesce(500).\n",
    "    persist(StorageLevel.MEMORY_AND_DISK)"
   ]
  },
  {
   "cell_type": "markdown",
   "id": "c6aa8119",
   "metadata": {},
   "source": [
    "We compute the price per distance ratio for each flight in one step of aggregation. \\\n",
    "By doing so we avoid a join between two rdds which is an expensive operation."
   ]
  },
  {
   "cell_type": "code",
   "execution_count": null,
   "id": "92082562",
   "metadata": {},
   "outputs": [],
   "source": [
    "val z = (0, (0.0, 0.0))\n",
    "\n",
    "val rddAveragePricePerFlight = rddSearches.\n",
    "    map(x => (x.flightID, (x.baseFare, x.travelDistance))).\n",
    "    coalesce(500).\n",
    "    aggregateByKey(z)(\n",
    "        (acc, v) => {\n",
    "            val count = acc._1 + 1\n",
    "            val fareSum = acc._2._1 + v._1\n",
    "            val distance = v._2\n",
    "            (count, (fareSum, distance))\n",
    "        }, \n",
    "        (x, y) => {\n",
    "            val count = x._1 + y._1\n",
    "            val fareSum = x._2._1 + y._2._1\n",
    "            val distance = x._2._2\n",
    "            (count, (fareSum, distance))\n",
    "        }).\n",
    "    map({case(k,(count,(fareSum,distance))) => (k, ((fareSum/count)/distance*10000))})"
   ]
  },
  {
   "cell_type": "code",
   "execution_count": null,
   "id": "2b961a6f",
   "metadata": {},
   "outputs": [],
   "source": [
    "val rddDistinctFlightsWithPeriod = rddDistinctFlights.\n",
    "    map(x => (x._1, computeWeek(x._2)))"
   ]
  },
  {
   "cell_type": "code",
   "execution_count": null,
   "id": "9661204a",
   "metadata": {},
   "outputs": [],
   "source": [
    "val rddCheapestFlightsPerWeek = rddAveragePricePerFlight.\n",
    "    join(rddDistinctFlightsWithPeriod).\n",
    "    map({case(x,y) => (y._2, (y._1, x))}). // (week, (price,id))\n",
    "    reduceByKey({case(x,y) => {x._2 <= y._2 match {\n",
    "                              case true => x\n",
    "                              case false => y}}})"
   ]
  },
  {
   "cell_type": "code",
   "execution_count": null,
   "id": "9f669119",
   "metadata": {},
   "outputs": [],
   "source": [
    "val rddPricePerDistancePerFlightWithAirport = rddDistinctFlights.\n",
    "    map(x => (x._1, x._4)).\n",
    "    join(rddAveragePricePerFlight)"
   ]
  },
  {
   "cell_type": "code",
   "execution_count": null,
   "id": "9ae92a90",
   "metadata": {},
   "outputs": [],
   "source": [
    "val t0 = System.nanoTime()\n",
    "\n",
    "val rddCheapestAirports = rddPricePerDistancePerFlightWithAirport.\n",
    "    map({case(k,v) => (v._1, v._2)}).\n",
    "    aggregateByKey((0.0,0.0))((x,y)=>(x._1+y, x._2 + 1) , (a,b)=>(a._1 + b._1, a._2 + b._2)).\n",
    "    map({case(k,v) => (k, (v._1/v._2).toInt)}).\n",
    "    sortByKey().\n",
    "    coalesce(1).toDF().write.format(\"csv\").mode(SaveMode.Overwrite).save(output_path)\n",
    "\n",
    "val t1 = System.nanoTime()\n",
    "println(\"Elapsed time: \" + ((t1 - t0) * 1.00002e-9) + \" secs\")"
   ]
  },
  {
   "cell_type": "markdown",
   "id": "fe06dd8e",
   "metadata": {},
   "source": [
    "We tried different approaches to the optimization, mainly varying the number of partitions and the partitioner. \\\n",
    "To keep the notebook clean, we did not keep all the tests made but only a table with the results. \\\n",
    "In conclusion, the best number of partitions to choose is 30 using the method repartition that forces a shuffle."
   ]
  },
  {
   "cell_type": "markdown",
   "id": "c0c2c803",
   "metadata": {},
   "source": [
    "| Function | Partitions | Time in seconds\n",
    "| ----- | ----- | ----- | \n",
    "| Not optimized | 927 | 283\n",
    "| Optimized | 927 | 259\n",
    "| coalesce | 30 | 224\n",
    "| coalesce | 100 | 216\n",
    "| coalesce | 200 | 229\n",
    "| **repartition** | **30** | **212**\n",
    "| repartition | 100 | 216\n",
    "| repartition | 300 | 229"
   ]
  }
 ],
 "metadata": {
  "colab": {
   "provenance": []
  },
  "kernelspec": {
   "display_name": "Spark",
   "language": "scala",
   "name": "sparkkernel"
  },
  "language_info": {
   "codemirror_mode": "text/x-scala",
   "file_extension": ".sc",
   "mimetype": "text/x-scala",
   "name": "scala",
   "pygments_lexer": "scala"
  }
 },
 "nbformat": 4,
 "nbformat_minor": 5
}
